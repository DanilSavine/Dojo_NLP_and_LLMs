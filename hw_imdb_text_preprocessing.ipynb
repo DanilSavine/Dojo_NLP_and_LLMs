{
  "cells": [
    {
      "cell_type": "markdown",
      "metadata": {
        "id": "view-in-github",
        "colab_type": "text"
      },
      "source": [
        "<a href=\"https://colab.research.google.com/github/DanilSavine/MasterCourse_NLP_and_LLMs/blob/main/hw_imdb_text_preprocessing.ipynb\" target=\"_parent\"><img src=\"https://colab.research.google.com/assets/colab-badge.svg\" alt=\"Open In Colab\"/></a>"
      ]
    },
    {
      "cell_type": "code",
      "execution_count": 92,
      "metadata": {
        "id": "s-8ltYHfbs5B"
      },
      "outputs": [],
      "source": [
        "import pandas as pd\n",
        "from google_drive_downloader import GoogleDriveDownloader as gdd\n",
        "from pathlib import Path\n",
        "from typing import List, Dict\n",
        "from tqdm.notebook import tqdm\n",
        "import numpy as np\n",
        "import matplotlib.pyplot as plt\n",
        "import random\n",
        "import string"
      ]
    },
    {
      "cell_type": "markdown",
      "source": [],
      "metadata": {
        "id": "pvmRl1__tbmO"
      }
    },
    {
      "cell_type": "markdown",
      "metadata": {
        "id": "laDowDK-m6Ag"
      },
      "source": [
        "# HW Instructions\n",
        "\n",
        "## 🚧 Cells\n",
        "All the cells identified with a 🚧 should be completed, either by a code or an written answer.\n",
        "You can add as many cells as you want, but in general cells are already in place.\n",
        "\n",
        "\n",
        "🚧 **TODO** 🚧\n",
        "\n",
        "*Requires to complete a code (can be completed with optional text cells if you find it relevant).*\n",
        "\n",
        "or\n",
        "\n",
        "🚧 **Question** 🚧\n",
        "\n",
        "*Requires a written answer (can be completed with optional code cells if you find it relevant).*\n",
        "\n",
        "## 🔴 Test cells\n",
        "Cells identified with 🔴 should be left untouched and shouldn't return any error.\n",
        "\n",
        "## Presentation\n",
        "The overall presentation of the notebook will account in the grading process.\n",
        "Some advice:\n",
        "- Give title to your figures.\n",
        "- Put legends on the figures.\n",
        "- Comment the figures if they are not self-explanatory.\n",
        "- Add comment in the code if not self-explanatory.\n",
        "- Review your notebook before submitting.\n",
        "- Feel free to add any additional illustration if you find it will bring something.\n",
        "- Remain as concise as possible when answering written answer, emphasize the important points.\n",
        "\n",
        "**We cannot debug every notebooks. The notebook should run entirely from the start to the end without any error. If one cell returns an error during the execution, only the cells before the error will be graded.**\n",
        "\n"
      ]
    },
    {
      "cell_type": "markdown",
      "metadata": {
        "id": "PaBJpPWfW45L"
      },
      "source": [
        "# HW Introduction\n",
        "\n",
        "## Hands on with NLP preprocessing\n",
        "\n",
        "This first TP is here to make you experiment with the first preprocessing steps, necessary but often not emphasized enough.\n",
        "\n",
        "## Plan\n",
        "\n",
        "1. Load the data\n",
        "2. Analyze and clean the text data\n",
        "3. Format the texts for NLP (i.e. tokenize, etc).\n",
        "\n",
        "## Notations\n",
        "\n",
        "Throughout the HW, a text will be called either **document** or **text**.\n",
        "\n",
        "\n",
        "# I - Data loading"
      ]
    },
    {
      "cell_type": "code",
      "execution_count": 93,
      "metadata": {
        "id": "Eri6thqeX_MC"
      },
      "outputs": [],
      "source": [
        "def download_imdb(output_path: str, force_download: bool = False):\n",
        "    \"\"\"Save the data to `output_path`.\"\"\"\n",
        "    output_path = Path(output_path)\n",
        "    if (not output_path.is_file()) or force_download:\n",
        "        gdd.download_file_from_google_drive(\n",
        "            file_id=\"1zfM5E6HvKIe7f3rEt1V2gBpw5QOSSKQz\",\n",
        "            dest_path=output_path,\n",
        "        )\n",
        "    return"
      ]
    },
    {
      "cell_type": "code",
      "execution_count": 94,
      "metadata": {
        "id": "BJ9S1a1jW45M"
      },
      "outputs": [],
      "source": [
        "DATA_PATH = \"data/imdb_reviews.csv\"\n",
        "download_imdb(output_path=DATA_PATH, force_download=False)"
      ]
    },
    {
      "cell_type": "markdown",
      "metadata": {
        "id": "NGT4vDXmZDTT"
      },
      "source": [
        "🚧 **TODO** 🚧\n",
        "\n",
        "Read the file to a Pandas dataframe (the file is stored as a csv). Make sure the \"review\" field is of dtype `string` and label of dtype `int`.\n",
        "\n",
        "Hint: https://pandas.pydata.org/docs/user_guide/text.html (you can specify the `dtype` argument of pandas constructor).\n"
      ]
    },
    {
      "cell_type": "code",
      "execution_count": 95,
      "metadata": {
        "id": "gbQw5TGPha20"
      },
      "outputs": [],
      "source": [
        "df_imdb = pd.read_csv(DATA_PATH, dtype={\"review\": \"string\", \"label\": int})"
      ]
    },
    {
      "cell_type": "code",
      "execution_count": 96,
      "metadata": {
        "id": "CAv44K5tpMHF"
      },
      "outputs": [],
      "source": [
        "text_column = df_imdb[\"review\"]\n",
        "label_column = df_imdb[\"label\"]"
      ]
    },
    {
      "cell_type": "markdown",
      "metadata": {
        "id": "hqaE3bBDpPVK"
      },
      "source": [
        "🔴 **TEST**"
      ]
    },
    {
      "cell_type": "code",
      "execution_count": 97,
      "metadata": {
        "id": "-gMHYuJHcQB5"
      },
      "outputs": [],
      "source": [
        "assert text_column.dtype == \"string\"\n",
        "assert label_column.dtype == int"
      ]
    },
    {
      "cell_type": "markdown",
      "metadata": {
        "id": "EMTjOSWEbM6Q"
      },
      "source": [
        "🚧 **TODO** 🚧\n",
        "\n",
        "Print some values of the dataframe.\n",
        "- Print 3 samples of text.\n",
        "- Print their associated labels.\n",
        "- Print some statistics of the dataset.\n",
        "\n"
      ]
    },
    {
      "cell_type": "code",
      "execution_count": 98,
      "metadata": {
        "id": "-aQ0d6IIgRO_",
        "colab": {
          "base_uri": "https://localhost:8080/"
        },
        "outputId": "df10c281-de53-406f-d3f7-c00982763d55"
      },
      "outputs": [
        {
          "output_type": "stream",
          "name": "stdout",
          "text": [
            "==== 3 first texts ====\n",
            "Once again Mr. Costner has dragged out a movie for far longer than necessary. Aside from the terrific sea rescue sequences, of which there are very few I just did not care about any of the characters. Most of us have ghosts in the closet, and Costner's character are realized early on, and then forgotten until much later, by which time I did not care. The character we should really care about is a very cocky, overconfident Ashton Kutcher. The problem is he comes off as kid who thinks he's better than anyone else around him and shows no signs of a cluttered closet. His only obstacle appears to be winning over Costner. Finally when we are well past the half way point of this stinker, Costner tells us all about Kutcher's ghosts. We are told why Kutcher is driven to be the best with no prior inkling or foreshadowing. No magic here, it was all I could do to keep from turning it off an hour in.\n",
            "This is an example of why the majority of action films are the same. Generic and boring, there's really nothing worth watching here. A complete waste of the then barely-tapped talents of Ice-T and Ice Cube, who've each proven many times over that they are capable of acting, and acting well. Don't bother with this one, go see New Jack City, Ricochet or watch New York Undercover for Ice-T, or Boyz n the Hood, Higher Learning or Friday for Ice Cube and see the real deal. Ice-T's horribly cliched dialogue alone makes this film grate at the teeth, and I'm still wondering what the heck Bill Paxton was doing in this film? And why the heck does he always play the exact same character? From Aliens onward, every film I've seen with Bill Paxton has him playing the exact same irritating character, and at least in Aliens his character died, which made it somewhat gratifying...<br /><br />Overall, this is second-rate action trash. There are countless better films to see, and if you really want to see this one, watch Judgement Night, which is practically a carbon copy but has better acting and a better script. The only thing that made this at all worth watching was a decent hand on the camera - the cinematography was almost refreshing, which comes close to making up for the horrible film itself - but not quite. 4/10.\n",
            "First of all I hate those moronic rappers, who could'nt act if they had a gun pressed against their foreheads. All they do is curse and shoot each other and acting like clichÃ©'e version of gangsters.<br /><br />The movie doesn't take more than five minutes to explain what is going on before we're already at the warehouse There is not a single sympathetic character in this movie, except for the homeless guy, who is also the only one with half a brain.<br /><br />Bill Paxton and William Sadler are both hill billies and Sadlers character is just as much a villain as the gangsters. I did'nt like him right from the start.<br /><br />The movie is filled with pointless violence and Walter Hills specialty: people falling through windows with glass flying everywhere. There is pretty much no plot and it is a big problem when you root for no-one. Everybody dies, except from Paxton and the homeless guy and everybody get what they deserve.<br /><br />The only two black people that can act is the homeless guy and the junkie but they're actors by profession, not annoying ugly brain dead rappers.<br /><br />Stay away from this crap and watch 48 hours 1 and 2 instead. At lest they have characters you care about, a sense of humor and nothing but real actors in the cast.\n",
            "\n",
            "==== Associated labels of the 3 first texts ====\n",
            "0\n",
            "0\n",
            "0\n",
            "\n",
            "=== Dataset statistics ===\n",
            "Number of texts\n",
            "62155\n",
            "\n",
            "Average text length (in characters)\n",
            "1374\n",
            "\n",
            "% of positive texts\n",
            "49.67%\n"
          ]
        }
      ],
      "source": [
        "print(\"==== 3 first texts ====\")\n",
        "for text in text_column[:3]: print(text)\n",
        "\n",
        "\n",
        "print(\"\\n==== Associated labels of the 3 first texts ====\")\n",
        "for label in label_column[:3]: print(label)\n",
        "\n",
        "\n",
        "print(\"\\n=== Dataset statistics ===\")\n",
        "print(\"Number of texts\")\n",
        "print(len(text_column))\n",
        "\n",
        "\n",
        "print(\"\\nAverage text length (in characters)\")\n",
        "average_length = int(np.mean([len(text) for text in text_column]))\n",
        "print(average_length)\n",
        "\n",
        "\n",
        "print(\"\\n% of positive texts\")\n",
        "percentage = (np.sum(label_column) / len(label_column)) * 100\n",
        "print(\"{:.2f}%\".format(percentage))"
      ]
    },
    {
      "cell_type": "code",
      "source": [
        "# Histogram for distribution of text lengths:\n",
        "lengths = [len(text) for text in text_column]\n",
        "plt.figure(figsize=(10, 6))\n",
        "plt.hist(lengths, bins=100, color='blue', alpha=0.7)\n",
        "plt.title('Distribution of Text Lengths')\n",
        "plt.xlabel('Text Length')\n",
        "plt.ylabel('Number of Texts')\n",
        "plt.grid(axis='y')\n",
        "plt.show()"
      ],
      "metadata": {
        "colab": {
          "base_uri": "https://localhost:8080/",
          "height": 564
        },
        "id": "DRaz1ZAao3Vw",
        "outputId": "918f5579-78f5-498c-d32a-a755cec59918"
      },
      "execution_count": 99,
      "outputs": [
        {
          "output_type": "display_data",
          "data": {
            "text/plain": [
              "<Figure size 1000x600 with 1 Axes>"
            ],
            "image/png": "[encoded data removed]"
          },
          "metadata": {}
        }
      ]
    },
    {
      "cell_type": "markdown",
      "metadata": {
        "id": "ON1bQK5jhz4E"
      },
      "source": [
        "## II - Clean and format the data.\n",
        "For this first TP, we want to focus on very simple tasks.\n",
        "Therefore, we want to avoid as much as possible rare and uncommon words that will be considered as outliers.\n",
        "\n",
        "We will try to figure out what kind of cleaning we can perform, by having a look at the data.\n",
        "\n",
        "The plan for this part will be:\n",
        "1. Split the strings as a list of words.\n",
        "2. Find the outliers in the corpus.\n",
        "3. Propose some methods to clean them."
      ]
    },
    {
      "cell_type": "markdown",
      "metadata": {
        "id": "5XLRgi5giy_g"
      },
      "source": [
        "### 1. Tokenization\n",
        "First, we will split our texts into words.\n",
        "Splitting a string into a list of smaller substrings is called **tokenization**, and the substrings are called **tokens**.\n",
        "\n",
        "The simplest way to tokenize a text is to split it by words, according to whitespaces.\n",
        "\n",
        "Then, each word encountered in the training set is stored and uniquely identified through an id.\n",
        "\n"
      ]
    },
    {
      "cell_type": "markdown",
      "metadata": {
        "id": "H-HLOTivIfSP"
      },
      "source": [
        "🚧 **Question** 🚧\n",
        "\n",
        "By doing so, we put a huge emphasis on words within documents.\n",
        "\n",
        "a) Intuitively, why is it relevant? For instance compare to splitting by character.\n",
        "\n",
        "b) Cite some methods discussed during the course that rely on word-based representations of documents.\n",
        "\n",
        "**Answer**\n",
        "\n",
        "a) Intuitevely, words carry semantics so they might carry positive or negative signals helpful to classify reviews. For example, \"amazing\" would be more meaningful semantically than the presence its individual letters.\n",
        "\n",
        "b) Word-based respresentations methods are used in bag-of-words, TF-IDF, and pre-training of word embeddings. These representations are then used in classifiers such as logistic regression or (convolutional) neural networks.  "
      ]
    },
    {
      "cell_type": "markdown",
      "metadata": {
        "id": "jYwJDXAUIc7C"
      },
      "source": [
        "🚧 **TODO** 🚧\n",
        "\n",
        "Implement a tokenizer based on whitespace splitting. For now, the tokenizer should only be able to store each unique word found in the dataset."
      ]
    },
    {
      "cell_type": "code",
      "execution_count": 100,
      "metadata": {
        "id": "791KTHn9W45N"
      },
      "outputs": [],
      "source": [
        "class WhiteSpaceTokenizer:\n",
        "    def __init__(self):\n",
        "        # The vocabulary will store the mapping between text tokens and their id.\n",
        "        self.vocab = {}\n",
        "        self.id_to_token = {}\n",
        "\n",
        "        # We will keep track of the number of times a word appears in the corpus.\n",
        "        self.frequencies = {}\n",
        "\n",
        "    def split_text(self, text: str) -> List[str]:\n",
        "        \"\"\"Converts the text to a list of tokens (substrings).\"\"\"\n",
        "        return text.split(sep = \" \")\n",
        "\n",
        "    def fit(self, corpus: List[str]):\n",
        "        \"\"\"Fits the tokenizer to a list of texts to construct its vocabulary.\"\"\"\n",
        "        current_id = 0\n",
        "        for text in tqdm(corpus):\n",
        "\n",
        "            # Split into substrings.\n",
        "            list_tokens = self.split_text(text)\n",
        "\n",
        "            for token in list_tokens:\n",
        "\n",
        "                # Add the token to the vocabulary\n",
        "                token_id = self.vocab.get(token, None)\n",
        "\n",
        "                token_not_in_vocab = token_id is None\n",
        "                if token_not_in_vocab:\n",
        "                    self.vocab[token] = current_id\n",
        "                    self.id_to_token[current_id] = token\n",
        "                    self.frequencies[current_id] = 0\n",
        "                    token_id = current_id\n",
        "                    current_id += 1\n",
        "\n",
        "                self.frequencies[token_id] += 1\n",
        "\n",
        "        # Total number of words in vocab.\n",
        "        self.num_words = len(self.vocab)\n",
        "        print(f\"Built a vocabulary of {self.num_words} words.\")"
      ]
    },
    {
      "cell_type": "markdown",
      "metadata": {
        "id": "geTlVAEGpa4n"
      },
      "source": [
        "🔴 **TEST**"
      ]
    },
    {
      "cell_type": "code",
      "execution_count": 101,
      "metadata": {
        "id": "joZuRcZ7nc3N",
        "colab": {
          "base_uri": "https://localhost:8080/",
          "height": 67,
          "referenced_widgets": [
            "558273ad9dd142beb2dc7e2ebde5be78",
            "c14388d89e1949efb827793c9fbfba3b",
            "cd252f82c16546ac8c6dde9f0b74a6fd",
            "2cbd5525e64041bebe5fd1956337c73e",
            "c994df9afcea418d9b95a337c2759da8",
            "5a64817c5ead47ddad933499cb14ba2d",
            "8130932ea62b4b579d11d48505aec001",
            "4260b4b9f6104d74b67fa6c5d64fdec5",
            "9f20850b45964ce39d355328eaf2f445",
            "316713d5ea994d3685ed80f091837f1a",
            "bf182e00acbf4d7abd21e61a5af9ccbe"
          ]
        },
        "outputId": "dcea95e5-1e0e-43bd-9cfa-6d76a00fb49f"
      },
      "outputs": [
        {
          "output_type": "display_data",
          "data": {
            "text/plain": [
              "  0%|          | 0/2 [00:00<?, ?it/s]"
            ],
            "application/vnd.jupyter.widget-view+json": {
              "version_major": 2,
              "version_minor": 0,
              "model_id": "558273ad9dd142beb2dc7e2ebde5be78"
            }
          },
          "metadata": {}
        },
        {
          "output_type": "stream",
          "name": "stdout",
          "text": [
            "Built a vocabulary of 3 words.\n"
          ]
        }
      ],
      "source": [
        "toy_corpus = [\"a cat\", \"a dog\"]\n",
        "tokenizer = WhiteSpaceTokenizer()\n",
        "tokenizer.fit(toy_corpus)\n",
        "assert tokenizer.vocab == {\"a\": 0, \"cat\": 1, \"dog\": 2}\n",
        "assert tokenizer.frequencies == {0: 2, 1: 1, 2: 1}\n",
        "assert tokenizer.num_words == 3"
      ]
    },
    {
      "cell_type": "markdown",
      "metadata": {
        "id": "fct0L_9EoGWT"
      },
      "source": [
        "🚧 **TODO** 🚧\n",
        "\n",
        "Fits the tokenizer on the imdb reviews."
      ]
    },
    {
      "cell_type": "code",
      "execution_count": 102,
      "metadata": {
        "id": "59qiHgwmmcfB",
        "colab": {
          "base_uri": "https://localhost:8080/",
          "height": 67,
          "referenced_widgets": [
            "02b5ec6bd93f4d32816ade0ebc279cc8",
            "c846847d87b64e0e9053fda1b26fdc56",
            "26d6a1be4cf946a6a8fe4dd98595025d",
            "84c284f070344174a735d546b1ace03b",
            "c73c25727e484f18a27ccd9fff3e2b4c",
            "1e86b0bd48e149199c4037db074cf96c",
            "3e99f90bf3ca4020aac695e820e73ca4",
            "e6e6d9eb0c3b4505842b7e63a3dc50cc",
            "136153c60b1f46b28cb1f0607bb1f944",
            "42d4167168f441aab81b852b762002ca",
            "0b4e62edffa344b5a60a23375f604d99"
          ]
        },
        "outputId": "bbb89fe8-43ec-46e9-ca33-5e07a66c9a66"
      },
      "outputs": [
        {
          "output_type": "display_data",
          "data": {
            "text/plain": [
              "  0%|          | 0/62155 [00:00<?, ?it/s]"
            ],
            "application/vnd.jupyter.widget-view+json": {
              "version_major": 2,
              "version_minor": 0,
              "model_id": "02b5ec6bd93f4d32816ade0ebc279cc8"
            }
          },
          "metadata": {}
        },
        {
          "output_type": "stream",
          "name": "stdout",
          "text": [
            "Built a vocabulary of 475277 words.\n"
          ]
        }
      ],
      "source": [
        "tokenizer = WhiteSpaceTokenizer()\n",
        "tokenizer.fit(text_column)"
      ]
    },
    {
      "cell_type": "markdown",
      "metadata": {
        "id": "LHBeN-x-2fhB"
      },
      "source": [
        "### 2. Noise analysis"
      ]
    },
    {
      "cell_type": "markdown",
      "metadata": {
        "id": "3H-GBNNVobV8"
      },
      "source": [
        "🚧 **TODO** 🚧\n",
        "\n",
        "Print 50 random tokens."
      ]
    },
    {
      "cell_type": "code",
      "execution_count": 103,
      "metadata": {
        "id": "AI2knE7em9HT",
        "colab": {
          "base_uri": "https://localhost:8080/"
        },
        "outputId": "cfeffd7a-4bea-4f8b-be86-fb09f82bfa50"
      },
      "outputs": [
        {
          "output_type": "stream",
          "name": "stdout",
          "text": [
            "[\"'pulled\", 'blush(except', 'Orhan', 'dude!).', '(1987)', 'bedsheets', 'up!There', 'modern-dress', 'elephant-sized', '2022\".', 'tripe,<br', 'percent-proof', '(Ten', 'file.<br', 'music)is', 'branded,', 'suck\\\\\"..', 'ants.', 'matrimonial', 'observations,', 'skid', '/>Winchester', 'proposing.', 'provocation.', 'flying--how', '\\\\tribute\\\\\"', 'prue', 'disengaging,', 'fill-every-moment-of-silence-with-', '/>\"Water', 'intruded.', '\"twang\"', 'awe-inspiring.', 'wrangler.', 'Gwangi.', 'African.', 'who?\",', 'Mann!', 'squabbling.', 'M.G.M.', 'programed', 'Italianpseudo-intellectuals', 'prestigious,', 'theaters.<br', 'Left', 'attackers,', 'eager-to-please', 'Boy...', 'DeLuxe', 'certain...oh,']\n"
          ]
        },
        {
          "output_type": "stream",
          "name": "stderr",
          "text": [
            "<ipython-input-103-2c610d8e7078>:1: DeprecationWarning: Sampling from a set deprecated\n",
            "since Python 3.9 and will be removed in a subsequent version.\n",
            "  print(random.sample(tokenizer.vocab.keys(), 50))\n"
          ]
        }
      ],
      "source": [
        "print(random.sample(tokenizer.vocab.keys(), 50))\n"
      ]
    },
    {
      "cell_type": "markdown",
      "metadata": {
        "id": "buQNo3ZsrXq4"
      },
      "source": [
        "🚧 **QUESTION** 🚧\n",
        "\n",
        "What do you think of the tokens? Do they look like simple \"words\" as expected?\n",
        "\n",
        "Analyze the noise and explain why we got such weird vocabulary.\n",
        "\n",
        "**Answer**\n",
        "\n",
        "No they don't look like simple words. We have a lot of additional characters that might not carry semantic meaning like HTML tags, punctuation, etc. This comes from the fact that we have used only the space for the split.\n",
        "Probably the issue comes from data acquisition."
      ]
    },
    {
      "cell_type": "markdown",
      "metadata": {
        "id": "bbt1bQ2SsK4l"
      },
      "source": [
        "### 3. Cleaning\n",
        "\n",
        "🚧 **TODO** 🚧\n",
        "\n",
        "You are going to implement some of the classical cleaning methods.\n",
        "1. Lower case the string.\n",
        "2. String normalization, i.e., replace accentuated characters by standard version (\"â -> a\") (hint: https://stackoverflow.com/a/14121678).\n",
        "3. Remove non alpha-numeric characters (use Python regex package `re`).\n",
        "4. Replace numeric characters by the token `'<NUM>'` (use the package `re`).\n",
        "5. Remove double whitespaces (use the package `re`).\n"
      ]
    },
    {
      "cell_type": "code",
      "execution_count": 104,
      "metadata": {
        "id": "orSU21XPfBhL"
      },
      "outputs": [],
      "source": [
        "import unicodedata\n",
        "import re"
      ]
    },
    {
      "cell_type": "code",
      "execution_count": 105,
      "metadata": {
        "id": "Y5EqoG1dsWMv"
      },
      "outputs": [],
      "source": [
        "def preprocess_text(text: str) -> str:\n",
        "    # lower case\n",
        "    text = text.lower()\n",
        "    # string normalization.\n",
        "    text = unicodedata.normalize('NFD', text).encode('ascii', 'ignore').decode(\"utf-8\")\n",
        "    # remove non alpha numeric characters.\n",
        "    text = re.sub(r\"[^a-zA-Z0-9]\", ' ', text)\n",
        "    # replace numbers by the <NUM> token.\n",
        "    text = re.sub(r\"\\d+\", '<NUM>', text)\n",
        "    # remove double whitespaces.\n",
        "    text = re.sub(r\"\\s+\", ' ', text).strip()\n",
        "    return text"
      ]
    },
    {
      "cell_type": "code",
      "source": [
        "noisy_text = \"Ï   lîved  in.  San-Françisco...  ! for 12 years.\"\n",
        "clean_text = \"i lived in san francisco for <NUM> years\"\n",
        "print(preprocess_text(noisy_text))\n",
        "assert preprocess_text(noisy_text) == clean_text"
      ],
      "metadata": {
        "colab": {
          "base_uri": "https://localhost:8080/"
        },
        "id": "JNXZGpFbYR7A",
        "outputId": "05c46ba6-ba89-4401-f922-768f3a4215b2"
      },
      "execution_count": 106,
      "outputs": [
        {
          "output_type": "stream",
          "name": "stdout",
          "text": [
            "i lived in san francisco for <NUM> years\n"
          ]
        }
      ]
    },
    {
      "cell_type": "markdown",
      "metadata": {
        "id": "yiAbpQrbptvH"
      },
      "source": [
        "🔴 **TEST**"
      ]
    },
    {
      "cell_type": "code",
      "execution_count": 107,
      "metadata": {
        "id": "cfmJ1GDzy7-f"
      },
      "outputs": [],
      "source": [
        "noisy_text = \"Ï   lîved  in    San-Françisco...  ! for 12 years.\"\n",
        "clean_text = \"i lived in san francisco for <NUM> years\"\n",
        "assert preprocess_text(noisy_text) == clean_text"
      ]
    },
    {
      "cell_type": "markdown",
      "metadata": {
        "id": "LkO-jZPY0mDy"
      },
      "source": [
        "🚧 **TODO** 🚧\n",
        "\n",
        "Add column `clean_review` to the dataframe, with the clean text.\n",
        "\n",
        "Store the `clean_review` column to the variable `clean_column`."
      ]
    },
    {
      "cell_type": "code",
      "execution_count": 108,
      "metadata": {
        "id": "tMO7SaQO0uSr"
      },
      "outputs": [],
      "source": [
        "# Applying preprocessing to the reviews\n",
        "df_imdb[\"clean_review\"] = df_imdb[\"review\"].apply(preprocess_text)\n",
        "\n",
        "clean_column = df_imdb[\"clean_review\"]"
      ]
    },
    {
      "cell_type": "code",
      "source": [
        "clean_column"
      ],
      "metadata": {
        "colab": {
          "base_uri": "https://localhost:8080/"
        },
        "id": "XqJTI1SvYloX",
        "outputId": "07372011-dc8a-4551-8469-9a391a4ca55f"
      },
      "execution_count": 109,
      "outputs": [
        {
          "output_type": "execute_result",
          "data": {
            "text/plain": [
              "0        once again mr costner has dragged out a movie ...\n",
              "1        this is an example of why the majority of acti...\n",
              "2        first of all i hate those moronic rappers who ...\n",
              "3        not even the beatles could write songs everyon...\n",
              "4        brass pictures movies is not a fitting word fo...\n",
              "                               ...                        \n",
              "62150    i am a student of film and have been for sever...\n",
              "62151    unimaginably stupid redundant and humiliating ...\n",
              "62152    guy is a loser can t get girls needs to build ...\n",
              "62153    this <NUM> minute documentary bunuel made in t...\n",
              "62154    i saw this movie as a child and it broke my he...\n",
              "Name: clean_review, Length: 62155, dtype: object"
            ]
          },
          "metadata": {},
          "execution_count": 109
        }
      ]
    },
    {
      "cell_type": "markdown",
      "metadata": {
        "id": "M0Dl9i7X1JWb"
      },
      "source": [
        "🚧 **TODO** 🚧\n",
        "\n",
        "Run the tokenizer on the clean text and print 50 random tokens."
      ]
    },
    {
      "cell_type": "code",
      "execution_count": 110,
      "metadata": {
        "id": "koSGantW1SL1",
        "colab": {
          "base_uri": "https://localhost:8080/",
          "height": 67,
          "referenced_widgets": [
            "46cd756d8d4b4b2ba54c2096c4d0e264",
            "ab1d345dd3ea49a6a401879c6563a683",
            "96c84d44c50c4b7daec4376b54c4bbca",
            "bbddbdbff65448fdab227d3797903084",
            "2bf39af4e6f74d5c825ec9bf62994ca4",
            "b176aa5d752d4d6790bd27b3510dde80",
            "bf076a3853574f668dfa84f66d7d2f08",
            "b1f3437c3af547f8ac1848e5d9732955",
            "0512800b6a9a4f73b44b24cf50fe9607",
            "75fa709813834282ad4c6877061da9db",
            "3670b15118fc4f6392cf8a5938649016"
          ]
        },
        "outputId": "67e9d695-f9a9-4ac9-fe10-47138f37de32"
      },
      "outputs": [
        {
          "output_type": "display_data",
          "data": {
            "text/plain": [
              "  0%|          | 0/62155 [00:00<?, ?it/s]"
            ],
            "application/vnd.jupyter.widget-view+json": {
              "version_major": 2,
              "version_minor": 0,
              "model_id": "46cd756d8d4b4b2ba54c2096c4d0e264"
            }
          },
          "metadata": {}
        },
        {
          "output_type": "stream",
          "name": "stdout",
          "text": [
            "Built a vocabulary of 101917 words.\n"
          ]
        }
      ],
      "source": [
        "tokenizer = WhiteSpaceTokenizer()\n",
        "tokenizer.fit(clean_column)"
      ]
    },
    {
      "cell_type": "code",
      "execution_count": 111,
      "metadata": {
        "id": "DJlHz9Sw1c56",
        "colab": {
          "base_uri": "https://localhost:8080/"
        },
        "outputId": "96679f77-034a-41b0-df63-d9b2e5a18a10"
      },
      "outputs": [
        {
          "output_type": "stream",
          "name": "stdout",
          "text": [
            "['hotwired', 'oy', 'argo', 'qualita', 'patronizing', 'politions', 'resented', 'sena', 'digiview', 'babbled', 'poc', 'nogami', 'kreshner', 'scapinelli', 'bagatelle', 'flippers', 'colostomy', 'quells', 'sooon', 'jape', 'necessitated', 'meriting', 'tendence', 'unselfishness', 'gabriels', 'cooperates', 'stewed', 'kamanglish', 'gnp', 'ctgsr', 'barc', 'bhatts', 'compact', 'shyam', 'arrondissement', 'stammer', 'meethi', 'gerbils', 'insumaintable', 'dali', 'euthanize', 'deodatto', 'mumber', 'momoselle', 'deane', 'hypesters', 'lufft', 'waining', 'suarez', 'oppressively']\n"
          ]
        },
        {
          "output_type": "stream",
          "name": "stderr",
          "text": [
            "<ipython-input-111-2c610d8e7078>:1: DeprecationWarning: Sampling from a set deprecated\n",
            "since Python 3.9 and will be removed in a subsequent version.\n",
            "  print(random.sample(tokenizer.vocab.keys(), 50))\n"
          ]
        }
      ],
      "source": [
        "print(random.sample(tokenizer.vocab.keys(), 50))"
      ]
    },
    {
      "cell_type": "markdown",
      "metadata": {
        "id": "Sq8CzSBw1vsI"
      },
      "source": [
        "🚧 **Question** 🚧\n",
        "\n",
        "What do you think of the new tokens? Are they better? What common noise still remain? (Feel free to print more tokens to get a better intuition).\n",
        "\n",
        "Suggest some methods to improve again the tokenization (at least 2), based on either these results or on something you think we could have done better.\n",
        "\n",
        "**Answer**\n",
        "\n",
        "There remains noise in the form of:\n",
        "* Typos or simply different spellings of the same word (e.g. british vs. american english)\n",
        "* Lack of space between words that should have spaces (e.g. filmovie)\n",
        "* Conjugation of verbs and plural forms (e.g. watched, watching, watches)\n",
        "* Different langages (some of the words are in german)\n",
        "\n",
        "To improve the results we could\n",
        "* Introduce a spell checker\n",
        "* Perform stemming, especially to deal with conjugated verbs or plurals\n",
        "* Introduce a method to deal with contraced forms like I'm or Can't\n",
        "\n"
      ]
    },
    {
      "cell_type": "markdown",
      "metadata": {
        "id": "ohqx368M2ZiG"
      },
      "source": [
        "### Tokens analysis\n",
        "\n",
        "\n",
        "🚧 **TODO** 🚧\n",
        "\n",
        "Show the frequencies repartition.\n",
        "This should be a histogram, with 100 bins, with the frequencies on the x axis and the number of words associated to the frequencies on the y axis (see https://matplotlib.org/stable/api/_as_gen/matplotlib.pyplot.hist.html).\n",
        "\n",
        "Use logarithm scale for y."
      ]
    },
    {
      "cell_type": "code",
      "execution_count": 112,
      "metadata": {
        "id": "r8N76FrE3fyt",
        "colab": {
          "base_uri": "https://localhost:8080/",
          "height": 564
        },
        "outputId": "bd85b278-21dc-475f-c0ff-1713aa2c60af"
      },
      "outputs": [
        {
          "output_type": "display_data",
          "data": {
            "text/plain": [
              "<Figure size 1000x600 with 1 Axes>"
            ],
            "image/png": "[encoded data removed]"
          },
          "metadata": {}
        }
      ],
      "source": [
        "plt.figure(figsize=(10, 6))\n",
        "plt.hist(tokenizer.frequencies.values(), bins=100, log=True, color='skyblue', edgecolor='black')\n",
        "plt.title('Word Frequencies Repartition')\n",
        "plt.xlabel('Frequency of Words')\n",
        "plt.ylabel('Number of Words')\n",
        "plt.grid(axis='y')\n",
        "plt.show()"
      ]
    },
    {
      "cell_type": "markdown",
      "metadata": {
        "id": "qX-WtALB8mam"
      },
      "source": [
        "🚧 **Question** 🚧\n",
        "\n",
        "What do you think of the repartition?\n",
        "\n",
        "**Answer**\n",
        "\n",
        "The repartition is skewed towards 0, with a lot of wors only present once. We could either not use them or spend more time working on the preprocessing (to correct spelling, use stemming)\n",
        "Also we have some words that are outliers, with more than 300k occurancies. These might be words such as \"a\", \"the\", etc. that might not carry a lot of meaning for our task>  \n"
      ]
    },
    {
      "cell_type": "markdown",
      "metadata": {
        "id": "zXXq8T04fRYM"
      },
      "source": [
        "🚧 **TODO** 🚧\n",
        "\n",
        "Plot the frequencies repartition. Find the best corresponding Zipf law (seen during the course) and plot it on the same figure."
      ]
    },
    {
      "cell_type": "code",
      "execution_count": 113,
      "metadata": {
        "id": "PJeJUqQe_jfo",
        "colab": {
          "base_uri": "https://localhost:8080/",
          "height": 569
        },
        "outputId": "00a33898-86bf-4b37-a77b-75c88f346ef4"
      },
      "outputs": [
        {
          "output_type": "display_data",
          "data": {
            "text/plain": [
              "<Figure size 1000x600 with 1 Axes>"
            ],
            "image/png": "[encoded data removed]"
          },
          "metadata": {}
        }
      ],
      "source": [
        "# Sort word frequencies from high to low\n",
        "sorted_frequencies = sorted(list(tokenizer.frequencies.values()), reverse=True)\n",
        "\n",
        "# Rank the word frequencies\n",
        "ranks = np.arange(1, len(sorted_frequencies) + 1)\n",
        "\n",
        "# The value of c is the frequency of the most common word\n",
        "c = sorted_frequencies[0]\n",
        "\n",
        "# Predict frequencies using Zipf's law\n",
        "predicted_frequencies = c / ranks\n",
        "\n",
        "plt.figure(figsize=(10, 6))\n",
        "\n",
        "plt.loglog(ranks, sorted_frequencies, marker='o', linestyle='', label='Actual Frequencies', color='blue')\n",
        "plt.loglog(ranks, predicted_frequencies, linestyle='-', label=\"Zipf's Law\", color='red')\n",
        "\n",
        "plt.title('Word Frequencies and Zipf\\'s Law')\n",
        "plt.xlabel('Rank')\n",
        "plt.ylabel('Frequency')\n",
        "plt.legend()\n",
        "plt.grid(True)\n",
        "plt.show()"
      ]
    },
    {
      "cell_type": "markdown",
      "metadata": {
        "id": "FB--kpAVE7p_"
      },
      "source": [
        "## III - DataLoading\n",
        "\n",
        "This final part aims at making your dataset compatible with PyTorch.\n",
        "\n",
        "### Text representation\n",
        "\n",
        "Since we plan to work with PyTorch, we need to work with `tensors`. But since a text is only composed of strings, we need to find some numerical representations for the text.\n",
        "\n",
        "The most basic method is to represent a text by list of tokens. We already used a simple WhiteSpace tokenizer earlier to analyze our texts before cleaning. Now we will use it to *represent* the texts.\n",
        "\n",
        "🚧 **TODO** 🚧\n",
        "\n",
        "Modify the code of the `WhiteSpaceTokenizer` so that it could encode a text into a list of token ids and do the reverse (i.e. decode a list of token ids to a text)."
      ]
    },
    {
      "cell_type": "code",
      "execution_count": 114,
      "metadata": {
        "id": "-8a20vOKJ5Wz"
      },
      "outputs": [],
      "source": [
        "class WhiteSpaceTokenizer:\n",
        "    def __init__(self):\n",
        "        # The vocabulary will store the mapping between text tokens and their id.\n",
        "        self.vocab = {}\n",
        "        self.id_to_token = {}\n",
        "\n",
        "        # We will keep track of the number of times a word appears in the corpus.\n",
        "        self.frequencies = {}\n",
        "\n",
        "    def split_text(self, text: str) -> List[str]:\n",
        "        \"\"\"Converts the text to a list of tokens (substrings).\"\"\"\n",
        "        return text.split(\" \")\n",
        "\n",
        "    def encode(self, text: str) -> List[int]:\n",
        "        \"\"\"Take a text as input and return its associated tokenization, as a list of ids.\"\"\"\n",
        "        return [self.vocab.get(token, \"<UNK>\") for token in self.split_text(text)]\n",
        "\n",
        "    def decode(self, ids: List[int]) -> str:\n",
        "        \"\"\"Take a list of ids as input and return its associated text.\"\"\"\n",
        "        return \" \".join([self.id_to_token.get(id, \"<UNK>\") for id in ids])\n",
        "\n",
        "    def fit(self, corpus: List[str]):\n",
        "        \"\"\"Fits the tokenizer to a list of texts to construct its vocabulary.\"\"\"\n",
        "        current_id = 0\n",
        "        for text in tqdm(corpus):\n",
        "\n",
        "            # Split into substrings.\n",
        "            list_tokens = self.split_text(text)\n",
        "\n",
        "            for token in list_tokens:\n",
        "\n",
        "                # Add the token to the vocabulary\n",
        "                token_id = self.vocab.get(token, None)\n",
        "\n",
        "                token_not_in_vocab = token_id is None\n",
        "\n",
        "                if token_not_in_vocab:\n",
        "                    self.vocab[token] = current_id\n",
        "                    self.id_to_token[current_id] = token\n",
        "                    self.frequencies[current_id] = 0\n",
        "                    token_id = current_id\n",
        "                    current_id += 1\n",
        "\n",
        "                self.frequencies[token_id] += 1\n",
        "\n",
        "        # Total number of words in vocab.\n",
        "        self.num_words = len(self.vocab)\n",
        "        print(f\"Built a vocabulary of {self.num_words} words.\")"
      ]
    },
    {
      "cell_type": "markdown",
      "metadata": {
        "id": "EawK5ctWqjOQ"
      },
      "source": [
        "🔴 **TEST**"
      ]
    },
    {
      "cell_type": "code",
      "execution_count": 115,
      "metadata": {
        "id": "l1slN9MEKWjC",
        "colab": {
          "base_uri": "https://localhost:8080/",
          "height": 67,
          "referenced_widgets": [
            "2487bfe14f11478ebee8373e3d508c0d",
            "b46b4fad89e642b4a6723b235552552f",
            "fb6e559253b346cfb7674d8a8cae2822",
            "c8cdacee8310491994a1732e7a9b6d23",
            "1c39017bcf804932a81a6cdbc3963015",
            "611c5e07d38648a694a065d50435ec74",
            "2474dbafd629493b80bbb9a30ee44044",
            "b0116daa2c12447d8b2c4a855bf45bb6",
            "61e22c8434dd4d87bd5ea45c7997f5f4",
            "abad9fb0ca804d63902086ebe615edb2",
            "ef3f4958da364e1b9797875b2ed9d8ba"
          ]
        },
        "outputId": "79c91bc8-6261-478c-a8ec-03d3e5d1d609"
      },
      "outputs": [
        {
          "output_type": "display_data",
          "data": {
            "text/plain": [
              "  0%|          | 0/2 [00:00<?, ?it/s]"
            ],
            "application/vnd.jupyter.widget-view+json": {
              "version_major": 2,
              "version_minor": 0,
              "model_id": "2487bfe14f11478ebee8373e3d508c0d"
            }
          },
          "metadata": {}
        },
        {
          "output_type": "stream",
          "name": "stdout",
          "text": [
            "Built a vocabulary of 9 words.\n"
          ]
        }
      ],
      "source": [
        "tokenizer = WhiteSpaceTokenizer()\n",
        "toy_dataset = [\"the cat is in the kitchen\", \"i have a dog\"]\n",
        "tokenizer.fit(toy_dataset)\n",
        "text = \"i have a kitchen\"\n",
        "assert tokenizer.encode(text) == [5, 6, 7, 4]\n",
        "assert tokenizer.decode([0, 1, 2, 7, 8]) == \"the cat is a dog\""
      ]
    },
    {
      "cell_type": "markdown",
      "metadata": {
        "id": "imYmiv-PMiH4"
      },
      "source": [
        "🚧 **TODO** 🚧 Now fit it on your dataset."
      ]
    },
    {
      "cell_type": "code",
      "execution_count": 116,
      "metadata": {
        "id": "5-agmjJdMkHg",
        "colab": {
          "base_uri": "https://localhost:8080/",
          "height": 67,
          "referenced_widgets": [
            "2aa65467e08147238a7419728afc80c3",
            "0825569d69b74647bb8e48b2312cc4c1",
            "27a0e1d6167244eaaf1bcc77dc08b422",
            "b7268f6b817e4121996183cc1eed8b52",
            "1078dbf18b5f4f5787edbea2370b582b",
            "165c558c03454b9697ea69db1d623007",
            "77769ebd789e4d908c35c4d9fe7bd6f2",
            "15e064b07294401da98a6b140e94da31",
            "b416f669428d4954a3e787a3d8fad7a4",
            "f8a5b3e0a18f4e329720996e817056f4",
            "604034a6a16645f6a18907e27f7fffc9"
          ]
        },
        "outputId": "ad9910ad-9e40-4461-83c5-0f2208fe0506"
      },
      "outputs": [
        {
          "output_type": "display_data",
          "data": {
            "text/plain": [
              "  0%|          | 0/62155 [00:00<?, ?it/s]"
            ],
            "application/vnd.jupyter.widget-view+json": {
              "version_major": 2,
              "version_minor": 0,
              "model_id": "2aa65467e08147238a7419728afc80c3"
            }
          },
          "metadata": {}
        },
        {
          "output_type": "stream",
          "name": "stdout",
          "text": [
            "Built a vocabulary of 101917 words.\n"
          ]
        }
      ],
      "source": [
        "tokenizer = WhiteSpaceTokenizer()\n",
        "tokenizer.fit(clean_column)"
      ]
    },
    {
      "cell_type": "markdown",
      "metadata": {
        "id": "ZHO2xKpiL1oI"
      },
      "source": [
        "🚧 **Question** 🚧\n",
        "Look at the following code:"
      ]
    },
    {
      "cell_type": "code",
      "execution_count": 117,
      "metadata": {
        "id": "l3zS9noAL0DO",
        "colab": {
          "base_uri": "https://localhost:8080/"
        },
        "outputId": "383f6c3b-e99b-4a5e-e468-8eae679c1cf3"
      },
      "outputs": [
        {
          "output_type": "execute_result",
          "data": {
            "text/plain": [
              "[16, 3510, 57, 39, 16, '<UNK>']"
            ]
          },
          "metadata": {},
          "execution_count": 117
        }
      ],
      "source": [
        "tokenizer.encode(\"the king is in the câstle\")"
      ]
    },
    {
      "cell_type": "markdown",
      "metadata": {
        "id": "Reu2H7UXM9J_"
      },
      "source": [
        "a) Does it raise an exception? Explain what is the problem with the above situation.\n",
        "\n",
        "b) In which real life scenario could such a situation appear?\n",
        "\n",
        "**Answer**\n",
        "\n",
        "câstle is not recognized as a token in our dictionnary. So we have an error when a token we try to encode is not in the dictionnary / has not been seen during the construction of the dictionnary\n",
        "\n",
        "This situation might appear in real life with proper nouns, typos, rare common nouns, etc.\n"
      ]
    },
    {
      "cell_type": "markdown",
      "metadata": {
        "id": "XbJtCxPKOFYe"
      },
      "source": [
        "🚧 **TODO** 🚧\n",
        "\n",
        "Propose a simple modification of the tokenizer code such that it doesn't raise an exception anymore. It should handle the presence of any unknown token.\n",
        "\n",
        "The following code should't raise any exception.\n",
        "\n",
        "** Answer **\n",
        "\n",
        "I have used the get method to query the dictionnary with a 'UNK' default value"
      ]
    },
    {
      "cell_type": "markdown",
      "metadata": {
        "id": "-sxrH8mFqs6I"
      },
      "source": [
        "🔴 **TEST**"
      ]
    },
    {
      "cell_type": "code",
      "execution_count": 118,
      "metadata": {
        "id": "EJVfIsLqLQ4M"
      },
      "outputs": [],
      "source": [
        "allowed_characters = (string.ascii_uppercase + string.digits).replace(\" \", \"\")\n",
        "for _ in range(1000):\n",
        "    word_that_do_not_exist = \"\".join(random.choices(allowed_characters, k=100))\n",
        "    encoding = tokenizer.encode(f\"the king is in the {word_that_do_not_exist}\")\n",
        "    assert tokenizer.decode(encoding) == \"the king is in the <UNK>\""
      ]
    },
    {
      "cell_type": "markdown",
      "metadata": {
        "id": "DZ_O5jT_f0Mr"
      },
      "source": [
        "### Dataset for PyTorch\n",
        "We will be working wtth PyTorch most of the time.\n",
        "A good practice is to always iterate through a `torch.utils.data.DataLoader`, coupled with `torch.utils.data.Dataset`.\n",
        "\n",
        "🚧 **TODO** 🚧\n",
        "\n",
        "We will construct our custom `Dataset` class, that should be fully compatible with the PyTorch API. According to the [documentation](https://pytorch.org/tutorials/beginner/basics/data_tutorial.html#creating-a-custom-dataset-for-your-files), such a dataset should implement at least three methods, `__init__`, `__len__`, `__getitem__`. Complete the following code such that the dataset yields a list of texts.\n",
        "\n",
        "Requirements:\n",
        "1. The dataset class should read the data from the csv_file stored in `DATA_PATH`.\n",
        "2. The dataset should output the raw text, without any cleaning."
      ]
    },
    {
      "cell_type": "code",
      "execution_count": 119,
      "metadata": {
        "id": "Gqn2FgOthdcF"
      },
      "outputs": [],
      "source": [
        "from torch.utils.data import Dataset\n",
        "\n",
        "\n",
        "class IMDBDataset(Dataset):\n",
        "    def __init__(self, file_path: str):\n",
        "        self.df = pd.read_csv(file_path, dtype={\"review\": \"string\", \"label\": int})\n",
        "\n",
        "    def __len__(self):\n",
        "        return len(self.df)\n",
        "\n",
        "    def __getitem__(self, idx: int):\n",
        "        return self.df.iloc[idx][\"review\"], self.df.iloc[idx][\"label\"]"
      ]
    },
    {
      "cell_type": "markdown",
      "metadata": {
        "id": "T2kJbUUxtPi8"
      },
      "source": [
        "🔴 **TEST**"
      ]
    },
    {
      "cell_type": "code",
      "execution_count": 120,
      "metadata": {
        "id": "68tkYxHKiFzA"
      },
      "outputs": [],
      "source": [
        "imdb_dataset = IMDBDataset(file_path=DATA_PATH)\n",
        "text, label = imdb_dataset[0]\n",
        "assert text == text_column[0]\n",
        "assert label == label_column[0]"
      ]
    },
    {
      "cell_type": "markdown",
      "metadata": {
        "id": "1EaTm6k7QZHL"
      },
      "source": [
        "### DataLoader for PyTorch\n",
        "\n",
        "Now that the dataset is ready, we should be able to iterate through it. This is done with a `DataLoader`.\n",
        "\n",
        "The `DataLoader` also has some handy functionnalities:\n",
        "1. Batch iteration.\n",
        "2. Collate function.\n",
        "\n",
        "The collate function corresponds to the argument `collate_fn` of the constructor of `torch.utils.data.DataLoader`.\n",
        "\n",
        "This function is applied on the fly to each sample of the dataset.\n",
        "\n",
        "Our `IMDBDataset` only outputs raw texts. During the iteration through the `DataLoader`, we would like to:\n",
        "1. Clean the dataset with our cleaning function `preprocess_text`.\n",
        "2. Convert the text to a list of tokens.\n",
        "3. The `DataLoader`, for a batch size of `N`, should yield a dictionnary `{\"token_ids\": ..., \"labels\": ...,}` with `\"token_ids\"` corresponding to a list of `N` lists of tokens ids, and `\"labels\"` to a list of size `N` with the corresponding labels.\n",
        "\n",
        "🚧 **TODO** 🚧\n",
        "\n",
        "Write the `collate_fn` function so that the above requirements are satisfied (i.e., clean and tokenize)."
      ]
    },
    {
      "cell_type": "code",
      "execution_count": 121,
      "metadata": {
        "id": "hvbB5VMrSSzY"
      },
      "outputs": [],
      "source": [
        "\n",
        "def collate_fn(batch):\n",
        "    \"\"\"Unpacks the batch, preprocesses and encodes text, and returns a dict with labels\"\"\"\n",
        "\n",
        "    reviews, labels = zip(*batch)\n",
        "\n",
        "    reviews = [preprocess_text(r) for r in reviews]\n",
        "\n",
        "    token_ids = [tokenizer.encode(r) for r in reviews]\n",
        "\n",
        "    return {\"token_ids\": token_ids, \"labels\": labels}\n"
      ]
    },
    {
      "cell_type": "code",
      "execution_count": 122,
      "metadata": {
        "id": "jGkthDygS5uT"
      },
      "outputs": [],
      "source": [
        "from torch.utils.data import DataLoader"
      ]
    },
    {
      "cell_type": "markdown",
      "metadata": {
        "id": "B0aAd6B2q4KC"
      },
      "source": [
        "🔴 **TEST**"
      ]
    },
    {
      "cell_type": "code",
      "execution_count": 123,
      "metadata": {
        "id": "YMkufgR1Sf8J"
      },
      "outputs": [],
      "source": [
        "for batch_size in range(1, 10):\n",
        "    dataloader = DataLoader(\n",
        "        dataset=imdb_dataset, batch_size=batch_size, collate_fn=collate_fn\n",
        "    )\n",
        "    for batch in dataloader:\n",
        "        token_ids = batch[\"token_ids\"]\n",
        "        labels = batch[\"labels\"]\n",
        "        assert len(token_ids) == batch_size\n",
        "        assert len(labels) == batch_size\n",
        "        assert isinstance(token_ids[0][0], int)\n",
        "        assert (isinstance(labels[0], int)) or isinstance(labels[0], np.int64)\n",
        "        break"
      ]
    },
    {
      "cell_type": "markdown",
      "metadata": {
        "id": "JacMmD5Kq6j8"
      },
      "source": [
        "🚧 **Question** 🚧\n",
        "\n",
        "Write a concise summary on what you learned with this lab.\n",
        "\n",
        "**Answer**\n",
        "\n",
        "* Build a tokenizer class from a corpus to encode and decode texts and tokens\n",
        "* Clean text using regex and normalization\n",
        "* Deal with exceptions (e.g. words out of vocabulary)\n",
        "* Explore vacubalary with histograms and fitting to a Zipf's Law\n",
        "* Use PyTorch's Dataset and DataLoader classes"
      ]
    },
    {
      "cell_type": "code",
      "source": [],
      "metadata": {
        "id": "QEHzlj6wtGVM"
      },
      "execution_count": 123,
      "outputs": []
    }
  ],
  "metadata": {
    "colab": {
      "provenance": [],
      "include_colab_link": true
    },
    "kernelspec": {
      "display_name": "Python 3 (ipykernel)",
      "language": "python",
      "name": "python3"
    },
    "language_info": {
      "codemirror_mode": {
        "name": "ipython",
        "version": 3
      },
      "file_extension": ".py",
      "mimetype": "text/x-python",
      "name": "python",
      "nbconvert_exporter": "python",
      "pygments_lexer": "ipython3",
      "version": "3.9.12"
    },
    "toc": {
      "base_numbering": 1,
      "nav_menu": {},
      "number_sections": true,
      "sideBar": true,
      "skip_h1_title": false,
      "title_cell": "Table of Contents",
      "title_sidebar": "Contents",
      "toc_cell": false,
      "toc_position": {},
      "toc_section_display": true,
      "toc_window_display": false
    },
    "widgets": {
      "application/vnd.jupyter.widget-state+json": {
        "558273ad9dd142beb2dc7e2ebde5be78": {
          "model_module": "@jupyter-widgets/controls",
          "model_name": "HBoxModel",
          "model_module_version": "1.5.0",
          "state": {
            "_dom_classes": [],
            "_model_module": "@jupyter-widgets/controls",
            "_model_module_version": "1.5.0",
            "_model_name": "HBoxModel",
            "_view_count": null,
            "_view_module": "@jupyter-widgets/controls",
            "_view_module_version": "1.5.0",
            "_view_name": "HBoxView",
            "box_style": "",
            "children": [
              "IPY_MODEL_c14388d89e1949efb827793c9fbfba3b",
              "IPY_MODEL_cd252f82c16546ac8c6dde9f0b74a6fd",
              "IPY_MODEL_2cbd5525e64041bebe5fd1956337c73e"
            ],
            "layout": "IPY_MODEL_c994df9afcea418d9b95a337c2759da8"
          }
        },
        "c14388d89e1949efb827793c9fbfba3b": {
          "model_module": "@jupyter-widgets/controls",
          "model_name": "HTMLModel",
          "model_module_version": "1.5.0",
          "state": {
            "_dom_classes": [],
            "_model_module": "@jupyter-widgets/controls",
            "_model_module_version": "1.5.0",
            "_model_name": "HTMLModel",
            "_view_count": null,
            "_view_module": "@jupyter-widgets/controls",
            "_view_module_version": "1.5.0",
            "_view_name": "HTMLView",
            "description": "",
            "description_tooltip": null,
            "layout": "IPY_MODEL_5a64817c5ead47ddad933499cb14ba2d",
            "placeholder": "​",
            "style": "IPY_MODEL_8130932ea62b4b579d11d48505aec001",
            "value": "100%"
          }
        },
        "cd252f82c16546ac8c6dde9f0b74a6fd": {
          "model_module": "@jupyter-widgets/controls",
          "model_name": "FloatProgressModel",
          "model_module_version": "1.5.0",
          "state": {
            "_dom_classes": [],
            "_model_module": "@jupyter-widgets/controls",
            "_model_module_version": "1.5.0",
            "_model_name": "FloatProgressModel",
            "_view_count": null,
            "_view_module": "@jupyter-widgets/controls",
            "_view_module_version": "1.5.0",
            "_view_name": "ProgressView",
            "bar_style": "success",
            "description": "",
            "description_tooltip": null,
            "layout": "IPY_MODEL_4260b4b9f6104d74b67fa6c5d64fdec5",
            "max": 2,
            "min": 0,
            "orientation": "horizontal",
            "style": "IPY_MODEL_9f20850b45964ce39d355328eaf2f445",
            "value": 2
          }
        },
        "2cbd5525e64041bebe5fd1956337c73e": {
          "model_module": "@jupyter-widgets/controls",
          "model_name": "HTMLModel",
          "model_module_version": "1.5.0",
          "state": {
            "_dom_classes": [],
            "_model_module": "@jupyter-widgets/controls",
            "_model_module_version": "1.5.0",
            "_model_name": "HTMLModel",
            "_view_count": null,
            "_view_module": "@jupyter-widgets/controls",
            "_view_module_version": "1.5.0",
            "_view_name": "HTMLView",
            "description": "",
            "description_tooltip": null,
            "layout": "IPY_MODEL_316713d5ea994d3685ed80f091837f1a",
            "placeholder": "​",
            "style": "IPY_MODEL_bf182e00acbf4d7abd21e61a5af9ccbe",
            "value": " 2/2 [00:00&lt;00:00, 79.30it/s]"
          }
        },
        "c994df9afcea418d9b95a337c2759da8": {
          "model_module": "@jupyter-widgets/base",
          "model_name": "LayoutModel",
          "model_module_version": "1.2.0",
          "state": {
            "_model_module": "@jupyter-widgets/base",
            "_model_module_version": "1.2.0",
            "_model_name": "LayoutModel",
            "_view_count": null,
            "_view_module": "@jupyter-widgets/base",
            "_view_module_version": "1.2.0",
            "_view_name": "LayoutView",
            "align_content": null,
            "align_items": null,
            "align_self": null,
            "border": null,
            "bottom": null,
            "display": null,
            "flex": null,
            "flex_flow": null,
            "grid_area": null,
            "grid_auto_columns": null,
            "grid_auto_flow": null,
            "grid_auto_rows": null,
            "grid_column": null,
            "grid_gap": null,
            "grid_row": null,
            "grid_template_areas": null,
            "grid_template_columns": null,
            "grid_template_rows": null,
            "height": null,
            "justify_content": null,
            "justify_items": null,
            "left": null,
            "margin": null,
            "max_height": null,
            "max_width": null,
            "min_height": null,
            "min_width": null,
            "object_fit": null,
            "object_position": null,
            "order": null,
            "overflow": null,
            "overflow_x": null,
            "overflow_y": null,
            "padding": null,
            "right": null,
            "top": null,
            "visibility": null,
            "width": null
          }
        },
        "5a64817c5ead47ddad933499cb14ba2d": {
          "model_module": "@jupyter-widgets/base",
          "model_name": "LayoutModel",
          "model_module_version": "1.2.0",
          "state": {
            "_model_module": "@jupyter-widgets/base",
            "_model_module_version": "1.2.0",
            "_model_name": "LayoutModel",
            "_view_count": null,
            "_view_module": "@jupyter-widgets/base",
            "_view_module_version": "1.2.0",
            "_view_name": "LayoutView",
            "align_content": null,
            "align_items": null,
            "align_self": null,
            "border": null,
            "bottom": null,
            "display": null,
            "flex": null,
            "flex_flow": null,
            "grid_area": null,
            "grid_auto_columns": null,
            "grid_auto_flow": null,
            "grid_auto_rows": null,
            "grid_column": null,
            "grid_gap": null,
            "grid_row": null,
            "grid_template_areas": null,
            "grid_template_columns": null,
            "grid_template_rows": null,
            "height": null,
            "justify_content": null,
            "justify_items": null,
            "left": null,
            "margin": null,
            "max_height": null,
            "max_width": null,
            "min_height": null,
            "min_width": null,
            "object_fit": null,
            "object_position": null,
            "order": null,
            "overflow": null,
            "overflow_x": null,
            "overflow_y": null,
            "padding": null,
            "right": null,
            "top": null,
            "visibility": null,
            "width": null
          }
        },
        "8130932ea62b4b579d11d48505aec001": {
          "model_module": "@jupyter-widgets/controls",
          "model_name": "DescriptionStyleModel",
          "model_module_version": "1.5.0",
          "state": {
            "_model_module": "@jupyter-widgets/controls",
            "_model_module_version": "1.5.0",
            "_model_name": "DescriptionStyleModel",
            "_view_count": null,
            "_view_module": "@jupyter-widgets/base",
            "_view_module_version": "1.2.0",
            "_view_name": "StyleView",
            "description_width": ""
          }
        },
        "4260b4b9f6104d74b67fa6c5d64fdec5": {
          "model_module": "@jupyter-widgets/base",
          "model_name": "LayoutModel",
          "model_module_version": "1.2.0",
          "state": {
            "_model_module": "@jupyter-widgets/base",
            "_model_module_version": "1.2.0",
            "_model_name": "LayoutModel",
            "_view_count": null,
            "_view_module": "@jupyter-widgets/base",
            "_view_module_version": "1.2.0",
            "_view_name": "LayoutView",
            "align_content": null,
            "align_items": null,
            "align_self": null,
            "border": null,
            "bottom": null,
            "display": null,
            "flex": null,
            "flex_flow": null,
            "grid_area": null,
            "grid_auto_columns": null,
            "grid_auto_flow": null,
            "grid_auto_rows": null,
            "grid_column": null,
            "grid_gap": null,
            "grid_row": null,
            "grid_template_areas": null,
            "grid_template_columns": null,
            "grid_template_rows": null,
            "height": null,
            "justify_content": null,
            "justify_items": null,
            "left": null,
            "margin": null,
            "max_height": null,
            "max_width": null,
            "min_height": null,
            "min_width": null,
            "object_fit": null,
            "object_position": null,
            "order": null,
            "overflow": null,
            "overflow_x": null,
            "overflow_y": null,
            "padding": null,
            "right": null,
            "top": null,
            "visibility": null,
            "width": null
          }
        },
        "9f20850b45964ce39d355328eaf2f445": {
          "model_module": "@jupyter-widgets/controls",
          "model_name": "ProgressStyleModel",
          "model_module_version": "1.5.0",
          "state": {
            "_model_module": "@jupyter-widgets/controls",
            "_model_module_version": "1.5.0",
            "_model_name": "ProgressStyleModel",
            "_view_count": null,
            "_view_module": "@jupyter-widgets/base",
            "_view_module_version": "1.2.0",
            "_view_name": "StyleView",
            "bar_color": null,
            "description_width": ""
          }
        },
        "316713d5ea994d3685ed80f091837f1a": {
          "model_module": "@jupyter-widgets/base",
          "model_name": "LayoutModel",
          "model_module_version": "1.2.0",
          "state": {
            "_model_module": "@jupyter-widgets/base",
            "_model_module_version": "1.2.0",
            "_model_name": "LayoutModel",
            "_view_count": null,
            "_view_module": "@jupyter-widgets/base",
            "_view_module_version": "1.2.0",
            "_view_name": "LayoutView",
            "align_content": null,
            "align_items": null,
            "align_self": null,
            "border": null,
            "bottom": null,
            "display": null,
            "flex": null,
            "flex_flow": null,
            "grid_area": null,
            "grid_auto_columns": null,
            "grid_auto_flow": null,
            "grid_auto_rows": null,
            "grid_column": null,
            "grid_gap": null,
            "grid_row": null,
            "grid_template_areas": null,
            "grid_template_columns": null,
            "grid_template_rows": null,
            "height": null,
            "justify_content": null,
            "justify_items": null,
            "left": null,
            "margin": null,
            "max_height": null,
            "max_width": null,
            "min_height": null,
            "min_width": null,
            "object_fit": null,
            "object_position": null,
            "order": null,
            "overflow": null,
            "overflow_x": null,
            "overflow_y": null,
            "padding": null,
            "right": null,
            "top": null,
            "visibility": null,
            "width": null
          }
        },
        "bf182e00acbf4d7abd21e61a5af9ccbe": {
          "model_module": "@jupyter-widgets/controls",
          "model_name": "DescriptionStyleModel",
          "model_module_version": "1.5.0",
          "state": {
            "_model_module": "@jupyter-widgets/controls",
            "_model_module_version": "1.5.0",
            "_model_name": "DescriptionStyleModel",
            "_view_count": null,
            "_view_module": "@jupyter-widgets/base",
            "_view_module_version": "1.2.0",
            "_view_name": "StyleView",
            "description_width": ""
          }
        },
        "02b5ec6bd93f4d32816ade0ebc279cc8": {
          "model_module": "@jupyter-widgets/controls",
          "model_name": "HBoxModel",
          "model_module_version": "1.5.0",
          "state": {
            "_dom_classes": [],
            "_model_module": "@jupyter-widgets/controls",
            "_model_module_version": "1.5.0",
            "_model_name": "HBoxModel",
            "_view_count": null,
            "_view_module": "@jupyter-widgets/controls",
            "_view_module_version": "1.5.0",
            "_view_name": "HBoxView",
            "box_style": "",
            "children": [
              "IPY_MODEL_c846847d87b64e0e9053fda1b26fdc56",
              "IPY_MODEL_26d6a1be4cf946a6a8fe4dd98595025d",
              "IPY_MODEL_84c284f070344174a735d546b1ace03b"
            ],
            "layout": "IPY_MODEL_c73c25727e484f18a27ccd9fff3e2b4c"
          }
        },
        "c846847d87b64e0e9053fda1b26fdc56": {
          "model_module": "@jupyter-widgets/controls",
          "model_name": "HTMLModel",
          "model_module_version": "1.5.0",
          "state": {
            "_dom_classes": [],
            "_model_module": "@jupyter-widgets/controls",
            "_model_module_version": "1.5.0",
            "_model_name": "HTMLModel",
            "_view_count": null,
            "_view_module": "@jupyter-widgets/controls",
            "_view_module_version": "1.5.0",
            "_view_name": "HTMLView",
            "description": "",
            "description_tooltip": null,
            "layout": "IPY_MODEL_1e86b0bd48e149199c4037db074cf96c",
            "placeholder": "​",
            "style": "IPY_MODEL_3e99f90bf3ca4020aac695e820e73ca4",
            "value": "100%"
          }
        },
        "26d6a1be4cf946a6a8fe4dd98595025d": {
          "model_module": "@jupyter-widgets/controls",
          "model_name": "FloatProgressModel",
          "model_module_version": "1.5.0",
          "state": {
            "_dom_classes": [],
            "_model_module": "@jupyter-widgets/controls",
            "_model_module_version": "1.5.0",
            "_model_name": "FloatProgressModel",
            "_view_count": null,
            "_view_module": "@jupyter-widgets/controls",
            "_view_module_version": "1.5.0",
            "_view_name": "ProgressView",
            "bar_style": "success",
            "description": "",
            "description_tooltip": null,
            "layout": "IPY_MODEL_e6e6d9eb0c3b4505842b7e63a3dc50cc",
            "max": 62155,
            "min": 0,
            "orientation": "horizontal",
            "style": "IPY_MODEL_136153c60b1f46b28cb1f0607bb1f944",
            "value": 62155
          }
        },
        "84c284f070344174a735d546b1ace03b": {
          "model_module": "@jupyter-widgets/controls",
          "model_name": "HTMLModel",
          "model_module_version": "1.5.0",
          "state": {
            "_dom_classes": [],
            "_model_module": "@jupyter-widgets/controls",
            "_model_module_version": "1.5.0",
            "_model_name": "HTMLModel",
            "_view_count": null,
            "_view_module": "@jupyter-widgets/controls",
            "_view_module_version": "1.5.0",
            "_view_name": "HTMLView",
            "description": "",
            "description_tooltip": null,
            "layout": "IPY_MODEL_42d4167168f441aab81b852b762002ca",
            "placeholder": "​",
            "style": "IPY_MODEL_0b4e62edffa344b5a60a23375f604d99",
            "value": " 62155/62155 [00:14&lt;00:00, 3987.67it/s]"
          }
        },
        "c73c25727e484f18a27ccd9fff3e2b4c": {
          "model_module": "@jupyter-widgets/base",
          "model_name": "LayoutModel",
          "model_module_version": "1.2.0",
          "state": {
            "_model_module": "@jupyter-widgets/base",
            "_model_module_version": "1.2.0",
            "_model_name": "LayoutModel",
            "_view_count": null,
            "_view_module": "@jupyter-widgets/base",
            "_view_module_version": "1.2.0",
            "_view_name": "LayoutView",
            "align_content": null,
            "align_items": null,
            "align_self": null,
            "border": null,
            "bottom": null,
            "display": null,
            "flex": null,
            "flex_flow": null,
            "grid_area": null,
            "grid_auto_columns": null,
            "grid_auto_flow": null,
            "grid_auto_rows": null,
            "grid_column": null,
            "grid_gap": null,
            "grid_row": null,
            "grid_template_areas": null,
            "grid_template_columns": null,
            "grid_template_rows": null,
            "height": null,
            "justify_content": null,
            "justify_items": null,
            "left": null,
            "margin": null,
            "max_height": null,
            "max_width": null,
            "min_height": null,
            "min_width": null,
            "object_fit": null,
            "object_position": null,
            "order": null,
            "overflow": null,
            "overflow_x": null,
            "overflow_y": null,
            "padding": null,
            "right": null,
            "top": null,
            "visibility": null,
            "width": null
          }
        },
        "1e86b0bd48e149199c4037db074cf96c": {
          "model_module": "@jupyter-widgets/base",
          "model_name": "LayoutModel",
          "model_module_version": "1.2.0",
          "state": {
            "_model_module": "@jupyter-widgets/base",
            "_model_module_version": "1.2.0",
            "_model_name": "LayoutModel",
            "_view_count": null,
            "_view_module": "@jupyter-widgets/base",
            "_view_module_version": "1.2.0",
            "_view_name": "LayoutView",
            "align_content": null,
            "align_items": null,
            "align_self": null,
            "border": null,
            "bottom": null,
            "display": null,
            "flex": null,
            "flex_flow": null,
            "grid_area": null,
            "grid_auto_columns": null,
            "grid_auto_flow": null,
            "grid_auto_rows": null,
            "grid_column": null,
            "grid_gap": null,
            "grid_row": null,
            "grid_template_areas": null,
            "grid_template_columns": null,
            "grid_template_rows": null,
            "height": null,
            "justify_content": null,
            "justify_items": null,
            "left": null,
            "margin": null,
            "max_height": null,
            "max_width": null,
            "min_height": null,
            "min_width": null,
            "object_fit": null,
            "object_position": null,
            "order": null,
            "overflow": null,
            "overflow_x": null,
            "overflow_y": null,
            "padding": null,
            "right": null,
            "top": null,
            "visibility": null,
            "width": null
          }
        },
        "3e99f90bf3ca4020aac695e820e73ca4": {
          "model_module": "@jupyter-widgets/controls",
          "model_name": "DescriptionStyleModel",
          "model_module_version": "1.5.0",
          "state": {
            "_model_module": "@jupyter-widgets/controls",
            "_model_module_version": "1.5.0",
            "_model_name": "DescriptionStyleModel",
            "_view_count": null,
            "_view_module": "@jupyter-widgets/base",
            "_view_module_version": "1.2.0",
            "_view_name": "StyleView",
            "description_width": ""
          }
        },
        "e6e6d9eb0c3b4505842b7e63a3dc50cc": {
          "model_module": "@jupyter-widgets/base",
          "model_name": "LayoutModel",
          "model_module_version": "1.2.0",
          "state": {
            "_model_module": "@jupyter-widgets/base",
            "_model_module_version": "1.2.0",
            "_model_name": "LayoutModel",
            "_view_count": null,
            "_view_module": "@jupyter-widgets/base",
            "_view_module_version": "1.2.0",
            "_view_name": "LayoutView",
            "align_content": null,
            "align_items": null,
            "align_self": null,
            "border": null,
            "bottom": null,
            "display": null,
            "flex": null,
            "flex_flow": null,
            "grid_area": null,
            "grid_auto_columns": null,
            "grid_auto_flow": null,
            "grid_auto_rows": null,
            "grid_column": null,
            "grid_gap": null,
            "grid_row": null,
            "grid_template_areas": null,
            "grid_template_columns": null,
            "grid_template_rows": null,
            "height": null,
            "justify_content": null,
            "justify_items": null,
            "left": null,
            "margin": null,
            "max_height": null,
            "max_width": null,
            "min_height": null,
            "min_width": null,
            "object_fit": null,
            "object_position": null,
            "order": null,
            "overflow": null,
            "overflow_x": null,
            "overflow_y": null,
            "padding": null,
            "right": null,
            "top": null,
            "visibility": null,
            "width": null
          }
        },
        "136153c60b1f46b28cb1f0607bb1f944": {
          "model_module": "@jupyter-widgets/controls",
          "model_name": "ProgressStyleModel",
          "model_module_version": "1.5.0",
          "state": {
            "_model_module": "@jupyter-widgets/controls",
            "_model_module_version": "1.5.0",
            "_model_name": "ProgressStyleModel",
            "_view_count": null,
            "_view_module": "@jupyter-widgets/base",
            "_view_module_version": "1.2.0",
            "_view_name": "StyleView",
            "bar_color": null,
            "description_width": ""
          }
        },
        "42d4167168f441aab81b852b762002ca": {
          "model_module": "@jupyter-widgets/base",
          "model_name": "LayoutModel",
          "model_module_version": "1.2.0",
          "state": {
            "_model_module": "@jupyter-widgets/base",
            "_model_module_version": "1.2.0",
            "_model_name": "LayoutModel",
            "_view_count": null,
            "_view_module": "@jupyter-widgets/base",
            "_view_module_version": "1.2.0",
            "_view_name": "LayoutView",
            "align_content": null,
            "align_items": null,
            "align_self": null,
            "border": null,
            "bottom": null,
            "display": null,
            "flex": null,
            "flex_flow": null,
            "grid_area": null,
            "grid_auto_columns": null,
            "grid_auto_flow": null,
            "grid_auto_rows": null,
            "grid_column": null,
            "grid_gap": null,
            "grid_row": null,
            "grid_template_areas": null,
            "grid_template_columns": null,
            "grid_template_rows": null,
            "height": null,
            "justify_content": null,
            "justify_items": null,
            "left": null,
            "margin": null,
            "max_height": null,
            "max_width": null,
            "min_height": null,
            "min_width": null,
            "object_fit": null,
            "object_position": null,
            "order": null,
            "overflow": null,
            "overflow_x": null,
            "overflow_y": null,
            "padding": null,
            "right": null,
            "top": null,
            "visibility": null,
            "width": null
          }
        },
        "0b4e62edffa344b5a60a23375f604d99": {
          "model_module": "@jupyter-widgets/controls",
          "model_name": "DescriptionStyleModel",
          "model_module_version": "1.5.0",
          "state": {
            "_model_module": "@jupyter-widgets/controls",
            "_model_module_version": "1.5.0",
            "_model_name": "DescriptionStyleModel",
            "_view_count": null,
            "_view_module": "@jupyter-widgets/base",
            "_view_module_version": "1.2.0",
            "_view_name": "StyleView",
            "description_width": ""
          }
        },
        "46cd756d8d4b4b2ba54c2096c4d0e264": {
          "model_module": "@jupyter-widgets/controls",
          "model_name": "HBoxModel",
          "model_module_version": "1.5.0",
          "state": {
            "_dom_classes": [],
            "_model_module": "@jupyter-widgets/controls",
            "_model_module_version": "1.5.0",
            "_model_name": "HBoxModel",
            "_view_count": null,
            "_view_module": "@jupyter-widgets/controls",
            "_view_module_version": "1.5.0",
            "_view_name": "HBoxView",
            "box_style": "",
            "children": [
              "IPY_MODEL_ab1d345dd3ea49a6a401879c6563a683",
              "IPY_MODEL_96c84d44c50c4b7daec4376b54c4bbca",
              "IPY_MODEL_bbddbdbff65448fdab227d3797903084"
            ],
            "layout": "IPY_MODEL_2bf39af4e6f74d5c825ec9bf62994ca4"
          }
        },
        "ab1d345dd3ea49a6a401879c6563a683": {
          "model_module": "@jupyter-widgets/controls",
          "model_name": "HTMLModel",
          "model_module_version": "1.5.0",
          "state": {
            "_dom_classes": [],
            "_model_module": "@jupyter-widgets/controls",
            "_model_module_version": "1.5.0",
            "_model_name": "HTMLModel",
            "_view_count": null,
            "_view_module": "@jupyter-widgets/controls",
            "_view_module_version": "1.5.0",
            "_view_name": "HTMLView",
            "description": "",
            "description_tooltip": null,
            "layout": "IPY_MODEL_b176aa5d752d4d6790bd27b3510dde80",
            "placeholder": "​",
            "style": "IPY_MODEL_bf076a3853574f668dfa84f66d7d2f08",
            "value": "100%"
          }
        },
        "96c84d44c50c4b7daec4376b54c4bbca": {
          "model_module": "@jupyter-widgets/controls",
          "model_name": "FloatProgressModel",
          "model_module_version": "1.5.0",
          "state": {
            "_dom_classes": [],
            "_model_module": "@jupyter-widgets/controls",
            "_model_module_version": "1.5.0",
            "_model_name": "FloatProgressModel",
            "_view_count": null,
            "_view_module": "@jupyter-widgets/controls",
            "_view_module_version": "1.5.0",
            "_view_name": "ProgressView",
            "bar_style": "success",
            "description": "",
            "description_tooltip": null,
            "layout": "IPY_MODEL_b1f3437c3af547f8ac1848e5d9732955",
            "max": 62155,
            "min": 0,
            "orientation": "horizontal",
            "style": "IPY_MODEL_0512800b6a9a4f73b44b24cf50fe9607",
            "value": 62155
          }
        },
        "bbddbdbff65448fdab227d3797903084": {
          "model_module": "@jupyter-widgets/controls",
          "model_name": "HTMLModel",
          "model_module_version": "1.5.0",
          "state": {
            "_dom_classes": [],
            "_model_module": "@jupyter-widgets/controls",
            "_model_module_version": "1.5.0",
            "_model_name": "HTMLModel",
            "_view_count": null,
            "_view_module": "@jupyter-widgets/controls",
            "_view_module_version": "1.5.0",
            "_view_name": "HTMLView",
            "description": "",
            "description_tooltip": null,
            "layout": "IPY_MODEL_75fa709813834282ad4c6877061da9db",
            "placeholder": "​",
            "style": "IPY_MODEL_3670b15118fc4f6392cf8a5938649016",
            "value": " 62155/62155 [00:11&lt;00:00, 5128.34it/s]"
          }
        },
        "2bf39af4e6f74d5c825ec9bf62994ca4": {
          "model_module": "@jupyter-widgets/base",
          "model_name": "LayoutModel",
          "model_module_version": "1.2.0",
          "state": {
            "_model_module": "@jupyter-widgets/base",
            "_model_module_version": "1.2.0",
            "_model_name": "LayoutModel",
            "_view_count": null,
            "_view_module": "@jupyter-widgets/base",
            "_view_module_version": "1.2.0",
            "_view_name": "LayoutView",
            "align_content": null,
            "align_items": null,
            "align_self": null,
            "border": null,
            "bottom": null,
            "display": null,
            "flex": null,
            "flex_flow": null,
            "grid_area": null,
            "grid_auto_columns": null,
            "grid_auto_flow": null,
            "grid_auto_rows": null,
            "grid_column": null,
            "grid_gap": null,
            "grid_row": null,
            "grid_template_areas": null,
            "grid_template_columns": null,
            "grid_template_rows": null,
            "height": null,
            "justify_content": null,
            "justify_items": null,
            "left": null,
            "margin": null,
            "max_height": null,
            "max_width": null,
            "min_height": null,
            "min_width": null,
            "object_fit": null,
            "object_position": null,
            "order": null,
            "overflow": null,
            "overflow_x": null,
            "overflow_y": null,
            "padding": null,
            "right": null,
            "top": null,
            "visibility": null,
            "width": null
          }
        },
        "b176aa5d752d4d6790bd27b3510dde80": {
          "model_module": "@jupyter-widgets/base",
          "model_name": "LayoutModel",
          "model_module_version": "1.2.0",
          "state": {
            "_model_module": "@jupyter-widgets/base",
            "_model_module_version": "1.2.0",
            "_model_name": "LayoutModel",
            "_view_count": null,
            "_view_module": "@jupyter-widgets/base",
            "_view_module_version": "1.2.0",
            "_view_name": "LayoutView",
            "align_content": null,
            "align_items": null,
            "align_self": null,
            "border": null,
            "bottom": null,
            "display": null,
            "flex": null,
            "flex_flow": null,
            "grid_area": null,
            "grid_auto_columns": null,
            "grid_auto_flow": null,
            "grid_auto_rows": null,
            "grid_column": null,
            "grid_gap": null,
            "grid_row": null,
            "grid_template_areas": null,
            "grid_template_columns": null,
            "grid_template_rows": null,
            "height": null,
            "justify_content": null,
            "justify_items": null,
            "left": null,
            "margin": null,
            "max_height": null,
            "max_width": null,
            "min_height": null,
            "min_width": null,
            "object_fit": null,
            "object_position": null,
            "order": null,
            "overflow": null,
            "overflow_x": null,
            "overflow_y": null,
            "padding": null,
            "right": null,
            "top": null,
            "visibility": null,
            "width": null
          }
        },
        "bf076a3853574f668dfa84f66d7d2f08": {
          "model_module": "@jupyter-widgets/controls",
          "model_name": "DescriptionStyleModel",
          "model_module_version": "1.5.0",
          "state": {
            "_model_module": "@jupyter-widgets/controls",
            "_model_module_version": "1.5.0",
            "_model_name": "DescriptionStyleModel",
            "_view_count": null,
            "_view_module": "@jupyter-widgets/base",
            "_view_module_version": "1.2.0",
            "_view_name": "StyleView",
            "description_width": ""
          }
        },
        "b1f3437c3af547f8ac1848e5d9732955": {
          "model_module": "@jupyter-widgets/base",
          "model_name": "LayoutModel",
          "model_module_version": "1.2.0",
          "state": {
            "_model_module": "@jupyter-widgets/base",
            "_model_module_version": "1.2.0",
            "_model_name": "LayoutModel",
            "_view_count": null,
            "_view_module": "@jupyter-widgets/base",
            "_view_module_version": "1.2.0",
            "_view_name": "LayoutView",
            "align_content": null,
            "align_items": null,
            "align_self": null,
            "border": null,
            "bottom": null,
            "display": null,
            "flex": null,
            "flex_flow": null,
            "grid_area": null,
            "grid_auto_columns": null,
            "grid_auto_flow": null,
            "grid_auto_rows": null,
            "grid_column": null,
            "grid_gap": null,
            "grid_row": null,
            "grid_template_areas": null,
            "grid_template_columns": null,
            "grid_template_rows": null,
            "height": null,
            "justify_content": null,
            "justify_items": null,
            "left": null,
            "margin": null,
            "max_height": null,
            "max_width": null,
            "min_height": null,
            "min_width": null,
            "object_fit": null,
            "object_position": null,
            "order": null,
            "overflow": null,
            "overflow_x": null,
            "overflow_y": null,
            "padding": null,
            "right": null,
            "top": null,
            "visibility": null,
            "width": null
          }
        },
        "0512800b6a9a4f73b44b24cf50fe9607": {
          "model_module": "@jupyter-widgets/controls",
          "model_name": "ProgressStyleModel",
          "model_module_version": "1.5.0",
          "state": {
            "_model_module": "@jupyter-widgets/controls",
            "_model_module_version": "1.5.0",
            "_model_name": "ProgressStyleModel",
            "_view_count": null,
            "_view_module": "@jupyter-widgets/base",
            "_view_module_version": "1.2.0",
            "_view_name": "StyleView",
            "bar_color": null,
            "description_width": ""
          }
        },
        "75fa709813834282ad4c6877061da9db": {
          "model_module": "@jupyter-widgets/base",
          "model_name": "LayoutModel",
          "model_module_version": "1.2.0",
          "state": {
            "_model_module": "@jupyter-widgets/base",
            "_model_module_version": "1.2.0",
            "_model_name": "LayoutModel",
            "_view_count": null,
            "_view_module": "@jupyter-widgets/base",
            "_view_module_version": "1.2.0",
            "_view_name": "LayoutView",
            "align_content": null,
            "align_items": null,
            "align_self": null,
            "border": null,
            "bottom": null,
            "display": null,
            "flex": null,
            "flex_flow": null,
            "grid_area": null,
            "grid_auto_columns": null,
            "grid_auto_flow": null,
            "grid_auto_rows": null,
            "grid_column": null,
            "grid_gap": null,
            "grid_row": null,
            "grid_template_areas": null,
            "grid_template_columns": null,
            "grid_template_rows": null,
            "height": null,
            "justify_content": null,
            "justify_items": null,
            "left": null,
            "margin": null,
            "max_height": null,
            "max_width": null,
            "min_height": null,
            "min_width": null,
            "object_fit": null,
            "object_position": null,
            "order": null,
            "overflow": null,
            "overflow_x": null,
            "overflow_y": null,
            "padding": null,
            "right": null,
            "top": null,
            "visibility": null,
            "width": null
          }
        },
        "3670b15118fc4f6392cf8a5938649016": {
          "model_module": "@jupyter-widgets/controls",
          "model_name": "DescriptionStyleModel",
          "model_module_version": "1.5.0",
          "state": {
            "_model_module": "@jupyter-widgets/controls",
            "_model_module_version": "1.5.0",
            "_model_name": "DescriptionStyleModel",
            "_view_count": null,
            "_view_module": "@jupyter-widgets/base",
            "_view_module_version": "1.2.0",
            "_view_name": "StyleView",
            "description_width": ""
          }
        },
        "2487bfe14f11478ebee8373e3d508c0d": {
          "model_module": "@jupyter-widgets/controls",
          "model_name": "HBoxModel",
          "model_module_version": "1.5.0",
          "state": {
            "_dom_classes": [],
            "_model_module": "@jupyter-widgets/controls",
            "_model_module_version": "1.5.0",
            "_model_name": "HBoxModel",
            "_view_count": null,
            "_view_module": "@jupyter-widgets/controls",
            "_view_module_version": "1.5.0",
            "_view_name": "HBoxView",
            "box_style": "",
            "children": [
              "IPY_MODEL_b46b4fad89e642b4a6723b235552552f",
              "IPY_MODEL_fb6e559253b346cfb7674d8a8cae2822",
              "IPY_MODEL_c8cdacee8310491994a1732e7a9b6d23"
            ],
            "layout": "IPY_MODEL_1c39017bcf804932a81a6cdbc3963015"
          }
        },
        "b46b4fad89e642b4a6723b235552552f": {
          "model_module": "@jupyter-widgets/controls",
          "model_name": "HTMLModel",
          "model_module_version": "1.5.0",
          "state": {
            "_dom_classes": [],
            "_model_module": "@jupyter-widgets/controls",
            "_model_module_version": "1.5.0",
            "_model_name": "HTMLModel",
            "_view_count": null,
            "_view_module": "@jupyter-widgets/controls",
            "_view_module_version": "1.5.0",
            "_view_name": "HTMLView",
            "description": "",
            "description_tooltip": null,
            "layout": "IPY_MODEL_611c5e07d38648a694a065d50435ec74",
            "placeholder": "​",
            "style": "IPY_MODEL_2474dbafd629493b80bbb9a30ee44044",
            "value": "100%"
          }
        },
        "fb6e559253b346cfb7674d8a8cae2822": {
          "model_module": "@jupyter-widgets/controls",
          "model_name": "FloatProgressModel",
          "model_module_version": "1.5.0",
          "state": {
            "_dom_classes": [],
            "_model_module": "@jupyter-widgets/controls",
            "_model_module_version": "1.5.0",
            "_model_name": "FloatProgressModel",
            "_view_count": null,
            "_view_module": "@jupyter-widgets/controls",
            "_view_module_version": "1.5.0",
            "_view_name": "ProgressView",
            "bar_style": "success",
            "description": "",
            "description_tooltip": null,
            "layout": "IPY_MODEL_b0116daa2c12447d8b2c4a855bf45bb6",
            "max": 2,
            "min": 0,
            "orientation": "horizontal",
            "style": "IPY_MODEL_61e22c8434dd4d87bd5ea45c7997f5f4",
            "value": 2
          }
        },
        "c8cdacee8310491994a1732e7a9b6d23": {
          "model_module": "@jupyter-widgets/controls",
          "model_name": "HTMLModel",
          "model_module_version": "1.5.0",
          "state": {
            "_dom_classes": [],
            "_model_module": "@jupyter-widgets/controls",
            "_model_module_version": "1.5.0",
            "_model_name": "HTMLModel",
            "_view_count": null,
            "_view_module": "@jupyter-widgets/controls",
            "_view_module_version": "1.5.0",
            "_view_name": "HTMLView",
            "description": "",
            "description_tooltip": null,
            "layout": "IPY_MODEL_abad9fb0ca804d63902086ebe615edb2",
            "placeholder": "​",
            "style": "IPY_MODEL_ef3f4958da364e1b9797875b2ed9d8ba",
            "value": " 2/2 [00:00&lt;00:00, 60.67it/s]"
          }
        },
        "1c39017bcf804932a81a6cdbc3963015": {
          "model_module": "@jupyter-widgets/base",
          "model_name": "LayoutModel",
          "model_module_version": "1.2.0",
          "state": {
            "_model_module": "@jupyter-widgets/base",
            "_model_module_version": "1.2.0",
            "_model_name": "LayoutModel",
            "_view_count": null,
            "_view_module": "@jupyter-widgets/base",
            "_view_module_version": "1.2.0",
            "_view_name": "LayoutView",
            "align_content": null,
            "align_items": null,
            "align_self": null,
            "border": null,
            "bottom": null,
            "display": null,
            "flex": null,
            "flex_flow": null,
            "grid_area": null,
            "grid_auto_columns": null,
            "grid_auto_flow": null,
            "grid_auto_rows": null,
            "grid_column": null,
            "grid_gap": null,
            "grid_row": null,
            "grid_template_areas": null,
            "grid_template_columns": null,
            "grid_template_rows": null,
            "height": null,
            "justify_content": null,
            "justify_items": null,
            "left": null,
            "margin": null,
            "max_height": null,
            "max_width": null,
            "min_height": null,
            "min_width": null,
            "object_fit": null,
            "object_position": null,
            "order": null,
            "overflow": null,
            "overflow_x": null,
            "overflow_y": null,
            "padding": null,
            "right": null,
            "top": null,
            "visibility": null,
            "width": null
          }
        },
        "611c5e07d38648a694a065d50435ec74": {
          "model_module": "@jupyter-widgets/base",
          "model_name": "LayoutModel",
          "model_module_version": "1.2.0",
          "state": {
            "_model_module": "@jupyter-widgets/base",
            "_model_module_version": "1.2.0",
            "_model_name": "LayoutModel",
            "_view_count": null,
            "_view_module": "@jupyter-widgets/base",
            "_view_module_version": "1.2.0",
            "_view_name": "LayoutView",
            "align_content": null,
            "align_items": null,
            "align_self": null,
            "border": null,
            "bottom": null,
            "display": null,
            "flex": null,
            "flex_flow": null,
            "grid_area": null,
            "grid_auto_columns": null,
            "grid_auto_flow": null,
            "grid_auto_rows": null,
            "grid_column": null,
            "grid_gap": null,
            "grid_row": null,
            "grid_template_areas": null,
            "grid_template_columns": null,
            "grid_template_rows": null,
            "height": null,
            "justify_content": null,
            "justify_items": null,
            "left": null,
            "margin": null,
            "max_height": null,
            "max_width": null,
            "min_height": null,
            "min_width": null,
            "object_fit": null,
            "object_position": null,
            "order": null,
            "overflow": null,
            "overflow_x": null,
            "overflow_y": null,
            "padding": null,
            "right": null,
            "top": null,
            "visibility": null,
            "width": null
          }
        },
        "2474dbafd629493b80bbb9a30ee44044": {
          "model_module": "@jupyter-widgets/controls",
          "model_name": "DescriptionStyleModel",
          "model_module_version": "1.5.0",
          "state": {
            "_model_module": "@jupyter-widgets/controls",
            "_model_module_version": "1.5.0",
            "_model_name": "DescriptionStyleModel",
            "_view_count": null,
            "_view_module": "@jupyter-widgets/base",
            "_view_module_version": "1.2.0",
            "_view_name": "StyleView",
            "description_width": ""
          }
        },
        "b0116daa2c12447d8b2c4a855bf45bb6": {
          "model_module": "@jupyter-widgets/base",
          "model_name": "LayoutModel",
          "model_module_version": "1.2.0",
          "state": {
            "_model_module": "@jupyter-widgets/base",
            "_model_module_version": "1.2.0",
            "_model_name": "LayoutModel",
            "_view_count": null,
            "_view_module": "@jupyter-widgets/base",
            "_view_module_version": "1.2.0",
            "_view_name": "LayoutView",
            "align_content": null,
            "align_items": null,
            "align_self": null,
            "border": null,
            "bottom": null,
            "display": null,
            "flex": null,
            "flex_flow": null,
            "grid_area": null,
            "grid_auto_columns": null,
            "grid_auto_flow": null,
            "grid_auto_rows": null,
            "grid_column": null,
            "grid_gap": null,
            "grid_row": null,
            "grid_template_areas": null,
            "grid_template_columns": null,
            "grid_template_rows": null,
            "height": null,
            "justify_content": null,
            "justify_items": null,
            "left": null,
            "margin": null,
            "max_height": null,
            "max_width": null,
            "min_height": null,
            "min_width": null,
            "object_fit": null,
            "object_position": null,
            "order": null,
            "overflow": null,
            "overflow_x": null,
            "overflow_y": null,
            "padding": null,
            "right": null,
            "top": null,
            "visibility": null,
            "width": null
          }
        },
        "61e22c8434dd4d87bd5ea45c7997f5f4": {
          "model_module": "@jupyter-widgets/controls",
          "model_name": "ProgressStyleModel",
          "model_module_version": "1.5.0",
          "state": {
            "_model_module": "@jupyter-widgets/controls",
            "_model_module_version": "1.5.0",
            "_model_name": "ProgressStyleModel",
            "_view_count": null,
            "_view_module": "@jupyter-widgets/base",
            "_view_module_version": "1.2.0",
            "_view_name": "StyleView",
            "bar_color": null,
            "description_width": ""
          }
        },
        "abad9fb0ca804d63902086ebe615edb2": {
          "model_module": "@jupyter-widgets/base",
          "model_name": "LayoutModel",
          "model_module_version": "1.2.0",
          "state": {
            "_model_module": "@jupyter-widgets/base",
            "_model_module_version": "1.2.0",
            "_model_name": "LayoutModel",
            "_view_count": null,
            "_view_module": "@jupyter-widgets/base",
            "_view_module_version": "1.2.0",
            "_view_name": "LayoutView",
            "align_content": null,
            "align_items": null,
            "align_self": null,
            "border": null,
            "bottom": null,
            "display": null,
            "flex": null,
            "flex_flow": null,
            "grid_area": null,
            "grid_auto_columns": null,
            "grid_auto_flow": null,
            "grid_auto_rows": null,
            "grid_column": null,
            "grid_gap": null,
            "grid_row": null,
            "grid_template_areas": null,
            "grid_template_columns": null,
            "grid_template_rows": null,
            "height": null,
            "justify_content": null,
            "justify_items": null,
            "left": null,
            "margin": null,
            "max_height": null,
            "max_width": null,
            "min_height": null,
            "min_width": null,
            "object_fit": null,
            "object_position": null,
            "order": null,
            "overflow": null,
            "overflow_x": null,
            "overflow_y": null,
            "padding": null,
            "right": null,
            "top": null,
            "visibility": null,
            "width": null
          }
        },
        "ef3f4958da364e1b9797875b2ed9d8ba": {
          "model_module": "@jupyter-widgets/controls",
          "model_name": "DescriptionStyleModel",
          "model_module_version": "1.5.0",
          "state": {
            "_model_module": "@jupyter-widgets/controls",
            "_model_module_version": "1.5.0",
            "_model_name": "DescriptionStyleModel",
            "_view_count": null,
            "_view_module": "@jupyter-widgets/base",
            "_view_module_version": "1.2.0",
            "_view_name": "StyleView",
            "description_width": ""
          }
        },
        "2aa65467e08147238a7419728afc80c3": {
          "model_module": "@jupyter-widgets/controls",
          "model_name": "HBoxModel",
          "model_module_version": "1.5.0",
          "state": {
            "_dom_classes": [],
            "_model_module": "@jupyter-widgets/controls",
            "_model_module_version": "1.5.0",
            "_model_name": "HBoxModel",
            "_view_count": null,
            "_view_module": "@jupyter-widgets/controls",
            "_view_module_version": "1.5.0",
            "_view_name": "HBoxView",
            "box_style": "",
            "children": [
              "IPY_MODEL_0825569d69b74647bb8e48b2312cc4c1",
              "IPY_MODEL_27a0e1d6167244eaaf1bcc77dc08b422",
              "IPY_MODEL_b7268f6b817e4121996183cc1eed8b52"
            ],
            "layout": "IPY_MODEL_1078dbf18b5f4f5787edbea2370b582b"
          }
        },
        "0825569d69b74647bb8e48b2312cc4c1": {
          "model_module": "@jupyter-widgets/controls",
          "model_name": "HTMLModel",
          "model_module_version": "1.5.0",
          "state": {
            "_dom_classes": [],
            "_model_module": "@jupyter-widgets/controls",
            "_model_module_version": "1.5.0",
            "_model_name": "HTMLModel",
            "_view_count": null,
            "_view_module": "@jupyter-widgets/controls",
            "_view_module_version": "1.5.0",
            "_view_name": "HTMLView",
            "description": "",
            "description_tooltip": null,
            "layout": "IPY_MODEL_165c558c03454b9697ea69db1d623007",
            "placeholder": "​",
            "style": "IPY_MODEL_77769ebd789e4d908c35c4d9fe7bd6f2",
            "value": "100%"
          }
        },
        "27a0e1d6167244eaaf1bcc77dc08b422": {
          "model_module": "@jupyter-widgets/controls",
          "model_name": "FloatProgressModel",
          "model_module_version": "1.5.0",
          "state": {
            "_dom_classes": [],
            "_model_module": "@jupyter-widgets/controls",
            "_model_module_version": "1.5.0",
            "_model_name": "FloatProgressModel",
            "_view_count": null,
            "_view_module": "@jupyter-widgets/controls",
            "_view_module_version": "1.5.0",
            "_view_name": "ProgressView",
            "bar_style": "success",
            "description": "",
            "description_tooltip": null,
            "layout": "IPY_MODEL_15e064b07294401da98a6b140e94da31",
            "max": 62155,
            "min": 0,
            "orientation": "horizontal",
            "style": "IPY_MODEL_b416f669428d4954a3e787a3d8fad7a4",
            "value": 62155
          }
        },
        "b7268f6b817e4121996183cc1eed8b52": {
          "model_module": "@jupyter-widgets/controls",
          "model_name": "HTMLModel",
          "model_module_version": "1.5.0",
          "state": {
            "_dom_classes": [],
            "_model_module": "@jupyter-widgets/controls",
            "_model_module_version": "1.5.0",
            "_model_name": "HTMLModel",
            "_view_count": null,
            "_view_module": "@jupyter-widgets/controls",
            "_view_module_version": "1.5.0",
            "_view_name": "HTMLView",
            "description": "",
            "description_tooltip": null,
            "layout": "IPY_MODEL_f8a5b3e0a18f4e329720996e817056f4",
            "placeholder": "​",
            "style": "IPY_MODEL_604034a6a16645f6a18907e27f7fffc9",
            "value": " 62155/62155 [00:11&lt;00:00, 5106.20it/s]"
          }
        },
        "1078dbf18b5f4f5787edbea2370b582b": {
          "model_module": "@jupyter-widgets/base",
          "model_name": "LayoutModel",
          "model_module_version": "1.2.0",
          "state": {
            "_model_module": "@jupyter-widgets/base",
            "_model_module_version": "1.2.0",
            "_model_name": "LayoutModel",
            "_view_count": null,
            "_view_module": "@jupyter-widgets/base",
            "_view_module_version": "1.2.0",
            "_view_name": "LayoutView",
            "align_content": null,
            "align_items": null,
            "align_self": null,
            "border": null,
            "bottom": null,
            "display": null,
            "flex": null,
            "flex_flow": null,
            "grid_area": null,
            "grid_auto_columns": null,
            "grid_auto_flow": null,
            "grid_auto_rows": null,
            "grid_column": null,
            "grid_gap": null,
            "grid_row": null,
            "grid_template_areas": null,
            "grid_template_columns": null,
            "grid_template_rows": null,
            "height": null,
            "justify_content": null,
            "justify_items": null,
            "left": null,
            "margin": null,
            "max_height": null,
            "max_width": null,
            "min_height": null,
            "min_width": null,
            "object_fit": null,
            "object_position": null,
            "order": null,
            "overflow": null,
            "overflow_x": null,
            "overflow_y": null,
            "padding": null,
            "right": null,
            "top": null,
            "visibility": null,
            "width": null
          }
        },
        "165c558c03454b9697ea69db1d623007": {
          "model_module": "@jupyter-widgets/base",
          "model_name": "LayoutModel",
          "model_module_version": "1.2.0",
          "state": {
            "_model_module": "@jupyter-widgets/base",
            "_model_module_version": "1.2.0",
            "_model_name": "LayoutModel",
            "_view_count": null,
            "_view_module": "@jupyter-widgets/base",
            "_view_module_version": "1.2.0",
            "_view_name": "LayoutView",
            "align_content": null,
            "align_items": null,
            "align_self": null,
            "border": null,
            "bottom": null,
            "display": null,
            "flex": null,
            "flex_flow": null,
            "grid_area": null,
            "grid_auto_columns": null,
            "grid_auto_flow": null,
            "grid_auto_rows": null,
            "grid_column": null,
            "grid_gap": null,
            "grid_row": null,
            "grid_template_areas": null,
            "grid_template_columns": null,
            "grid_template_rows": null,
            "height": null,
            "justify_content": null,
            "justify_items": null,
            "left": null,
            "margin": null,
            "max_height": null,
            "max_width": null,
            "min_height": null,
            "min_width": null,
            "object_fit": null,
            "object_position": null,
            "order": null,
            "overflow": null,
            "overflow_x": null,
            "overflow_y": null,
            "padding": null,
            "right": null,
            "top": null,
            "visibility": null,
            "width": null
          }
        },
        "77769ebd789e4d908c35c4d9fe7bd6f2": {
          "model_module": "@jupyter-widgets/controls",
          "model_name": "DescriptionStyleModel",
          "model_module_version": "1.5.0",
          "state": {
            "_model_module": "@jupyter-widgets/controls",
            "_model_module_version": "1.5.0",
            "_model_name": "DescriptionStyleModel",
            "_view_count": null,
            "_view_module": "@jupyter-widgets/base",
            "_view_module_version": "1.2.0",
            "_view_name": "StyleView",
            "description_width": ""
          }
        },
        "15e064b07294401da98a6b140e94da31": {
          "model_module": "@jupyter-widgets/base",
          "model_name": "LayoutModel",
          "model_module_version": "1.2.0",
          "state": {
            "_model_module": "@jupyter-widgets/base",
            "_model_module_version": "1.2.0",
            "_model_name": "LayoutModel",
            "_view_count": null,
            "_view_module": "@jupyter-widgets/base",
            "_view_module_version": "1.2.0",
            "_view_name": "LayoutView",
            "align_content": null,
            "align_items": null,
            "align_self": null,
            "border": null,
            "bottom": null,
            "display": null,
            "flex": null,
            "flex_flow": null,
            "grid_area": null,
            "grid_auto_columns": null,
            "grid_auto_flow": null,
            "grid_auto_rows": null,
            "grid_column": null,
            "grid_gap": null,
            "grid_row": null,
            "grid_template_areas": null,
            "grid_template_columns": null,
            "grid_template_rows": null,
            "height": null,
            "justify_content": null,
            "justify_items": null,
            "left": null,
            "margin": null,
            "max_height": null,
            "max_width": null,
            "min_height": null,
            "min_width": null,
            "object_fit": null,
            "object_position": null,
            "order": null,
            "overflow": null,
            "overflow_x": null,
            "overflow_y": null,
            "padding": null,
            "right": null,
            "top": null,
            "visibility": null,
            "width": null
          }
        },
        "b416f669428d4954a3e787a3d8fad7a4": {
          "model_module": "@jupyter-widgets/controls",
          "model_name": "ProgressStyleModel",
          "model_module_version": "1.5.0",
          "state": {
            "_model_module": "@jupyter-widgets/controls",
            "_model_module_version": "1.5.0",
            "_model_name": "ProgressStyleModel",
            "_view_count": null,
            "_view_module": "@jupyter-widgets/base",
            "_view_module_version": "1.2.0",
            "_view_name": "StyleView",
            "bar_color": null,
            "description_width": ""
          }
        },
        "f8a5b3e0a18f4e329720996e817056f4": {
          "model_module": "@jupyter-widgets/base",
          "model_name": "LayoutModel",
          "model_module_version": "1.2.0",
          "state": {
            "_model_module": "@jupyter-widgets/base",
            "_model_module_version": "1.2.0",
            "_model_name": "LayoutModel",
            "_view_count": null,
            "_view_module": "@jupyter-widgets/base",
            "_view_module_version": "1.2.0",
            "_view_name": "LayoutView",
            "align_content": null,
            "align_items": null,
            "align_self": null,
            "border": null,
            "bottom": null,
            "display": null,
            "flex": null,
            "flex_flow": null,
            "grid_area": null,
            "grid_auto_columns": null,
            "grid_auto_flow": null,
            "grid_auto_rows": null,
            "grid_column": null,
            "grid_gap": null,
            "grid_row": null,
            "grid_template_areas": null,
            "grid_template_columns": null,
            "grid_template_rows": null,
            "height": null,
            "justify_content": null,
            "justify_items": null,
            "left": null,
            "margin": null,
            "max_height": null,
            "max_width": null,
            "min_height": null,
            "min_width": null,
            "object_fit": null,
            "object_position": null,
            "order": null,
            "overflow": null,
            "overflow_x": null,
            "overflow_y": null,
            "padding": null,
            "right": null,
            "top": null,
            "visibility": null,
            "width": null
          }
        },
        "604034a6a16645f6a18907e27f7fffc9": {
          "model_module": "@jupyter-widgets/controls",
          "model_name": "DescriptionStyleModel",
          "model_module_version": "1.5.0",
          "state": {
            "_model_module": "@jupyter-widgets/controls",
            "_model_module_version": "1.5.0",
            "_model_name": "DescriptionStyleModel",
            "_view_count": null,
            "_view_module": "@jupyter-widgets/base",
            "_view_module_version": "1.2.0",
            "_view_name": "StyleView",
            "description_width": ""
          }
        }
      }
    }
  },
  "nbformat": 4,
  "nbformat_minor": 0
}