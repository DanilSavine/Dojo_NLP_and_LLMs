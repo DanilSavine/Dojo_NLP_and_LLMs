{
  "cells": [
    {
      "cell_type": "markdown",
      "metadata": {
        "id": "view-in-github",
        "colab_type": "text"
      },
      "source": [
        "<a href=\"https://colab.research.google.com/github/DanilSavine/MasterCourse_NLP_and_LLMs/blob/main/hw_imdb_text_preprocessing.ipynb\" target=\"_parent\"><img src=\"https://colab.research.google.com/assets/colab-badge.svg\" alt=\"Open In Colab\"/></a>"
      ]
    },
    {
      "cell_type": "code",
      "execution_count": 2,
      "metadata": {
        "id": "s-8ltYHfbs5B"
      },
      "outputs": [],
      "source": [
        "import pandas as pd\n",
        "from google_drive_downloader import GoogleDriveDownloader as gdd\n",
        "from pathlib import Path\n",
        "from typing import List, Dict\n",
        "from tqdm.notebook import tqdm\n",
        "import numpy as np\n",
        "import matplotlib.pyplot as plt\n",
        "import random\n",
        "import string"
      ]
    },
    {
      "cell_type": "markdown",
      "metadata": {
        "id": "laDowDK-m6Ag"
      },
      "source": [
        "# HW Instructions\n",
        "\n",
        "## 🚧 Cells\n",
        "All the cells identified with a 🚧 should be completed, either by a code or an written answer.\n",
        "You can add as many cells as you want, but in general cells are already in place.\n",
        "\n",
        "\n",
        "🚧 **TODO** 🚧\n",
        "\n",
        "*Requires to complete a code (can be completed with optional text cells if you find it relevant).*\n",
        "\n",
        "or\n",
        "\n",
        "🚧 **Question** 🚧\n",
        "\n",
        "*Requires a written answer (can be completed with optional code cells if you find it relevant).*\n",
        "\n",
        "## 🔴 Test cells\n",
        "Cells identified with 🔴 should be left untouched and shouldn't return any error.\n",
        "\n",
        "## Presentation\n",
        "The overall presentation of the notebook will account in the grading process.\n",
        "Some advice:\n",
        "- Give title to your figures.\n",
        "- Put legends on the figures.\n",
        "- Comment the figures if they are not self-explanatory.\n",
        "- Add comment in the code if not self-explanatory.\n",
        "- Review your notebook before submitting.\n",
        "- Feel free to add any additional illustration if you find it will bring something.\n",
        "- Remain as concise as possible when answering written answer, emphasize the important points.\n",
        "\n",
        "**We cannot debug every notebooks. The notebook should run entirely from the start to the end without any error. If one cell returns an error during the execution, only the cells before the error will be graded.**\n",
        "\n"
      ]
    },
    {
      "cell_type": "markdown",
      "metadata": {
        "id": "PaBJpPWfW45L"
      },
      "source": [
        "# HW Introduction\n",
        "\n",
        "## Hands on with NLP preprocessing\n",
        "\n",
        "This first TP is here to make you experiment with the first preprocessing steps, necessary but often not emphasized enough.\n",
        "\n",
        "## Plan\n",
        "\n",
        "1. Load the data\n",
        "2. Analyze and clean the text data\n",
        "3. Format the texts for NLP (i.e. tokenize, etc).\n",
        "\n",
        "## Notations\n",
        "\n",
        "Throughout the HW, a text will be called either **document** or **text**.\n",
        "\n",
        "\n",
        "# I - Data loading"
      ]
    },
    {
      "cell_type": "code",
      "execution_count": 3,
      "metadata": {
        "id": "Eri6thqeX_MC"
      },
      "outputs": [],
      "source": [
        "def download_imdb(output_path: str, force_download: bool = False):\n",
        "    \"\"\"Save the data to `output_path`.\"\"\"\n",
        "    output_path = Path(output_path)\n",
        "    if (not output_path.is_file()) or force_download:\n",
        "        gdd.download_file_from_google_drive(\n",
        "            file_id=\"1zfM5E6HvKIe7f3rEt1V2gBpw5QOSSKQz\",\n",
        "            dest_path=output_path,\n",
        "        )\n",
        "    return"
      ]
    },
    {
      "cell_type": "code",
      "execution_count": 4,
      "metadata": {
        "id": "BJ9S1a1jW45M",
        "colab": {
          "base_uri": "https://localhost:8080/"
        },
        "outputId": "b93c55c2-77c4-4933-9dd0-24399658ed00"
      },
      "outputs": [
        {
          "output_type": "stream",
          "name": "stdout",
          "text": [
            "Downloading 1zfM5E6HvKIe7f3rEt1V2gBpw5QOSSKQz into data/imdb_reviews.csv... Done.\n"
          ]
        }
      ],
      "source": [
        "DATA_PATH = \"data/imdb_reviews.csv\"\n",
        "download_imdb(output_path=DATA_PATH, force_download=False)"
      ]
    },
    {
      "cell_type": "markdown",
      "metadata": {
        "id": "NGT4vDXmZDTT"
      },
      "source": [
        "🚧 **TODO** 🚧\n",
        "\n",
        "Read the file to a Pandas dataframe (the file is stored as a csv). Make sure the \"review\" field is of dtype `string` and label of dtype `int`.\n",
        "\n",
        "Hint: https://pandas.pydata.org/docs/user_guide/text.html (you can specify the `dtype` argument of pandas constructor).\n"
      ]
    },
    {
      "cell_type": "code",
      "execution_count": 24,
      "metadata": {
        "id": "gbQw5TGPha20"
      },
      "outputs": [],
      "source": [
        "df_imdb = pd.read_csv(DATA_PATH, dtype={\"review\": \"string\", \"label\": int})"
      ]
    },
    {
      "cell_type": "code",
      "execution_count": 27,
      "metadata": {
        "id": "CAv44K5tpMHF"
      },
      "outputs": [],
      "source": [
        "text_column = df_imdb[\"review\"]\n",
        "label_column = df_imdb[\"label\"]"
      ]
    },
    {
      "cell_type": "markdown",
      "metadata": {
        "id": "hqaE3bBDpPVK"
      },
      "source": [
        "🔴 **TEST**"
      ]
    },
    {
      "cell_type": "code",
      "execution_count": 30,
      "metadata": {
        "id": "-gMHYuJHcQB5"
      },
      "outputs": [],
      "source": [
        "assert text_column.dtype == \"string\"\n",
        "assert label_column.dtype == int"
      ]
    },
    {
      "cell_type": "markdown",
      "metadata": {
        "id": "EMTjOSWEbM6Q"
      },
      "source": [
        "🚧 **TODO** 🚧\n",
        "\n",
        "Print some values of the dataframe.\n",
        "- Print 3 samples of text.\n",
        "- Print their associated labels.\n",
        "- Print some statistics of the dataset.\n",
        "\n"
      ]
    },
    {
      "cell_type": "code",
      "source": [
        "print(text_column[:3])"
      ],
      "metadata": {
        "colab": {
          "base_uri": "https://localhost:8080/"
        },
        "id": "zT7vYU-GBAj3",
        "outputId": "e3422b0b-81b3-4164-e78f-cbe65fcf98a8"
      },
      "execution_count": 37,
      "outputs": [
        {
          "output_type": "stream",
          "name": "stdout",
          "text": [
            "0    Once again Mr. Costner has dragged out a movie...\n",
            "1    This is an example of why the majority of acti...\n",
            "2    First of all I hate those moronic rappers, who...\n",
            "Name: review, dtype: string\n"
          ]
        }
      ]
    },
    {
      "cell_type": "code",
      "execution_count": 50,
      "metadata": {
        "id": "-aQ0d6IIgRO_",
        "colab": {
          "base_uri": "https://localhost:8080/"
        },
        "outputId": "651e8ac5-dde5-41da-9801-5d88c530a168"
      },
      "outputs": [
        {
          "output_type": "stream",
          "name": "stdout",
          "text": [
            "==== 3 first texts ====\n",
            "Once again Mr. Costner has dragged out a movie for far longer than necessary. Aside from the terrific sea rescue sequences, of which there are very few I just did not care about any of the characters. Most of us have ghosts in the closet, and Costner's character are realized early on, and then forgotten until much later, by which time I did not care. The character we should really care about is a very cocky, overconfident Ashton Kutcher. The problem is he comes off as kid who thinks he's better than anyone else around him and shows no signs of a cluttered closet. His only obstacle appears to be winning over Costner. Finally when we are well past the half way point of this stinker, Costner tells us all about Kutcher's ghosts. We are told why Kutcher is driven to be the best with no prior inkling or foreshadowing. No magic here, it was all I could do to keep from turning it off an hour in.\n",
            "This is an example of why the majority of action films are the same. Generic and boring, there's really nothing worth watching here. A complete waste of the then barely-tapped talents of Ice-T and Ice Cube, who've each proven many times over that they are capable of acting, and acting well. Don't bother with this one, go see New Jack City, Ricochet or watch New York Undercover for Ice-T, or Boyz n the Hood, Higher Learning or Friday for Ice Cube and see the real deal. Ice-T's horribly cliched dialogue alone makes this film grate at the teeth, and I'm still wondering what the heck Bill Paxton was doing in this film? And why the heck does he always play the exact same character? From Aliens onward, every film I've seen with Bill Paxton has him playing the exact same irritating character, and at least in Aliens his character died, which made it somewhat gratifying...<br /><br />Overall, this is second-rate action trash. There are countless better films to see, and if you really want to see this one, watch Judgement Night, which is practically a carbon copy but has better acting and a better script. The only thing that made this at all worth watching was a decent hand on the camera - the cinematography was almost refreshing, which comes close to making up for the horrible film itself - but not quite. 4/10.\n",
            "First of all I hate those moronic rappers, who could'nt act if they had a gun pressed against their foreheads. All they do is curse and shoot each other and acting like clichÃ©'e version of gangsters.<br /><br />The movie doesn't take more than five minutes to explain what is going on before we're already at the warehouse There is not a single sympathetic character in this movie, except for the homeless guy, who is also the only one with half a brain.<br /><br />Bill Paxton and William Sadler are both hill billies and Sadlers character is just as much a villain as the gangsters. I did'nt like him right from the start.<br /><br />The movie is filled with pointless violence and Walter Hills specialty: people falling through windows with glass flying everywhere. There is pretty much no plot and it is a big problem when you root for no-one. Everybody dies, except from Paxton and the homeless guy and everybody get what they deserve.<br /><br />The only two black people that can act is the homeless guy and the junkie but they're actors by profession, not annoying ugly brain dead rappers.<br /><br />Stay away from this crap and watch 48 hours 1 and 2 instead. At lest they have characters you care about, a sense of humor and nothing but real actors in the cast.\n",
            "\n",
            "==== Associated labels of the 3 first texts ====\n",
            "0\n",
            "0\n",
            "0\n",
            "\n",
            "=== Dataset statistics ===\n",
            "Number of texts\n",
            "62155\n",
            "\n",
            "Average text length (in characters)\n",
            "1374\n",
            "\n",
            "% of positive texts\n",
            "49.67%\n"
          ]
        }
      ],
      "source": [
        "print(\"==== 3 first texts ====\")\n",
        "for text in text_column[:3]:\n",
        "    print(text)\n",
        "\n",
        "\n",
        "print(\"\\n==== Associated labels of the 3 first texts ====\")\n",
        "for label in label_column[:3]:\n",
        "    print(label)\n",
        "\n",
        "\n",
        "print(\"\\n=== Dataset statistics ===\")\n",
        "print(\"Number of texts\")\n",
        "print(len(text_column))\n",
        "\n",
        "\n",
        "print(\"\\nAverage text length (in characters)\")\n",
        "average_length = int(np.mean([len(text) for text in text_column]))\n",
        "print(average_length)\n",
        "\n",
        "\n",
        "print(\"\\n% of positive texts\")\n",
        "percentage = (np.sum(label_column) / len(label_column)) * 100\n",
        "print(\"{:.2f}%\".format(percentage))"
      ]
    },
    {
      "cell_type": "markdown",
      "metadata": {
        "id": "ON1bQK5jhz4E"
      },
      "source": [
        "## II - Clean and format the data.\n",
        "For this first TP, we want to focus on very simple tasks.\n",
        "Therefore, we want to avoid as much as possible rare and uncommon words that will be considered as outliers.\n",
        "\n",
        "We will try to figure out what kind of cleaning we can perform, by having a look at the data.\n",
        "\n",
        "The plan for this part will be:\n",
        "1. Split the strings as a list of words.\n",
        "2. Find the outliers in the corpus.\n",
        "3. Propose some methods to clean them."
      ]
    },
    {
      "cell_type": "markdown",
      "metadata": {
        "id": "5XLRgi5giy_g"
      },
      "source": [
        "### 1. Tokenization\n",
        "First, we will split our texts into words.\n",
        "Splitting a string into a list of smaller substrings is called **tokenization**, and the substrings are called **tokens**.\n",
        "\n",
        "The simplest way to tokenize a text is to split it by words, according to whitespaces.\n",
        "\n",
        "Then, each word encountered in the training set is stored and uniquely identified through an id.\n",
        "\n"
      ]
    },
    {
      "cell_type": "markdown",
      "metadata": {
        "id": "H-HLOTivIfSP"
      },
      "source": [
        "🚧 **Question** 🚧\n",
        "\n",
        "By doing so, we put a huge emphasis on words within documents.\n",
        "\n",
        "a) Intuitively, why is it relevant? For instance compare to splitting by character.\n",
        "\n",
        "b) Cite some methods discussed during the course that rely on word-based representations of documents.\n",
        "\n",
        "**Answer**\n",
        "\n",
        "a) Intuitevely, words carry semantics so splitting a text by individual words would enable to capture whether a word is contribuiting towards a positive or negative reviews. For example, the presence of  \"amazing\" would be more meaningful semantically than the presence of individual letters.\n",
        "\n",
        "b) Word-based respresentations methods are used in bag-of-words, TF-IDF, and pre-training of word embeddings. These methods are then used in classifiers such as logistic regression or (convolutional) neural networks.  "
      ]
    },
    {
      "cell_type": "markdown",
      "metadata": {
        "id": "jYwJDXAUIc7C"
      },
      "source": [
        "🚧 **TODO** 🚧\n",
        "\n",
        "Implement a tokenizer based on whitespace splitting. For now, the tokenizer should only be able to store each unique word found in the dataset."
      ]
    },
    {
      "cell_type": "code",
      "execution_count": 66,
      "metadata": {
        "id": "791KTHn9W45N"
      },
      "outputs": [],
      "source": [
        "class WhiteSpaceTokenizer:\n",
        "    def __init__(self):\n",
        "        # The vocabulary will store the mapping between text tokens and their id.\n",
        "        self.vocab = {}\n",
        "        self.id_to_token = {}\n",
        "\n",
        "        # We will keep track of the number of times a word appears in the corpus.\n",
        "        self.frequencies = {}\n",
        "\n",
        "    def split_text(self, text: str) -> List[str]:\n",
        "        \"\"\"Converts the text to a list of tokens (substrings).\"\"\"\n",
        "        return text.split(sep = \" \")\n",
        "\n",
        "    def fit(self, corpus: List[str]):\n",
        "        \"\"\"Fits the tokenizer to a list of texts to construct its vocabulary.\"\"\"\n",
        "        current_id = 0\n",
        "        for text in tqdm(corpus):\n",
        "\n",
        "            # Split into substrings.\n",
        "            list_tokens = self.split_text(text)\n",
        "\n",
        "            for token in list_tokens:\n",
        "\n",
        "                # Add the token to the vocabulary\n",
        "                token_id = self.vocab.get(token, None)\n",
        "\n",
        "                token_not_in_vocab = token_id is None\n",
        "                if token_not_in_vocab:\n",
        "                    self.vocab[token] = current_id\n",
        "                    self.id_to_token[current_id] = token\n",
        "                    self.frequencies[current_id] = 0\n",
        "                    token_id = current_id\n",
        "                    current_id += 1\n",
        "\n",
        "                self.frequencies[token_id] += 1\n",
        "\n",
        "        # Total number of words in vocab.\n",
        "        self.num_words = len(self.vocab)\n",
        "        print(f\"Built a vocabulary of {self.num_words} words.\")"
      ]
    },
    {
      "cell_type": "markdown",
      "metadata": {
        "id": "geTlVAEGpa4n"
      },
      "source": [
        "🔴 **TEST**"
      ]
    },
    {
      "cell_type": "code",
      "execution_count": 67,
      "metadata": {
        "id": "joZuRcZ7nc3N",
        "colab": {
          "base_uri": "https://localhost:8080/",
          "height": 67,
          "referenced_widgets": [
            "f85a001df0dc4bb49ec51c554b4bdae5",
            "aaf7068f7a6b456f9d4c1de083007c10",
            "c3c96503d84e444baae9d4936f195f75",
            "753248dbd3e741f89dbfb4a52826a651",
            "cffa0a2d070643d58a5b34137f727a94",
            "1382c2679b28411d8b7252a7b691c1c8",
            "5003760de11e4f2aa98e48845e0425b8",
            "89e40fadf3404ee2908aa7971905d95c",
            "2623b61c75b146ecb79e7d308c2554bf",
            "c9978988695248df8a4076c79d262b72",
            "3faf132a53ff4f68a0ebf327c59e1698"
          ]
        },
        "outputId": "4950f1e9-6202-43c4-9c91-ac5832f18eb4"
      },
      "outputs": [
        {
          "output_type": "display_data",
          "data": {
            "text/plain": [
              "  0%|          | 0/2 [00:00<?, ?it/s]"
            ],
            "application/vnd.jupyter.widget-view+json": {
              "version_major": 2,
              "version_minor": 0,
              "model_id": "f85a001df0dc4bb49ec51c554b4bdae5"
            }
          },
          "metadata": {}
        },
        {
          "output_type": "stream",
          "name": "stdout",
          "text": [
            "Built a vocabulary of 3 words.\n"
          ]
        }
      ],
      "source": [
        "toy_corpus = [\"a cat\", \"a dog\"]\n",
        "tokenizer = WhiteSpaceTokenizer()\n",
        "tokenizer.fit(toy_corpus)\n",
        "assert tokenizer.vocab == {\"a\": 0, \"cat\": 1, \"dog\": 2}\n",
        "assert tokenizer.frequencies == {0: 2, 1: 1, 2: 1}\n",
        "assert tokenizer.num_words == 3"
      ]
    },
    {
      "cell_type": "markdown",
      "metadata": {
        "id": "fct0L_9EoGWT"
      },
      "source": [
        "🚧 **TODO** 🚧\n",
        "\n",
        "Fits the tokenizer on the imdb reviews."
      ]
    },
    {
      "cell_type": "code",
      "execution_count": 75,
      "metadata": {
        "id": "59qiHgwmmcfB",
        "colab": {
          "base_uri": "https://localhost:8080/",
          "height": 67,
          "referenced_widgets": [
            "45458de4d03744c987147509088d444d",
            "eae4fcfbc4f54e37b65c797590a378b3",
            "f143f6fe72a74c569b14709fc3605f91",
            "7f33abea9ef94c0dbdbadfc3bb1781af",
            "14579d2a0f6a436d80f903afb1fafef9",
            "6fe18c58a4254f00994a83dd80d4323b",
            "a023bbbd86f54a1b9188996fec2e746d",
            "3d53778ebab342bd8b852f0a750ad386",
            "34e17c50c68b47abb12e36bd293c97c6",
            "f6865cea95c94a7e803a6c372ec1519e",
            "099df6ca2d464194aef54fdae0369638"
          ]
        },
        "outputId": "33593200-2f7d-48ef-c1bb-8da7f18c913b"
      },
      "outputs": [
        {
          "output_type": "display_data",
          "data": {
            "text/plain": [
              "  0%|          | 0/62155 [00:00<?, ?it/s]"
            ],
            "application/vnd.jupyter.widget-view+json": {
              "version_major": 2,
              "version_minor": 0,
              "model_id": "45458de4d03744c987147509088d444d"
            }
          },
          "metadata": {}
        },
        {
          "output_type": "stream",
          "name": "stdout",
          "text": [
            "Built a vocabulary of 475277 words.\n"
          ]
        }
      ],
      "source": [
        "tokenizer = WhiteSpaceTokenizer()\n",
        "tokenizer.fit(text_column)"
      ]
    },
    {
      "cell_type": "markdown",
      "metadata": {
        "id": "LHBeN-x-2fhB"
      },
      "source": [
        "### 2. Noise analysis"
      ]
    },
    {
      "cell_type": "markdown",
      "metadata": {
        "id": "3H-GBNNVobV8"
      },
      "source": [
        "🚧 **TODO** 🚧\n",
        "\n",
        "Print 50 random tokens."
      ]
    },
    {
      "cell_type": "code",
      "execution_count": 84,
      "metadata": {
        "id": "AI2knE7em9HT",
        "colab": {
          "base_uri": "https://localhost:8080/"
        },
        "outputId": "11062fe0-35d0-495c-f2ce-036bdd9bc6a6"
      },
      "outputs": [
        {
          "output_type": "stream",
          "name": "stdout",
          "text": [
            "Wainrights\n",
            "bunch...I\n",
            "younger-than-usual\n",
            "dildar\n",
            "egregious.\n",
            "Peacock)\n",
            "escorts,\n",
            "_Shock\n",
            "\\mister\\\"),\n",
            "Ritt.\n",
            "apple.<br\n",
            "/>Somehow\n",
            "hotter.\n",
            "/>Seeming\n",
            "Eaglebauer,\n",
            "Beales\n",
            "tens,\n",
            "pestle\n",
            "minors,\n",
            "returning,\n",
            "\\\"Inexplicable\n",
            "\"Close\n",
            "\"commitophobe\"\n",
            "plot-twists\n",
            "capitalism).\n",
            "chicks.\n",
            "Mom's\n",
            "2-4,\n",
            "again,each\n",
            "place.\\\")\n",
            "/>Overall...avoid\n",
            "sexism.<br\n",
            "caters\n",
            "ETC.',\n",
            "Caparzo\n",
            "Sieger\\\"\n",
            "(FRANCIS\n",
            "riot.<br\n",
            "aikido.\n",
            "now.Many\n",
            "crew),\n",
            "ming\n",
            "action-drama\n",
            "\\\"Fido\\\".\n",
            "shmatte;\n",
            "Waters,\n",
            "Coalwood,\\\"\n",
            "man/woman\n",
            "tired,full\n",
            "watchword\n"
          ]
        },
        {
          "output_type": "stream",
          "name": "stderr",
          "text": [
            "<ipython-input-84-a387408791b9>:1: DeprecationWarning: Sampling from a set deprecated\n",
            "since Python 3.9 and will be removed in a subsequent version.\n",
            "  for token in random.sample(tokenizer.vocab.keys(), 50):\n"
          ]
        }
      ],
      "source": [
        "for token in random.sample(tokenizer.vocab.keys(), 50):\n",
        "  print(token)"
      ]
    },
    {
      "cell_type": "markdown",
      "metadata": {
        "id": "buQNo3ZsrXq4"
      },
      "source": [
        "🚧 **QUESTION** 🚧\n",
        "\n",
        "What do you think of the tokens? Do they look like simple \"words\" as expected?\n",
        "\n",
        "Analyze the noise and explain why we got such weird vocabulary.\n",
        "\n",
        "**Answer**\n",
        "\n",
        "No they don't look like simple words. We have a lot of additional characters that might not carry semantic meaning like HTML tags, punctuation, etc. This comes from the fact that we have used only the space for the split.\n",
        "Probably the issue comes from data acquisition."
      ]
    },
    {
      "cell_type": "markdown",
      "metadata": {
        "id": "bbt1bQ2SsK4l"
      },
      "source": [
        "### 3. Cleaning\n",
        "\n",
        "🚧 **TODO** 🚧\n",
        "\n",
        "You are going to implement some of the classical cleaning methods.\n",
        "1. Lower case the string.\n",
        "2. String normalization, i.e., replace accentuated characters by standard version (\"â -> a\") (hint: https://stackoverflow.com/a/14121678).\n",
        "3. Remove non alpha-numeric characters (use Python regex package `re`).\n",
        "4. Replace numeric characters by the token `'<NUM>'` (use the package `re`).\n",
        "5. Remove double whitespaces (use the package `re`).\n"
      ]
    },
    {
      "cell_type": "code",
      "execution_count": 88,
      "metadata": {
        "id": "orSU21XPfBhL"
      },
      "outputs": [],
      "source": [
        "import unicodedata\n",
        "import re"
      ]
    },
    {
      "cell_type": "code",
      "execution_count": 122,
      "metadata": {
        "id": "Y5EqoG1dsWMv"
      },
      "outputs": [],
      "source": [
        "def preprocess_text(text: str) -> str:\n",
        "    # lower case\n",
        "    text = text.lower()\n",
        "    # string normalization.\n",
        "    text = unicodedata.normalize('NFD', text).encode('ascii', 'ignore').decode(\"utf-8\")\n",
        "    # remove non alpha numeric characters.\n",
        "    text = re.sub(r\"[^a-zA-Z0-9]\", ' ', text)\n",
        "    # replace numbers by the <NUM> token.\n",
        "    text = re.sub(r\"\\d+\", '<NUM>', text)\n",
        "    # remove double whitespaces.\n",
        "    text = re.sub(r\"\\s+\", ' ', text).strip()\n",
        "    return text"
      ]
    },
    {
      "cell_type": "code",
      "source": [
        "noisy_text = \"Ï   lîved  in. (surprised?) San-Françisco...  ! for 12 years.\"\n",
        "clean_text = \"i lived in san francisco for <NUM> years\"\n",
        "print(preprocess_text(noisy_text))\n",
        "assert preprocess_text(noisy_text) == clean_text"
      ],
      "metadata": {
        "colab": {
          "base_uri": "https://localhost:8080/",
          "height": 232
        },
        "id": "JNXZGpFbYR7A",
        "outputId": "25fdaac2-8fe4-4fbc-a44c-f2737bb82e66"
      },
      "execution_count": 138,
      "outputs": [
        {
          "output_type": "stream",
          "name": "stdout",
          "text": [
            "i lived in surprised san francisco for <NUM> years\n"
          ]
        },
        {
          "output_type": "error",
          "ename": "AssertionError",
          "evalue": "ignored",
          "traceback": [
            "\u001b[0;31m---------------------------------------------------------------------------\u001b[0m",
            "\u001b[0;31mAssertionError\u001b[0m                            Traceback (most recent call last)",
            "\u001b[0;32m<ipython-input-138-39b52f708dac>\u001b[0m in \u001b[0;36m<cell line: 4>\u001b[0;34m()\u001b[0m\n\u001b[1;32m      2\u001b[0m \u001b[0mclean_text\u001b[0m \u001b[0;34m=\u001b[0m \u001b[0;34m\"i lived in san francisco for <NUM> years\"\u001b[0m\u001b[0;34m\u001b[0m\u001b[0;34m\u001b[0m\u001b[0m\n\u001b[1;32m      3\u001b[0m \u001b[0mprint\u001b[0m\u001b[0;34m(\u001b[0m\u001b[0mpreprocess_text\u001b[0m\u001b[0;34m(\u001b[0m\u001b[0mnoisy_text\u001b[0m\u001b[0;34m)\u001b[0m\u001b[0;34m)\u001b[0m\u001b[0;34m\u001b[0m\u001b[0;34m\u001b[0m\u001b[0m\n\u001b[0;32m----> 4\u001b[0;31m \u001b[0;32massert\u001b[0m \u001b[0mpreprocess_text\u001b[0m\u001b[0;34m(\u001b[0m\u001b[0mnoisy_text\u001b[0m\u001b[0;34m)\u001b[0m \u001b[0;34m==\u001b[0m \u001b[0mclean_text\u001b[0m\u001b[0;34m\u001b[0m\u001b[0;34m\u001b[0m\u001b[0m\n\u001b[0m",
            "\u001b[0;31mAssertionError\u001b[0m: "
          ]
        }
      ]
    },
    {
      "cell_type": "markdown",
      "metadata": {
        "id": "yiAbpQrbptvH"
      },
      "source": [
        "🔴 **TEST**"
      ]
    },
    {
      "cell_type": "code",
      "execution_count": 133,
      "metadata": {
        "id": "cfmJ1GDzy7-f"
      },
      "outputs": [],
      "source": [
        "noisy_text = \"Ï   lîved  in    San-Françisco...  ! for 12 years.\"\n",
        "clean_text = \"i lived in san francisco for <NUM> years\"\n",
        "assert preprocess_text(noisy_text) == clean_text"
      ]
    },
    {
      "cell_type": "markdown",
      "metadata": {
        "id": "LkO-jZPY0mDy"
      },
      "source": [
        "🚧 **TODO** 🚧\n",
        "\n",
        "Add column `clean_review` to the dataframe, with the clean text.\n",
        "\n",
        "Store the `clean_review` column to the variable `clean_column`."
      ]
    },
    {
      "cell_type": "code",
      "execution_count": 119,
      "metadata": {
        "id": "tMO7SaQO0uSr"
      },
      "outputs": [],
      "source": [
        "# Applying preprocessing to the reviews\n",
        "df_imdb[\"clean_review\"] = df_imdb[\"review\"].apply(preprocess_text)\n",
        "\n",
        "clean_column = df_imdb[\"clean_review\"]"
      ]
    },
    {
      "cell_type": "code",
      "source": [
        "clean_column"
      ],
      "metadata": {
        "colab": {
          "base_uri": "https://localhost:8080/"
        },
        "id": "XqJTI1SvYloX",
        "outputId": "fa2f7eb9-a3de-4637-e50f-216732ff2e46"
      },
      "execution_count": 129,
      "outputs": [
        {
          "output_type": "execute_result",
          "data": {
            "text/plain": [
              "0        once again mr costner has dragged out a movie ...\n",
              "1        this is an example of why the majority of acti...\n",
              "2        first of all i hate those moronic rappers who ...\n",
              "3        not even the beatles could write songs everyon...\n",
              "4        brass pictures movies is not a fitting word fo...\n",
              "                               ...                        \n",
              "62150    i am a student of film and have been for sever...\n",
              "62151    unimaginably stupid redundant and humiliating ...\n",
              "62152    guy is a loser can t get girls needs to build ...\n",
              "62153    this <NUM> minute documentary bunuel made in t...\n",
              "62154    i saw this movie as a child and it broke my he...\n",
              "Name: clean_review, Length: 62155, dtype: object"
            ]
          },
          "metadata": {},
          "execution_count": 129
        }
      ]
    },
    {
      "cell_type": "markdown",
      "metadata": {
        "id": "M0Dl9i7X1JWb"
      },
      "source": [
        "🚧 **TODO** 🚧\n",
        "\n",
        "Run the tokenizer on the clean text and print 50 random tokens."
      ]
    },
    {
      "cell_type": "code",
      "execution_count": 143,
      "metadata": {
        "id": "koSGantW1SL1",
        "colab": {
          "base_uri": "https://localhost:8080/",
          "height": 67,
          "referenced_widgets": [
            "d2558719938c47b3abc45fb286320c00",
            "99460239c4b645a386ec82937f83fc83",
            "f6deec3769c843b1a423f693fd15e9a0",
            "35845adddc7641caa1b931d3ce53ed2e",
            "69425ac43d564889a5670c13cbeed055",
            "61427ed9835c4111bde9933ba5158f53",
            "37bbc057e256420b96d68a4a799bf57f",
            "76e1796dfff7464aa47183ddbacb6636",
            "19bc44e0c4f64c129ffa4497a823d307",
            "d253ea30438f40f3ba79567b759c9d88",
            "2832e470f14c4ce380c7454e9fcd3322"
          ]
        },
        "outputId": "5ec13cf8-1c72-46b0-a963-cb8ccdcd77e4"
      },
      "outputs": [
        {
          "output_type": "display_data",
          "data": {
            "text/plain": [
              "  0%|          | 0/62155 [00:00<?, ?it/s]"
            ],
            "application/vnd.jupyter.widget-view+json": {
              "version_major": 2,
              "version_minor": 0,
              "model_id": "d2558719938c47b3abc45fb286320c00"
            }
          },
          "metadata": {}
        },
        {
          "output_type": "stream",
          "name": "stdout",
          "text": [
            "Built a vocabulary of 101917 words.\n"
          ]
        }
      ],
      "source": [
        "tokenizer = WhiteSpaceTokenizer()\n",
        "tokenizer.fit(clean_column)"
      ]
    },
    {
      "cell_type": "code",
      "execution_count": 149,
      "metadata": {
        "id": "DJlHz9Sw1c56",
        "colab": {
          "base_uri": "https://localhost:8080/"
        },
        "outputId": "2097ee6d-ff85-4669-da36-042a460e4950"
      },
      "outputs": [
        {
          "output_type": "stream",
          "name": "stdout",
          "text": [
            "malahide\n",
            "terrorised\n",
            "nickleback\n",
            "lawson\n",
            "quai\n",
            "ferocious\n",
            "sooooooooooooooooooo\n",
            "zoey<NUM>\n",
            "clockwatchers\n",
            "<NUM>ties\n",
            "itelf\n",
            "filmwhat\n",
            "cochlear\n",
            "overcomes\n",
            "idrissa\n",
            "zuzz\n",
            "rudely\n",
            "romulans\n",
            "cobbling\n",
            "format\n",
            "plascencia\n",
            "motoring\n",
            "sheng\n",
            "aghhhhhh\n",
            "spraying\n",
            "sorkin\n",
            "skaggs\n",
            "mellowness\n",
            "uklanski\n",
            "lecarre\n",
            "affectionnates\n",
            "hatfield\n",
            "laborers\n",
            "danyael\n",
            "lasse\n",
            "floated\n",
            "jilt\n",
            "downplaying\n",
            "drape\n",
            "gordone\n",
            "muscial\n",
            "disrespects\n",
            "matchless\n",
            "shiner\n",
            "checklist\n",
            "boleyns\n",
            "yearned\n",
            "elves\n",
            "zeit\n",
            "<NUM>mn\n"
          ]
        },
        {
          "output_type": "stream",
          "name": "stderr",
          "text": [
            "<ipython-input-149-a387408791b9>:1: DeprecationWarning: Sampling from a set deprecated\n",
            "since Python 3.9 and will be removed in a subsequent version.\n",
            "  for token in random.sample(tokenizer.vocab.keys(), 50):\n"
          ]
        }
      ],
      "source": [
        "for token in random.sample(tokenizer.vocab.keys(), 50):\n",
        "  print(token)"
      ]
    },
    {
      "cell_type": "markdown",
      "metadata": {
        "id": "Sq8CzSBw1vsI"
      },
      "source": [
        "🚧 **Question** 🚧\n",
        "\n",
        "What do you think of the new tokens? Are they better? What common noise still remain? (Feel free to print more tokens to get a better intuition).\n",
        "\n",
        "Suggest some methods to improve again the tokenization (at least 2), based on either these results or on something you think we could have done better.\n",
        "\n",
        "**Answer**\n",
        "\n",
        "There remains noise in the form of:\n",
        "* Typos or simply different spellings of the same word (e.g. british vs. american english)\n",
        "* Lack of space between words that should have spaces (e.g. filmovie)\n",
        "* Conjugation of verbs and plural forms (e.g. watched, watching, watches)\n",
        "* Different langages (some of the words are in german)\n",
        "\n",
        "To improve the results we could\n",
        "* Introduce a spell checker\n",
        "* Perform stemming, especially to deal with conjugated verbs or plurals\n",
        "* Introduce a method to deal with contraced forms like I'm or Can't\n",
        "\n"
      ]
    },
    {
      "cell_type": "markdown",
      "metadata": {
        "id": "ohqx368M2ZiG"
      },
      "source": [
        "### Tokens analysis\n",
        "\n",
        "\n",
        "🚧 **TODO** 🚧\n",
        "\n",
        "Show the frequencies repartition.\n",
        "This should be a histogram, with 100 bins, with the frequencies on the x axis and the number of words associated to the frequencies on the y axis (see https://matplotlib.org/stable/api/_as_gen/matplotlib.pyplot.hist.html).\n",
        "\n",
        "Use logarithm scale for y."
      ]
    },
    {
      "cell_type": "code",
      "execution_count": 152,
      "metadata": {
        "id": "r8N76FrE3fyt",
        "colab": {
          "base_uri": "https://localhost:8080/",
          "height": 564
        },
        "outputId": "5035eb91-206e-4294-c593-13e6bbda059d"
      },
      "outputs": [
        {
          "output_type": "display_data",
          "data": {
            "text/plain": [
              "<Figure size 1000x600 with 1 Axes>"
            ],
            "image/png": "[encoded data removed]"
          },
          "metadata": {}
        }
      ],
      "source": [
        "plt.figure(figsize=(10, 6))\n",
        "plt.hist(tokenizer.frequencies.values(), bins=100, log=True, color='skyblue', edgecolor='black')\n",
        "plt.title('Word Frequencies Repartition')\n",
        "plt.xlabel('Frequency of Words')\n",
        "plt.ylabel('Number of Words')\n",
        "plt.grid(axis='y')\n",
        "plt.show()"
      ]
    },
    {
      "cell_type": "markdown",
      "metadata": {
        "id": "qX-WtALB8mam"
      },
      "source": [
        "🚧 **Question** 🚧\n",
        "\n",
        "What do you think of the repartition?\n",
        "\n",
        "**Answer**\n",
        "The repartition is skewed towards 0, with a lot of wors only present once. We could either not use them or spend more time working on the preprocessing (to correct spelling, use stemmization)\n",
        "Also we have some words that are outliers, with more than 300k occurancies. These might be words such as \"a\", \"the\", etc. that might not carry a lot of meaning for our task>  \n"
      ]
    },
    {
      "cell_type": "markdown",
      "metadata": {
        "id": "zXXq8T04fRYM"
      },
      "source": [
        "🚧 **TODO** 🚧\n",
        "\n",
        "Plot the frequencies repartition. Find the best corresponding Zipf law (seen during the course) and plot it on the same figure."
      ]
    },
    {
      "cell_type": "code",
      "execution_count": 161,
      "metadata": {
        "id": "PJeJUqQe_jfo",
        "colab": {
          "base_uri": "https://localhost:8080/",
          "height": 569
        },
        "outputId": "0fc060e9-54c6-446a-a969-133a134872b9"
      },
      "outputs": [
        {
          "output_type": "display_data",
          "data": {
            "text/plain": [
              "<Figure size 1000x600 with 1 Axes>"
            ],
            "image/png": "[encoded data removed]"
          },
          "metadata": {}
        }
      ],
      "source": [
        "# Sort word frequencies from high to low\n",
        "sorted_frequencies = sorted(list(tokenizer.frequencies.values()), reverse=True)\n",
        "\n",
        "# Rank the word frequencies\n",
        "ranks = np.arange(1, len(sorted_frequencies) + 1)\n",
        "\n",
        "# The value of c is the frequency of the most common word\n",
        "c = sorted_frequencies[0]\n",
        "\n",
        "# Predict frequencies using Zipf's law\n",
        "predicted_frequencies = c / ranks\n",
        "\n",
        "plt.figure(figsize=(10, 6))\n",
        "\n",
        "plt.loglog(ranks, sorted_frequencies, marker='o', linestyle='', label='Actual Frequencies', color='blue')\n",
        "plt.loglog(ranks, predicted_frequencies, linestyle='-', label=\"Zipf's Law\", color='red')\n",
        "\n",
        "plt.title('Word Frequencies and Zipf\\'s Law')\n",
        "plt.xlabel('Rank')\n",
        "plt.ylabel('Frequency')\n",
        "plt.legend()\n",
        "plt.grid(True)\n",
        "plt.show()"
      ]
    },
    {
      "cell_type": "markdown",
      "metadata": {
        "id": "FB--kpAVE7p_"
      },
      "source": [
        "## III - DataLoading\n",
        "\n",
        "This final part aims at making your dataset compatible with PyTorch.\n",
        "\n",
        "### Text representation\n",
        "\n",
        "Since we plan to work with PyTorch, we need to work with `tensors`. But since a text is only composed of strings, we need to find some numerical representations for the text.\n",
        "\n",
        "The most basic method is to represent a text by list of tokens. We already used a simple WhiteSpace tokenizer earlier to analyze our texts before cleaning. Now we will use it to *represent* the texts.\n",
        "\n",
        "🚧 **TODO** 🚧\n",
        "\n",
        "Modify the code of the `WhiteSpaceTokenizer` so that it could encode a text into a list of token ids and do the reverse (i.e. decode a list of token ids to a text)."
      ]
    },
    {
      "cell_type": "code",
      "execution_count": null,
      "metadata": {
        "id": "-8a20vOKJ5Wz"
      },
      "outputs": [],
      "source": [
        "class WhiteSpaceTokenizer:\n",
        "    def __init__(self):\n",
        "        # The vocabulary will store the mapping between text tokens and their id.\n",
        "        self.vocab = {}\n",
        "        self.id_to_token = {}\n",
        "\n",
        "        # We will keep track of the number of times a word appears in the corpus.\n",
        "        self.frequencies = {}\n",
        "\n",
        "    def split_text(self, text: str) -> List[str]:\n",
        "        \"\"\"Converts the text to a list of tokens (substrings).\"\"\"\n",
        "        # TODO\n",
        "\n",
        "    def encode(self, text: str) -> List[int]:\n",
        "        \"\"\"Take a text as input and return its associated tokenization, as a list of ids.\"\"\"\n",
        "        # TODO\n",
        "\n",
        "    def decode(self, ids: List[int]) -> str:\n",
        "        # TODO\n",
        "\n",
        "    def fit(self, corpus: List[str]):\n",
        "        \"\"\"Fits the tokenizer to a list of texts to construct its vocabulary.\"\"\"\n",
        "        current_id = 0\n",
        "        for text in tqdm(corpus):\n",
        "\n",
        "            # Split into substrings.\n",
        "            list_tokens = #TODO\n",
        "\n",
        "            for token in list_tokens:\n",
        "\n",
        "                # Add the token to the vocabulary\n",
        "                token_id = self.vocab.get(token, None)\n",
        "\n",
        "                token_not_in_vocab = #TODO\n",
        "                if token_not_in_vocab:\n",
        "                    self.vocab[token] = #TODO\n",
        "                    self.id_to_token[current_id] = #TODO\n",
        "                    self.frequencies[current_id] = 0\n",
        "                    token_id = current_id\n",
        "                    current_id += 1\n",
        "\n",
        "                self.frequencies[token_id] += 1\n",
        "\n",
        "        # Total number of words in vocab.\n",
        "        self.num_words = #TODO\n",
        "        print(f\"Built a vocabulary of {self.num_words} words.\")"
      ]
    },
    {
      "cell_type": "markdown",
      "metadata": {
        "id": "EawK5ctWqjOQ"
      },
      "source": [
        "🔴 **TEST**"
      ]
    },
    {
      "cell_type": "code",
      "execution_count": null,
      "metadata": {
        "id": "l1slN9MEKWjC"
      },
      "outputs": [],
      "source": [
        "tokenizer = WhiteSpaceTokenizer()\n",
        "toy_dataset = [\"the cat is in the kitchen\", \"i have a dog\"]\n",
        "tokenizer.fit(toy_dataset)\n",
        "text = \"i have a kitchen\"\n",
        "assert tokenizer.encode(text) == [5, 6, 7, 4]\n",
        "assert tokenizer.decode([0, 1, 2, 7, 8]) == \"the cat is a dog\""
      ]
    },
    {
      "cell_type": "markdown",
      "metadata": {
        "id": "imYmiv-PMiH4"
      },
      "source": [
        "🚧 **TODO** 🚧 Now fit it on your dataset."
      ]
    },
    {
      "cell_type": "code",
      "execution_count": null,
      "metadata": {
        "id": "5-agmjJdMkHg"
      },
      "outputs": [],
      "source": [
        "# TODO"
      ]
    },
    {
      "cell_type": "markdown",
      "metadata": {
        "id": "ZHO2xKpiL1oI"
      },
      "source": [
        "🚧 **Question** 🚧\n",
        "Look at the following code:"
      ]
    },
    {
      "cell_type": "code",
      "execution_count": null,
      "metadata": {
        "id": "l3zS9noAL0DO"
      },
      "outputs": [],
      "source": [
        "tokenizer.encode(\"the king is in the câstle\")"
      ]
    },
    {
      "cell_type": "markdown",
      "metadata": {
        "id": "Reu2H7UXM9J_"
      },
      "source": [
        "a) Does it raise an exception? Explain what is the problem with the above situation.\n",
        "\n",
        "b) In which real life scenario could such a situation appear?\n",
        "\n",
        "**Answer**\n",
        "\n",
        "TODO\n"
      ]
    },
    {
      "cell_type": "markdown",
      "metadata": {
        "id": "XbJtCxPKOFYe"
      },
      "source": [
        "🚧 **TODO** 🚧\n",
        "\n",
        "Propose a simple modification of the tokenizer code such that it doesn't raise an exception anymore. It should handle the presence of any unknown token.\n",
        "\n",
        "The following code should't raise any exception."
      ]
    },
    {
      "cell_type": "markdown",
      "metadata": {
        "id": "-sxrH8mFqs6I"
      },
      "source": [
        "🔴 **TEST**"
      ]
    },
    {
      "cell_type": "code",
      "execution_count": null,
      "metadata": {
        "id": "EJVfIsLqLQ4M"
      },
      "outputs": [],
      "source": [
        "allowed_characters = (string.ascii_uppercase + string.digits).replace(\" \", \"\")\n",
        "for _ in range(1000):\n",
        "    word_that_do_not_exist = \"\".join(random.choices(allowed_characters, k=100))\n",
        "    encoding = tokenizer.encode(f\"the king is in the {word_that_do_not_exist}\")\n",
        "    assert tokenizer.decode(encoding) == \"the king is in the <UNK>\""
      ]
    },
    {
      "cell_type": "markdown",
      "metadata": {
        "id": "DZ_O5jT_f0Mr"
      },
      "source": [
        "### Dataset for PyTorch\n",
        "We will be working wtth PyTorch most of the time.\n",
        "A good practice is to always iterate through a `torch.utils.data.DataLoader`, coupled with `torch.utils.data.Dataset`.\n",
        "\n",
        "🚧 **TODO** 🚧\n",
        "\n",
        "We will construct our custom `Dataset` class, that should be fully compatible with the PyTorch API. According to the [documentation](https://pytorch.org/tutorials/beginner/basics/data_tutorial.html#creating-a-custom-dataset-for-your-files), such a dataset should implement at least three methods, `__init__`, `__len__`, `__getitem__`. Complete the following code such that the dataset yields a list of texts.\n",
        "\n",
        "Requirements:\n",
        "1. The dataset class should read the data from the csv_file stored in `DATA_PATH`.\n",
        "2. The dataset should output the raw text, without any cleaning."
      ]
    },
    {
      "cell_type": "code",
      "execution_count": null,
      "metadata": {
        "id": "Gqn2FgOthdcF"
      },
      "outputs": [],
      "source": [
        "from torch.utils.data import Dataset\n",
        "\n",
        "\n",
        "class IMDBDataset(Dataset):\n",
        "    def __init__(self, file_path: str):\n",
        "        # TODO\n",
        "\n",
        "    def __len__(self):\n",
        "        # TODO\n",
        "\n",
        "    def __getitem__(self, idx: int):\n",
        "        # TODO"
      ]
    },
    {
      "cell_type": "markdown",
      "metadata": {
        "id": "T2kJbUUxtPi8"
      },
      "source": [
        "🔴 **TEST**"
      ]
    },
    {
      "cell_type": "code",
      "execution_count": null,
      "metadata": {
        "id": "68tkYxHKiFzA"
      },
      "outputs": [],
      "source": [
        "imdb_dataset = IMDBDataset(file_path=DATA_PATH)\n",
        "text, label = imdb_dataset[0]\n",
        "assert text == text_column[0]\n",
        "assert label == label_column[0]"
      ]
    },
    {
      "cell_type": "markdown",
      "metadata": {
        "id": "1EaTm6k7QZHL"
      },
      "source": [
        "### DataLoader for PyTorch\n",
        "\n",
        "Now that the dataset is ready, we should be able to iterate through it. This is done with a `DataLoader`.\n",
        "\n",
        "The `DataLoader` also has some handy functionnalities:\n",
        "1. Batch iteration.\n",
        "2. Collate function.\n",
        "\n",
        "The collate function corresponds to the argument `collate_fn` of the constructor of `torch.utils.data.DataLoader`.\n",
        "\n",
        "This function is applied on the fly to each sample of the dataset.\n",
        "\n",
        "Our `IMDBDataset` only outputs raw texts. During the iteration through the `DataLoader`, we would like to:\n",
        "1. Clean the dataset with our cleaning function `preprocess_text`.\n",
        "2. Convert the text to a list of tokens.\n",
        "3. The `DataLoader`, for a batch size of `N`, should yield a dictionnary `{\"token_ids\": ..., \"labels\": ...,}` with `\"token_ids\"` corresponding to a list of `N` lists of tokens ids, and `\"labels\"` to a list of size `N` with the corresponding labels.\n",
        "\n",
        "🚧 **TODO** 🚧\n",
        "\n",
        "Write the `collate_fn` function so that the above requirements are satisfied (i.e., clean and tokenize)."
      ]
    },
    {
      "cell_type": "code",
      "execution_count": null,
      "metadata": {
        "id": "hvbB5VMrSSzY"
      },
      "outputs": [],
      "source": [
        "# TODO\n",
        "def collate_fn(batch):"
      ]
    },
    {
      "cell_type": "code",
      "execution_count": null,
      "metadata": {
        "id": "jGkthDygS5uT"
      },
      "outputs": [],
      "source": [
        "from torch.utils.data import DataLoader"
      ]
    },
    {
      "cell_type": "markdown",
      "metadata": {
        "id": "B0aAd6B2q4KC"
      },
      "source": [
        "🔴 **TEST**"
      ]
    },
    {
      "cell_type": "code",
      "execution_count": null,
      "metadata": {
        "id": "YMkufgR1Sf8J"
      },
      "outputs": [],
      "source": [
        "for batch_size in range(1, 10):\n",
        "    dataloader = DataLoader(\n",
        "        dataset=imdb_dataset, batch_size=batch_size, collate_fn=collate_fn\n",
        "    )\n",
        "    for batch in dataloader:\n",
        "        token_ids = batch[\"token_ids\"]\n",
        "        labels = batch[\"labels\"]\n",
        "        assert len(token_ids) == batch_size\n",
        "        assert len(labels) == batch_size\n",
        "        assert isinstance(token_ids[0][0], int)\n",
        "        assert (isinstance(labels[0], int)) or isinstance(labels[0], np.int64)\n",
        "        break"
      ]
    },
    {
      "cell_type": "markdown",
      "metadata": {
        "id": "JacMmD5Kq6j8"
      },
      "source": [
        "🚧 **Question** 🚧\n",
        "\n",
        "Write a concise summary on what you learned with this lab.\n",
        "\n",
        "**Answer**\n",
        "\n",
        "TODO"
      ]
    }
  ],
  "metadata": {
    "colab": {
      "provenance": [],
      "include_colab_link": true
    },
    "kernelspec": {
      "display_name": "Python 3 (ipykernel)",
      "language": "python",
      "name": "python3"
    },
    "language_info": {
      "codemirror_mode": {
        "name": "ipython",
        "version": 3
      },
      "file_extension": ".py",
      "mimetype": "text/x-python",
      "name": "python",
      "nbconvert_exporter": "python",
      "pygments_lexer": "ipython3",
      "version": "3.9.12"
    },
    "toc": {
      "base_numbering": 1,
      "nav_menu": {},
      "number_sections": true,
      "sideBar": true,
      "skip_h1_title": false,
      "title_cell": "Table of Contents",
      "title_sidebar": "Contents",
      "toc_cell": false,
      "toc_position": {},
      "toc_section_display": true,
      "toc_window_display": false
    },
    "widgets": {
      "application/vnd.jupyter.widget-state+json": {
        "f85a001df0dc4bb49ec51c554b4bdae5": {
          "model_module": "@jupyter-widgets/controls",
          "model_name": "HBoxModel",
          "model_module_version": "1.5.0",
          "state": {
            "_dom_classes": [],
            "_model_module": "@jupyter-widgets/controls",
            "_model_module_version": "1.5.0",
            "_model_name": "HBoxModel",
            "_view_count": null,
            "_view_module": "@jupyter-widgets/controls",
            "_view_module_version": "1.5.0",
            "_view_name": "HBoxView",
            "box_style": "",
            "children": [
              "IPY_MODEL_aaf7068f7a6b456f9d4c1de083007c10",
              "IPY_MODEL_c3c96503d84e444baae9d4936f195f75",
              "IPY_MODEL_753248dbd3e741f89dbfb4a52826a651"
            ],
            "layout": "IPY_MODEL_cffa0a2d070643d58a5b34137f727a94"
          }
        },
        "aaf7068f7a6b456f9d4c1de083007c10": {
          "model_module": "@jupyter-widgets/controls",
          "model_name": "HTMLModel",
          "model_module_version": "1.5.0",
          "state": {
            "_dom_classes": [],
            "_model_module": "@jupyter-widgets/controls",
            "_model_module_version": "1.5.0",
            "_model_name": "HTMLModel",
            "_view_count": null,
            "_view_module": "@jupyter-widgets/controls",
            "_view_module_version": "1.5.0",
            "_view_name": "HTMLView",
            "description": "",
            "description_tooltip": null,
            "layout": "IPY_MODEL_1382c2679b28411d8b7252a7b691c1c8",
            "placeholder": "​",
            "style": "IPY_MODEL_5003760de11e4f2aa98e48845e0425b8",
            "value": "100%"
          }
        },
        "c3c96503d84e444baae9d4936f195f75": {
          "model_module": "@jupyter-widgets/controls",
          "model_name": "FloatProgressModel",
          "model_module_version": "1.5.0",
          "state": {
            "_dom_classes": [],
            "_model_module": "@jupyter-widgets/controls",
            "_model_module_version": "1.5.0",
            "_model_name": "FloatProgressModel",
            "_view_count": null,
            "_view_module": "@jupyter-widgets/controls",
            "_view_module_version": "1.5.0",
            "_view_name": "ProgressView",
            "bar_style": "success",
            "description": "",
            "description_tooltip": null,
            "layout": "IPY_MODEL_89e40fadf3404ee2908aa7971905d95c",
            "max": 2,
            "min": 0,
            "orientation": "horizontal",
            "style": "IPY_MODEL_2623b61c75b146ecb79e7d308c2554bf",
            "value": 2
          }
        },
        "753248dbd3e741f89dbfb4a52826a651": {
          "model_module": "@jupyter-widgets/controls",
          "model_name": "HTMLModel",
          "model_module_version": "1.5.0",
          "state": {
            "_dom_classes": [],
            "_model_module": "@jupyter-widgets/controls",
            "_model_module_version": "1.5.0",
            "_model_name": "HTMLModel",
            "_view_count": null,
            "_view_module": "@jupyter-widgets/controls",
            "_view_module_version": "1.5.0",
            "_view_name": "HTMLView",
            "description": "",
            "description_tooltip": null,
            "layout": "IPY_MODEL_c9978988695248df8a4076c79d262b72",
            "placeholder": "​",
            "style": "IPY_MODEL_3faf132a53ff4f68a0ebf327c59e1698",
            "value": " 2/2 [00:00&lt;00:00, 66.49it/s]"
          }
        },
        "cffa0a2d070643d58a5b34137f727a94": {
          "model_module": "@jupyter-widgets/base",
          "model_name": "LayoutModel",
          "model_module_version": "1.2.0",
          "state": {
            "_model_module": "@jupyter-widgets/base",
            "_model_module_version": "1.2.0",
            "_model_name": "LayoutModel",
            "_view_count": null,
            "_view_module": "@jupyter-widgets/base",
            "_view_module_version": "1.2.0",
            "_view_name": "LayoutView",
            "align_content": null,
            "align_items": null,
            "align_self": null,
            "border": null,
            "bottom": null,
            "display": null,
            "flex": null,
            "flex_flow": null,
            "grid_area": null,
            "grid_auto_columns": null,
            "grid_auto_flow": null,
            "grid_auto_rows": null,
            "grid_column": null,
            "grid_gap": null,
            "grid_row": null,
            "grid_template_areas": null,
            "grid_template_columns": null,
            "grid_template_rows": null,
            "height": null,
            "justify_content": null,
            "justify_items": null,
            "left": null,
            "margin": null,
            "max_height": null,
            "max_width": null,
            "min_height": null,
            "min_width": null,
            "object_fit": null,
            "object_position": null,
            "order": null,
            "overflow": null,
            "overflow_x": null,
            "overflow_y": null,
            "padding": null,
            "right": null,
            "top": null,
            "visibility": null,
            "width": null
          }
        },
        "1382c2679b28411d8b7252a7b691c1c8": {
          "model_module": "@jupyter-widgets/base",
          "model_name": "LayoutModel",
          "model_module_version": "1.2.0",
          "state": {
            "_model_module": "@jupyter-widgets/base",
            "_model_module_version": "1.2.0",
            "_model_name": "LayoutModel",
            "_view_count": null,
            "_view_module": "@jupyter-widgets/base",
            "_view_module_version": "1.2.0",
            "_view_name": "LayoutView",
            "align_content": null,
            "align_items": null,
            "align_self": null,
            "border": null,
            "bottom": null,
            "display": null,
            "flex": null,
            "flex_flow": null,
            "grid_area": null,
            "grid_auto_columns": null,
            "grid_auto_flow": null,
            "grid_auto_rows": null,
            "grid_column": null,
            "grid_gap": null,
            "grid_row": null,
            "grid_template_areas": null,
            "grid_template_columns": null,
            "grid_template_rows": null,
            "height": null,
            "justify_content": null,
            "justify_items": null,
            "left": null,
            "margin": null,
            "max_height": null,
            "max_width": null,
            "min_height": null,
            "min_width": null,
            "object_fit": null,
            "object_position": null,
            "order": null,
            "overflow": null,
            "overflow_x": null,
            "overflow_y": null,
            "padding": null,
            "right": null,
            "top": null,
            "visibility": null,
            "width": null
          }
        },
        "5003760de11e4f2aa98e48845e0425b8": {
          "model_module": "@jupyter-widgets/controls",
          "model_name": "DescriptionStyleModel",
          "model_module_version": "1.5.0",
          "state": {
            "_model_module": "@jupyter-widgets/controls",
            "_model_module_version": "1.5.0",
            "_model_name": "DescriptionStyleModel",
            "_view_count": null,
            "_view_module": "@jupyter-widgets/base",
            "_view_module_version": "1.2.0",
            "_view_name": "StyleView",
            "description_width": ""
          }
        },
        "89e40fadf3404ee2908aa7971905d95c": {
          "model_module": "@jupyter-widgets/base",
          "model_name": "LayoutModel",
          "model_module_version": "1.2.0",
          "state": {
            "_model_module": "@jupyter-widgets/base",
            "_model_module_version": "1.2.0",
            "_model_name": "LayoutModel",
            "_view_count": null,
            "_view_module": "@jupyter-widgets/base",
            "_view_module_version": "1.2.0",
            "_view_name": "LayoutView",
            "align_content": null,
            "align_items": null,
            "align_self": null,
            "border": null,
            "bottom": null,
            "display": null,
            "flex": null,
            "flex_flow": null,
            "grid_area": null,
            "grid_auto_columns": null,
            "grid_auto_flow": null,
            "grid_auto_rows": null,
            "grid_column": null,
            "grid_gap": null,
            "grid_row": null,
            "grid_template_areas": null,
            "grid_template_columns": null,
            "grid_template_rows": null,
            "height": null,
            "justify_content": null,
            "justify_items": null,
            "left": null,
            "margin": null,
            "max_height": null,
            "max_width": null,
            "min_height": null,
            "min_width": null,
            "object_fit": null,
            "object_position": null,
            "order": null,
            "overflow": null,
            "overflow_x": null,
            "overflow_y": null,
            "padding": null,
            "right": null,
            "top": null,
            "visibility": null,
            "width": null
          }
        },
        "2623b61c75b146ecb79e7d308c2554bf": {
          "model_module": "@jupyter-widgets/controls",
          "model_name": "ProgressStyleModel",
          "model_module_version": "1.5.0",
          "state": {
            "_model_module": "@jupyter-widgets/controls",
            "_model_module_version": "1.5.0",
            "_model_name": "ProgressStyleModel",
            "_view_count": null,
            "_view_module": "@jupyter-widgets/base",
            "_view_module_version": "1.2.0",
            "_view_name": "StyleView",
            "bar_color": null,
            "description_width": ""
          }
        },
        "c9978988695248df8a4076c79d262b72": {
          "model_module": "@jupyter-widgets/base",
          "model_name": "LayoutModel",
          "model_module_version": "1.2.0",
          "state": {
            "_model_module": "@jupyter-widgets/base",
            "_model_module_version": "1.2.0",
            "_model_name": "LayoutModel",
            "_view_count": null,
            "_view_module": "@jupyter-widgets/base",
            "_view_module_version": "1.2.0",
            "_view_name": "LayoutView",
            "align_content": null,
            "align_items": null,
            "align_self": null,
            "border": null,
            "bottom": null,
            "display": null,
            "flex": null,
            "flex_flow": null,
            "grid_area": null,
            "grid_auto_columns": null,
            "grid_auto_flow": null,
            "grid_auto_rows": null,
            "grid_column": null,
            "grid_gap": null,
            "grid_row": null,
            "grid_template_areas": null,
            "grid_template_columns": null,
            "grid_template_rows": null,
            "height": null,
            "justify_content": null,
            "justify_items": null,
            "left": null,
            "margin": null,
            "max_height": null,
            "max_width": null,
            "min_height": null,
            "min_width": null,
            "object_fit": null,
            "object_position": null,
            "order": null,
            "overflow": null,
            "overflow_x": null,
            "overflow_y": null,
            "padding": null,
            "right": null,
            "top": null,
            "visibility": null,
            "width": null
          }
        },
        "3faf132a53ff4f68a0ebf327c59e1698": {
          "model_module": "@jupyter-widgets/controls",
          "model_name": "DescriptionStyleModel",
          "model_module_version": "1.5.0",
          "state": {
            "_model_module": "@jupyter-widgets/controls",
            "_model_module_version": "1.5.0",
            "_model_name": "DescriptionStyleModel",
            "_view_count": null,
            "_view_module": "@jupyter-widgets/base",
            "_view_module_version": "1.2.0",
            "_view_name": "StyleView",
            "description_width": ""
          }
        },
        "45458de4d03744c987147509088d444d": {
          "model_module": "@jupyter-widgets/controls",
          "model_name": "HBoxModel",
          "model_module_version": "1.5.0",
          "state": {
            "_dom_classes": [],
            "_model_module": "@jupyter-widgets/controls",
            "_model_module_version": "1.5.0",
            "_model_name": "HBoxModel",
            "_view_count": null,
            "_view_module": "@jupyter-widgets/controls",
            "_view_module_version": "1.5.0",
            "_view_name": "HBoxView",
            "box_style": "",
            "children": [
              "IPY_MODEL_eae4fcfbc4f54e37b65c797590a378b3",
              "IPY_MODEL_f143f6fe72a74c569b14709fc3605f91",
              "IPY_MODEL_7f33abea9ef94c0dbdbadfc3bb1781af"
            ],
            "layout": "IPY_MODEL_14579d2a0f6a436d80f903afb1fafef9"
          }
        },
        "eae4fcfbc4f54e37b65c797590a378b3": {
          "model_module": "@jupyter-widgets/controls",
          "model_name": "HTMLModel",
          "model_module_version": "1.5.0",
          "state": {
            "_dom_classes": [],
            "_model_module": "@jupyter-widgets/controls",
            "_model_module_version": "1.5.0",
            "_model_name": "HTMLModel",
            "_view_count": null,
            "_view_module": "@jupyter-widgets/controls",
            "_view_module_version": "1.5.0",
            "_view_name": "HTMLView",
            "description": "",
            "description_tooltip": null,
            "layout": "IPY_MODEL_6fe18c58a4254f00994a83dd80d4323b",
            "placeholder": "​",
            "style": "IPY_MODEL_a023bbbd86f54a1b9188996fec2e746d",
            "value": "100%"
          }
        },
        "f143f6fe72a74c569b14709fc3605f91": {
          "model_module": "@jupyter-widgets/controls",
          "model_name": "FloatProgressModel",
          "model_module_version": "1.5.0",
          "state": {
            "_dom_classes": [],
            "_model_module": "@jupyter-widgets/controls",
            "_model_module_version": "1.5.0",
            "_model_name": "FloatProgressModel",
            "_view_count": null,
            "_view_module": "@jupyter-widgets/controls",
            "_view_module_version": "1.5.0",
            "_view_name": "ProgressView",
            "bar_style": "success",
            "description": "",
            "description_tooltip": null,
            "layout": "IPY_MODEL_3d53778ebab342bd8b852f0a750ad386",
            "max": 62155,
            "min": 0,
            "orientation": "horizontal",
            "style": "IPY_MODEL_34e17c50c68b47abb12e36bd293c97c6",
            "value": 62155
          }
        },
        "7f33abea9ef94c0dbdbadfc3bb1781af": {
          "model_module": "@jupyter-widgets/controls",
          "model_name": "HTMLModel",
          "model_module_version": "1.5.0",
          "state": {
            "_dom_classes": [],
            "_model_module": "@jupyter-widgets/controls",
            "_model_module_version": "1.5.0",
            "_model_name": "HTMLModel",
            "_view_count": null,
            "_view_module": "@jupyter-widgets/controls",
            "_view_module_version": "1.5.0",
            "_view_name": "HTMLView",
            "description": "",
            "description_tooltip": null,
            "layout": "IPY_MODEL_f6865cea95c94a7e803a6c372ec1519e",
            "placeholder": "​",
            "style": "IPY_MODEL_099df6ca2d464194aef54fdae0369638",
            "value": " 62155/62155 [00:13&lt;00:00, 5032.07it/s]"
          }
        },
        "14579d2a0f6a436d80f903afb1fafef9": {
          "model_module": "@jupyter-widgets/base",
          "model_name": "LayoutModel",
          "model_module_version": "1.2.0",
          "state": {
            "_model_module": "@jupyter-widgets/base",
            "_model_module_version": "1.2.0",
            "_model_name": "LayoutModel",
            "_view_count": null,
            "_view_module": "@jupyter-widgets/base",
            "_view_module_version": "1.2.0",
            "_view_name": "LayoutView",
            "align_content": null,
            "align_items": null,
            "align_self": null,
            "border": null,
            "bottom": null,
            "display": null,
            "flex": null,
            "flex_flow": null,
            "grid_area": null,
            "grid_auto_columns": null,
            "grid_auto_flow": null,
            "grid_auto_rows": null,
            "grid_column": null,
            "grid_gap": null,
            "grid_row": null,
            "grid_template_areas": null,
            "grid_template_columns": null,
            "grid_template_rows": null,
            "height": null,
            "justify_content": null,
            "justify_items": null,
            "left": null,
            "margin": null,
            "max_height": null,
            "max_width": null,
            "min_height": null,
            "min_width": null,
            "object_fit": null,
            "object_position": null,
            "order": null,
            "overflow": null,
            "overflow_x": null,
            "overflow_y": null,
            "padding": null,
            "right": null,
            "top": null,
            "visibility": null,
            "width": null
          }
        },
        "6fe18c58a4254f00994a83dd80d4323b": {
          "model_module": "@jupyter-widgets/base",
          "model_name": "LayoutModel",
          "model_module_version": "1.2.0",
          "state": {
            "_model_module": "@jupyter-widgets/base",
            "_model_module_version": "1.2.0",
            "_model_name": "LayoutModel",
            "_view_count": null,
            "_view_module": "@jupyter-widgets/base",
            "_view_module_version": "1.2.0",
            "_view_name": "LayoutView",
            "align_content": null,
            "align_items": null,
            "align_self": null,
            "border": null,
            "bottom": null,
            "display": null,
            "flex": null,
            "flex_flow": null,
            "grid_area": null,
            "grid_auto_columns": null,
            "grid_auto_flow": null,
            "grid_auto_rows": null,
            "grid_column": null,
            "grid_gap": null,
            "grid_row": null,
            "grid_template_areas": null,
            "grid_template_columns": null,
            "grid_template_rows": null,
            "height": null,
            "justify_content": null,
            "justify_items": null,
            "left": null,
            "margin": null,
            "max_height": null,
            "max_width": null,
            "min_height": null,
            "min_width": null,
            "object_fit": null,
            "object_position": null,
            "order": null,
            "overflow": null,
            "overflow_x": null,
            "overflow_y": null,
            "padding": null,
            "right": null,
            "top": null,
            "visibility": null,
            "width": null
          }
        },
        "a023bbbd86f54a1b9188996fec2e746d": {
          "model_module": "@jupyter-widgets/controls",
          "model_name": "DescriptionStyleModel",
          "model_module_version": "1.5.0",
          "state": {
            "_model_module": "@jupyter-widgets/controls",
            "_model_module_version": "1.5.0",
            "_model_name": "DescriptionStyleModel",
            "_view_count": null,
            "_view_module": "@jupyter-widgets/base",
            "_view_module_version": "1.2.0",
            "_view_name": "StyleView",
            "description_width": ""
          }
        },
        "3d53778ebab342bd8b852f0a750ad386": {
          "model_module": "@jupyter-widgets/base",
          "model_name": "LayoutModel",
          "model_module_version": "1.2.0",
          "state": {
            "_model_module": "@jupyter-widgets/base",
            "_model_module_version": "1.2.0",
            "_model_name": "LayoutModel",
            "_view_count": null,
            "_view_module": "@jupyter-widgets/base",
            "_view_module_version": "1.2.0",
            "_view_name": "LayoutView",
            "align_content": null,
            "align_items": null,
            "align_self": null,
            "border": null,
            "bottom": null,
            "display": null,
            "flex": null,
            "flex_flow": null,
            "grid_area": null,
            "grid_auto_columns": null,
            "grid_auto_flow": null,
            "grid_auto_rows": null,
            "grid_column": null,
            "grid_gap": null,
            "grid_row": null,
            "grid_template_areas": null,
            "grid_template_columns": null,
            "grid_template_rows": null,
            "height": null,
            "justify_content": null,
            "justify_items": null,
            "left": null,
            "margin": null,
            "max_height": null,
            "max_width": null,
            "min_height": null,
            "min_width": null,
            "object_fit": null,
            "object_position": null,
            "order": null,
            "overflow": null,
            "overflow_x": null,
            "overflow_y": null,
            "padding": null,
            "right": null,
            "top": null,
            "visibility": null,
            "width": null
          }
        },
        "34e17c50c68b47abb12e36bd293c97c6": {
          "model_module": "@jupyter-widgets/controls",
          "model_name": "ProgressStyleModel",
          "model_module_version": "1.5.0",
          "state": {
            "_model_module": "@jupyter-widgets/controls",
            "_model_module_version": "1.5.0",
            "_model_name": "ProgressStyleModel",
            "_view_count": null,
            "_view_module": "@jupyter-widgets/base",
            "_view_module_version": "1.2.0",
            "_view_name": "StyleView",
            "bar_color": null,
            "description_width": ""
          }
        },
        "f6865cea95c94a7e803a6c372ec1519e": {
          "model_module": "@jupyter-widgets/base",
          "model_name": "LayoutModel",
          "model_module_version": "1.2.0",
          "state": {
            "_model_module": "@jupyter-widgets/base",
            "_model_module_version": "1.2.0",
            "_model_name": "LayoutModel",
            "_view_count": null,
            "_view_module": "@jupyter-widgets/base",
            "_view_module_version": "1.2.0",
            "_view_name": "LayoutView",
            "align_content": null,
            "align_items": null,
            "align_self": null,
            "border": null,
            "bottom": null,
            "display": null,
            "flex": null,
            "flex_flow": null,
            "grid_area": null,
            "grid_auto_columns": null,
            "grid_auto_flow": null,
            "grid_auto_rows": null,
            "grid_column": null,
            "grid_gap": null,
            "grid_row": null,
            "grid_template_areas": null,
            "grid_template_columns": null,
            "grid_template_rows": null,
            "height": null,
            "justify_content": null,
            "justify_items": null,
            "left": null,
            "margin": null,
            "max_height": null,
            "max_width": null,
            "min_height": null,
            "min_width": null,
            "object_fit": null,
            "object_position": null,
            "order": null,
            "overflow": null,
            "overflow_x": null,
            "overflow_y": null,
            "padding": null,
            "right": null,
            "top": null,
            "visibility": null,
            "width": null
          }
        },
        "099df6ca2d464194aef54fdae0369638": {
          "model_module": "@jupyter-widgets/controls",
          "model_name": "DescriptionStyleModel",
          "model_module_version": "1.5.0",
          "state": {
            "_model_module": "@jupyter-widgets/controls",
            "_model_module_version": "1.5.0",
            "_model_name": "DescriptionStyleModel",
            "_view_count": null,
            "_view_module": "@jupyter-widgets/base",
            "_view_module_version": "1.2.0",
            "_view_name": "StyleView",
            "description_width": ""
          }
        },
        "d2558719938c47b3abc45fb286320c00": {
          "model_module": "@jupyter-widgets/controls",
          "model_name": "HBoxModel",
          "model_module_version": "1.5.0",
          "state": {
            "_dom_classes": [],
            "_model_module": "@jupyter-widgets/controls",
            "_model_module_version": "1.5.0",
            "_model_name": "HBoxModel",
            "_view_count": null,
            "_view_module": "@jupyter-widgets/controls",
            "_view_module_version": "1.5.0",
            "_view_name": "HBoxView",
            "box_style": "",
            "children": [
              "IPY_MODEL_99460239c4b645a386ec82937f83fc83",
              "IPY_MODEL_f6deec3769c843b1a423f693fd15e9a0",
              "IPY_MODEL_35845adddc7641caa1b931d3ce53ed2e"
            ],
            "layout": "IPY_MODEL_69425ac43d564889a5670c13cbeed055"
          }
        },
        "99460239c4b645a386ec82937f83fc83": {
          "model_module": "@jupyter-widgets/controls",
          "model_name": "HTMLModel",
          "model_module_version": "1.5.0",
          "state": {
            "_dom_classes": [],
            "_model_module": "@jupyter-widgets/controls",
            "_model_module_version": "1.5.0",
            "_model_name": "HTMLModel",
            "_view_count": null,
            "_view_module": "@jupyter-widgets/controls",
            "_view_module_version": "1.5.0",
            "_view_name": "HTMLView",
            "description": "",
            "description_tooltip": null,
            "layout": "IPY_MODEL_61427ed9835c4111bde9933ba5158f53",
            "placeholder": "​",
            "style": "IPY_MODEL_37bbc057e256420b96d68a4a799bf57f",
            "value": "100%"
          }
        },
        "f6deec3769c843b1a423f693fd15e9a0": {
          "model_module": "@jupyter-widgets/controls",
          "model_name": "FloatProgressModel",
          "model_module_version": "1.5.0",
          "state": {
            "_dom_classes": [],
            "_model_module": "@jupyter-widgets/controls",
            "_model_module_version": "1.5.0",
            "_model_name": "FloatProgressModel",
            "_view_count": null,
            "_view_module": "@jupyter-widgets/controls",
            "_view_module_version": "1.5.0",
            "_view_name": "ProgressView",
            "bar_style": "success",
            "description": "",
            "description_tooltip": null,
            "layout": "IPY_MODEL_76e1796dfff7464aa47183ddbacb6636",
            "max": 62155,
            "min": 0,
            "orientation": "horizontal",
            "style": "IPY_MODEL_19bc44e0c4f64c129ffa4497a823d307",
            "value": 62155
          }
        },
        "35845adddc7641caa1b931d3ce53ed2e": {
          "model_module": "@jupyter-widgets/controls",
          "model_name": "HTMLModel",
          "model_module_version": "1.5.0",
          "state": {
            "_dom_classes": [],
            "_model_module": "@jupyter-widgets/controls",
            "_model_module_version": "1.5.0",
            "_model_name": "HTMLModel",
            "_view_count": null,
            "_view_module": "@jupyter-widgets/controls",
            "_view_module_version": "1.5.0",
            "_view_name": "HTMLView",
            "description": "",
            "description_tooltip": null,
            "layout": "IPY_MODEL_d253ea30438f40f3ba79567b759c9d88",
            "placeholder": "​",
            "style": "IPY_MODEL_2832e470f14c4ce380c7454e9fcd3322",
            "value": " 62155/62155 [00:09&lt;00:00, 6269.98it/s]"
          }
        },
        "69425ac43d564889a5670c13cbeed055": {
          "model_module": "@jupyter-widgets/base",
          "model_name": "LayoutModel",
          "model_module_version": "1.2.0",
          "state": {
            "_model_module": "@jupyter-widgets/base",
            "_model_module_version": "1.2.0",
            "_model_name": "LayoutModel",
            "_view_count": null,
            "_view_module": "@jupyter-widgets/base",
            "_view_module_version": "1.2.0",
            "_view_name": "LayoutView",
            "align_content": null,
            "align_items": null,
            "align_self": null,
            "border": null,
            "bottom": null,
            "display": null,
            "flex": null,
            "flex_flow": null,
            "grid_area": null,
            "grid_auto_columns": null,
            "grid_auto_flow": null,
            "grid_auto_rows": null,
            "grid_column": null,
            "grid_gap": null,
            "grid_row": null,
            "grid_template_areas": null,
            "grid_template_columns": null,
            "grid_template_rows": null,
            "height": null,
            "justify_content": null,
            "justify_items": null,
            "left": null,
            "margin": null,
            "max_height": null,
            "max_width": null,
            "min_height": null,
            "min_width": null,
            "object_fit": null,
            "object_position": null,
            "order": null,
            "overflow": null,
            "overflow_x": null,
            "overflow_y": null,
            "padding": null,
            "right": null,
            "top": null,
            "visibility": null,
            "width": null
          }
        },
        "61427ed9835c4111bde9933ba5158f53": {
          "model_module": "@jupyter-widgets/base",
          "model_name": "LayoutModel",
          "model_module_version": "1.2.0",
          "state": {
            "_model_module": "@jupyter-widgets/base",
            "_model_module_version": "1.2.0",
            "_model_name": "LayoutModel",
            "_view_count": null,
            "_view_module": "@jupyter-widgets/base",
            "_view_module_version": "1.2.0",
            "_view_name": "LayoutView",
            "align_content": null,
            "align_items": null,
            "align_self": null,
            "border": null,
            "bottom": null,
            "display": null,
            "flex": null,
            "flex_flow": null,
            "grid_area": null,
            "grid_auto_columns": null,
            "grid_auto_flow": null,
            "grid_auto_rows": null,
            "grid_column": null,
            "grid_gap": null,
            "grid_row": null,
            "grid_template_areas": null,
            "grid_template_columns": null,
            "grid_template_rows": null,
            "height": null,
            "justify_content": null,
            "justify_items": null,
            "left": null,
            "margin": null,
            "max_height": null,
            "max_width": null,
            "min_height": null,
            "min_width": null,
            "object_fit": null,
            "object_position": null,
            "order": null,
            "overflow": null,
            "overflow_x": null,
            "overflow_y": null,
            "padding": null,
            "right": null,
            "top": null,
            "visibility": null,
            "width": null
          }
        },
        "37bbc057e256420b96d68a4a799bf57f": {
          "model_module": "@jupyter-widgets/controls",
          "model_name": "DescriptionStyleModel",
          "model_module_version": "1.5.0",
          "state": {
            "_model_module": "@jupyter-widgets/controls",
            "_model_module_version": "1.5.0",
            "_model_name": "DescriptionStyleModel",
            "_view_count": null,
            "_view_module": "@jupyter-widgets/base",
            "_view_module_version": "1.2.0",
            "_view_name": "StyleView",
            "description_width": ""
          }
        },
        "76e1796dfff7464aa47183ddbacb6636": {
          "model_module": "@jupyter-widgets/base",
          "model_name": "LayoutModel",
          "model_module_version": "1.2.0",
          "state": {
            "_model_module": "@jupyter-widgets/base",
            "_model_module_version": "1.2.0",
            "_model_name": "LayoutModel",
            "_view_count": null,
            "_view_module": "@jupyter-widgets/base",
            "_view_module_version": "1.2.0",
            "_view_name": "LayoutView",
            "align_content": null,
            "align_items": null,
            "align_self": null,
            "border": null,
            "bottom": null,
            "display": null,
            "flex": null,
            "flex_flow": null,
            "grid_area": null,
            "grid_auto_columns": null,
            "grid_auto_flow": null,
            "grid_auto_rows": null,
            "grid_column": null,
            "grid_gap": null,
            "grid_row": null,
            "grid_template_areas": null,
            "grid_template_columns": null,
            "grid_template_rows": null,
            "height": null,
            "justify_content": null,
            "justify_items": null,
            "left": null,
            "margin": null,
            "max_height": null,
            "max_width": null,
            "min_height": null,
            "min_width": null,
            "object_fit": null,
            "object_position": null,
            "order": null,
            "overflow": null,
            "overflow_x": null,
            "overflow_y": null,
            "padding": null,
            "right": null,
            "top": null,
            "visibility": null,
            "width": null
          }
        },
        "19bc44e0c4f64c129ffa4497a823d307": {
          "model_module": "@jupyter-widgets/controls",
          "model_name": "ProgressStyleModel",
          "model_module_version": "1.5.0",
          "state": {
            "_model_module": "@jupyter-widgets/controls",
            "_model_module_version": "1.5.0",
            "_model_name": "ProgressStyleModel",
            "_view_count": null,
            "_view_module": "@jupyter-widgets/base",
            "_view_module_version": "1.2.0",
            "_view_name": "StyleView",
            "bar_color": null,
            "description_width": ""
          }
        },
        "d253ea30438f40f3ba79567b759c9d88": {
          "model_module": "@jupyter-widgets/base",
          "model_name": "LayoutModel",
          "model_module_version": "1.2.0",
          "state": {
            "_model_module": "@jupyter-widgets/base",
            "_model_module_version": "1.2.0",
            "_model_name": "LayoutModel",
            "_view_count": null,
            "_view_module": "@jupyter-widgets/base",
            "_view_module_version": "1.2.0",
            "_view_name": "LayoutView",
            "align_content": null,
            "align_items": null,
            "align_self": null,
            "border": null,
            "bottom": null,
            "display": null,
            "flex": null,
            "flex_flow": null,
            "grid_area": null,
            "grid_auto_columns": null,
            "grid_auto_flow": null,
            "grid_auto_rows": null,
            "grid_column": null,
            "grid_gap": null,
            "grid_row": null,
            "grid_template_areas": null,
            "grid_template_columns": null,
            "grid_template_rows": null,
            "height": null,
            "justify_content": null,
            "justify_items": null,
            "left": null,
            "margin": null,
            "max_height": null,
            "max_width": null,
            "min_height": null,
            "min_width": null,
            "object_fit": null,
            "object_position": null,
            "order": null,
            "overflow": null,
            "overflow_x": null,
            "overflow_y": null,
            "padding": null,
            "right": null,
            "top": null,
            "visibility": null,
            "width": null
          }
        },
        "2832e470f14c4ce380c7454e9fcd3322": {
          "model_module": "@jupyter-widgets/controls",
          "model_name": "DescriptionStyleModel",
          "model_module_version": "1.5.0",
          "state": {
            "_model_module": "@jupyter-widgets/controls",
            "_model_module_version": "1.5.0",
            "_model_name": "DescriptionStyleModel",
            "_view_count": null,
            "_view_module": "@jupyter-widgets/base",
            "_view_module_version": "1.2.0",
            "_view_name": "StyleView",
            "description_width": ""
          }
        }
      }
    }
  },
  "nbformat": 4,
  "nbformat_minor": 0
}