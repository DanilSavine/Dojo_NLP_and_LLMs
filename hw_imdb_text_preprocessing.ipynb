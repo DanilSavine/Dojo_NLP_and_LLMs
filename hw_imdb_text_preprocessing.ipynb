{
  "cells": [
    {
      "cell_type": "markdown",
      "metadata": {
        "id": "view-in-github",
        "colab_type": "text"
      },
      "source": [
        "<a href=\"https://colab.research.google.com/github/DanilSavine/MasterCourse_NLP_and_LLMs/blob/main/hw_imdb_text_preprocessing.ipynb\" target=\"_parent\"><img src=\"https://colab.research.google.com/assets/colab-badge.svg\" alt=\"Open In Colab\"/></a>"
      ]
    },
    {
      "cell_type": "code",
      "execution_count": 126,
      "metadata": {
        "id": "s-8ltYHfbs5B"
      },
      "outputs": [],
      "source": [
        "import pandas as pd\n",
        "from google_drive_downloader import GoogleDriveDownloader as gdd\n",
        "from pathlib import Path\n",
        "from typing import List, Dict\n",
        "from tqdm.notebook import tqdm\n",
        "import numpy as np\n",
        "import matplotlib.pyplot as plt\n",
        "import random\n",
        "import string"
      ]
    },
    {
      "cell_type": "markdown",
      "source": [],
      "metadata": {
        "id": "pvmRl1__tbmO"
      }
    },
    {
      "cell_type": "markdown",
      "metadata": {
        "id": "laDowDK-m6Ag"
      },
      "source": [
        "# HW Instructions\n",
        "\n",
        "## 🚧 Cells\n",
        "All the cells identified with a 🚧 should be completed, either by a code or an written answer.\n",
        "You can add as many cells as you want, but in general cells are already in place.\n",
        "\n",
        "\n",
        "🚧 **TODO** 🚧\n",
        "\n",
        "*Requires to complete a code (can be completed with optional text cells if you find it relevant).*\n",
        "\n",
        "or\n",
        "\n",
        "🚧 **Question** 🚧\n",
        "\n",
        "*Requires a written answer (can be completed with optional code cells if you find it relevant).*\n",
        "\n",
        "## 🔴 Test cells\n",
        "Cells identified with 🔴 should be left untouched and shouldn't return any error.\n",
        "\n",
        "## Presentation\n",
        "The overall presentation of the notebook will account in the grading process.\n",
        "Some advice:\n",
        "- Give title to your figures.\n",
        "- Put legends on the figures.\n",
        "- Comment the figures if they are not self-explanatory.\n",
        "- Add comment in the code if not self-explanatory.\n",
        "- Review your notebook before submitting.\n",
        "- Feel free to add any additional illustration if you find it will bring something.\n",
        "- Remain as concise as possible when answering written answer, emphasize the important points.\n",
        "\n",
        "**We cannot debug every notebooks. The notebook should run entirely from the start to the end without any error. If one cell returns an error during the execution, only the cells before the error will be graded.**\n",
        "\n"
      ]
    },
    {
      "cell_type": "markdown",
      "metadata": {
        "id": "PaBJpPWfW45L"
      },
      "source": [
        "# HW Introduction\n",
        "\n",
        "## Hands on with NLP preprocessing\n",
        "\n",
        "This first TP is here to make you experiment with the first preprocessing steps, necessary but often not emphasized enough.\n",
        "\n",
        "## Plan\n",
        "\n",
        "1. Load the data\n",
        "2. Analyze and clean the text data\n",
        "3. Format the texts for NLP (i.e. tokenize, etc).\n",
        "\n",
        "## Notations\n",
        "\n",
        "Throughout the HW, a text will be called either **document** or **text**.\n",
        "\n",
        "\n",
        "# I - Data loading"
      ]
    },
    {
      "cell_type": "code",
      "execution_count": 127,
      "metadata": {
        "id": "Eri6thqeX_MC"
      },
      "outputs": [],
      "source": [
        "def download_imdb(output_path: str, force_download: bool = False):\n",
        "    \"\"\"Save the data to `output_path`.\"\"\"\n",
        "    output_path = Path(output_path)\n",
        "    if (not output_path.is_file()) or force_download:\n",
        "        gdd.download_file_from_google_drive(\n",
        "            file_id=\"1zfM5E6HvKIe7f3rEt1V2gBpw5QOSSKQz\",\n",
        "            dest_path=output_path,\n",
        "        )\n",
        "    return"
      ]
    },
    {
      "cell_type": "code",
      "execution_count": 128,
      "metadata": {
        "id": "BJ9S1a1jW45M"
      },
      "outputs": [],
      "source": [
        "DATA_PATH = \"data/imdb_reviews.csv\"\n",
        "download_imdb(output_path=DATA_PATH, force_download=False)"
      ]
    },
    {
      "cell_type": "markdown",
      "metadata": {
        "id": "NGT4vDXmZDTT"
      },
      "source": [
        "🚧 **TODO** 🚧\n",
        "\n",
        "Read the file to a Pandas dataframe (the file is stored as a csv). Make sure the \"review\" field is of dtype `string` and label of dtype `int`.\n",
        "\n",
        "Hint: https://pandas.pydata.org/docs/user_guide/text.html (you can specify the `dtype` argument of pandas constructor).\n"
      ]
    },
    {
      "cell_type": "code",
      "execution_count": 129,
      "metadata": {
        "id": "gbQw5TGPha20"
      },
      "outputs": [],
      "source": [
        "df_imdb = pd.read_csv(DATA_PATH, dtype={\"review\": \"string\", \"label\": int})"
      ]
    },
    {
      "cell_type": "code",
      "execution_count": 130,
      "metadata": {
        "id": "CAv44K5tpMHF"
      },
      "outputs": [],
      "source": [
        "text_column = df_imdb[\"review\"]\n",
        "label_column = df_imdb[\"label\"]"
      ]
    },
    {
      "cell_type": "markdown",
      "metadata": {
        "id": "hqaE3bBDpPVK"
      },
      "source": [
        "🔴 **TEST**"
      ]
    },
    {
      "cell_type": "code",
      "execution_count": 131,
      "metadata": {
        "id": "-gMHYuJHcQB5"
      },
      "outputs": [],
      "source": [
        "assert text_column.dtype == \"string\"\n",
        "assert label_column.dtype == int"
      ]
    },
    {
      "cell_type": "markdown",
      "metadata": {
        "id": "EMTjOSWEbM6Q"
      },
      "source": [
        "🚧 **TODO** 🚧\n",
        "\n",
        "Print some values of the dataframe.\n",
        "- Print 3 samples of text.\n",
        "- Print their associated labels.\n",
        "- Print some statistics of the dataset.\n",
        "\n"
      ]
    },
    {
      "cell_type": "code",
      "execution_count": 132,
      "metadata": {
        "id": "-aQ0d6IIgRO_",
        "colab": {
          "base_uri": "https://localhost:8080/"
        },
        "outputId": "b9724899-4f1a-4aac-a9f5-d4c6d9572577"
      },
      "outputs": [
        {
          "output_type": "stream",
          "name": "stdout",
          "text": [
            "==== 3 first texts ====\n",
            "Once again Mr. Costner has dragged out a movie for far longer than necessary. Aside from the terrific sea rescue sequences, of which there are very few I just did not care about any of the characters. Most of us have ghosts in the closet, and Costner's character are realized early on, and then forgotten until much later, by which time I did not care. The character we should really care about is a very cocky, overconfident Ashton Kutcher. The problem is he comes off as kid who thinks he's better than anyone else around him and shows no signs of a cluttered closet. His only obstacle appears to be winning over Costner. Finally when we are well past the half way point of this stinker, Costner tells us all about Kutcher's ghosts. We are told why Kutcher is driven to be the best with no prior inkling or foreshadowing. No magic here, it was all I could do to keep from turning it off an hour in.\n",
            "This is an example of why the majority of action films are the same. Generic and boring, there's really nothing worth watching here. A complete waste of the then barely-tapped talents of Ice-T and Ice Cube, who've each proven many times over that they are capable of acting, and acting well. Don't bother with this one, go see New Jack City, Ricochet or watch New York Undercover for Ice-T, or Boyz n the Hood, Higher Learning or Friday for Ice Cube and see the real deal. Ice-T's horribly cliched dialogue alone makes this film grate at the teeth, and I'm still wondering what the heck Bill Paxton was doing in this film? And why the heck does he always play the exact same character? From Aliens onward, every film I've seen with Bill Paxton has him playing the exact same irritating character, and at least in Aliens his character died, which made it somewhat gratifying...<br /><br />Overall, this is second-rate action trash. There are countless better films to see, and if you really want to see this one, watch Judgement Night, which is practically a carbon copy but has better acting and a better script. The only thing that made this at all worth watching was a decent hand on the camera - the cinematography was almost refreshing, which comes close to making up for the horrible film itself - but not quite. 4/10.\n",
            "First of all I hate those moronic rappers, who could'nt act if they had a gun pressed against their foreheads. All they do is curse and shoot each other and acting like clichÃ©'e version of gangsters.<br /><br />The movie doesn't take more than five minutes to explain what is going on before we're already at the warehouse There is not a single sympathetic character in this movie, except for the homeless guy, who is also the only one with half a brain.<br /><br />Bill Paxton and William Sadler are both hill billies and Sadlers character is just as much a villain as the gangsters. I did'nt like him right from the start.<br /><br />The movie is filled with pointless violence and Walter Hills specialty: people falling through windows with glass flying everywhere. There is pretty much no plot and it is a big problem when you root for no-one. Everybody dies, except from Paxton and the homeless guy and everybody get what they deserve.<br /><br />The only two black people that can act is the homeless guy and the junkie but they're actors by profession, not annoying ugly brain dead rappers.<br /><br />Stay away from this crap and watch 48 hours 1 and 2 instead. At lest they have characters you care about, a sense of humor and nothing but real actors in the cast.\n",
            "\n",
            "==== Associated labels of the 3 first texts ====\n",
            "0\n",
            "0\n",
            "0\n",
            "\n",
            "=== Dataset statistics ===\n",
            "Number of texts\n",
            "62155\n",
            "\n",
            "Average text length (in characters)\n",
            "1374\n",
            "\n",
            "% of positive texts\n",
            "49.67%\n"
          ]
        }
      ],
      "source": [
        "print(\"==== 3 first texts ====\")\n",
        "for text in text_column[:3]: print(text)\n",
        "\n",
        "\n",
        "print(\"\\n==== Associated labels of the 3 first texts ====\")\n",
        "for label in label_column[:3]: print(label)\n",
        "\n",
        "\n",
        "print(\"\\n=== Dataset statistics ===\")\n",
        "print(\"Number of texts\")\n",
        "print(len(text_column))\n",
        "\n",
        "\n",
        "print(\"\\nAverage text length (in characters)\")\n",
        "average_length = int(np.mean([len(text) for text in text_column]))\n",
        "print(average_length)\n",
        "\n",
        "\n",
        "print(\"\\n% of positive texts\")\n",
        "percentage = (np.sum(label_column) / len(label_column)) * 100\n",
        "print(\"{:.2f}%\".format(percentage))"
      ]
    },
    {
      "cell_type": "code",
      "source": [
        "# Histogram for distribution of text lengths:\n",
        "lengths = [len(text) for text in text_column]\n",
        "plt.figure(figsize=(10, 6))\n",
        "plt.hist(lengths, bins=100, color='blue', alpha=0.7)\n",
        "plt.title('Distribution of Text Lengths')\n",
        "plt.xlabel('Text Length')\n",
        "plt.ylabel('Number of Texts')\n",
        "plt.grid(axis='y')\n",
        "plt.show()"
      ],
      "metadata": {
        "colab": {
          "base_uri": "https://localhost:8080/",
          "height": 511
        },
        "id": "DRaz1ZAao3Vw",
        "outputId": "f344fb32-d013-4a71-d364-5dac6b4fc5c9"
      },
      "execution_count": 133,
      "outputs": [
        {
          "output_type": "display_data",
          "data": {
            "text/plain": [
              "<Figure size 1000x600 with 1 Axes>"
            ],
            "image/png": "[encoded data removed]"
          },
          "metadata": {}
        }
      ]
    },
    {
      "cell_type": "markdown",
      "metadata": {
        "id": "ON1bQK5jhz4E"
      },
      "source": [
        "## II - Clean and format the data.\n",
        "For this first TP, we want to focus on very simple tasks.\n",
        "Therefore, we want to avoid as much as possible rare and uncommon words that will be considered as outliers.\n",
        "\n",
        "We will try to figure out what kind of cleaning we can perform, by having a look at the data.\n",
        "\n",
        "The plan for this part will be:\n",
        "1. Split the strings as a list of words.\n",
        "2. Find the outliers in the corpus.\n",
        "3. Propose some methods to clean them."
      ]
    },
    {
      "cell_type": "markdown",
      "metadata": {
        "id": "5XLRgi5giy_g"
      },
      "source": [
        "### 1. Tokenization\n",
        "First, we will split our texts into words.\n",
        "Splitting a string into a list of smaller substrings is called **tokenization**, and the substrings are called **tokens**.\n",
        "\n",
        "The simplest way to tokenize a text is to split it by words, according to whitespaces.\n",
        "\n",
        "Then, each word encountered in the training set is stored and uniquely identified through an id.\n",
        "\n"
      ]
    },
    {
      "cell_type": "markdown",
      "metadata": {
        "id": "H-HLOTivIfSP"
      },
      "source": [
        "🚧 **Question** 🚧\n",
        "\n",
        "By doing so, we put a huge emphasis on words within documents.\n",
        "\n",
        "a) Intuitively, why is it relevant? For instance compare to splitting by character.\n",
        "\n",
        "b) Cite some methods discussed during the course that rely on word-based representations of documents.\n",
        "\n",
        "**Answer**\n",
        "\n",
        "a) Intuitevely, words carry semantics so they might carry positive or negative signals helpful to classify reviews. For example, \"amazing\" would be more meaningful semantically than the presence its individual letters.\n",
        "\n",
        "b) Word-based respresentations methods are used in bag-of-words, TF-IDF, and pre-training of word embeddings. These representations are then used in classifiers such as logistic regression or (convolutional) neural networks.  "
      ]
    },
    {
      "cell_type": "markdown",
      "metadata": {
        "id": "jYwJDXAUIc7C"
      },
      "source": [
        "🚧 **TODO** 🚧\n",
        "\n",
        "Implement a tokenizer based on whitespace splitting. For now, the tokenizer should only be able to store each unique word found in the dataset."
      ]
    },
    {
      "cell_type": "code",
      "execution_count": 134,
      "metadata": {
        "id": "791KTHn9W45N"
      },
      "outputs": [],
      "source": [
        "class WhiteSpaceTokenizer:\n",
        "    def __init__(self):\n",
        "        # The vocabulary will store the mapping between text tokens and their id.\n",
        "        self.vocab = {}\n",
        "        self.id_to_token = {}\n",
        "\n",
        "        # We will keep track of the number of times a word appears in the corpus.\n",
        "        self.frequencies = {}\n",
        "\n",
        "    def split_text(self, text: str) -> List[str]:\n",
        "        \"\"\"Converts the text to a list of tokens (substrings).\"\"\"\n",
        "        return text.split(sep = \" \")\n",
        "\n",
        "    def fit(self, corpus: List[str]):\n",
        "        \"\"\"Fits the tokenizer to a list of texts to construct its vocabulary.\"\"\"\n",
        "        current_id = 0\n",
        "        for text in tqdm(corpus):\n",
        "\n",
        "            # Split into substrings.\n",
        "            list_tokens = self.split_text(text)\n",
        "\n",
        "            for token in list_tokens:\n",
        "\n",
        "                # Add the token to the vocabulary\n",
        "                token_id = self.vocab.get(token, None)\n",
        "\n",
        "                token_not_in_vocab = token_id is None\n",
        "                if token_not_in_vocab:\n",
        "                    self.vocab[token] = current_id\n",
        "                    self.id_to_token[current_id] = token\n",
        "                    self.frequencies[current_id] = 0\n",
        "                    token_id = current_id\n",
        "                    current_id += 1\n",
        "\n",
        "                self.frequencies[token_id] += 1\n",
        "\n",
        "        # Total number of words in vocab.\n",
        "        self.num_words = len(self.vocab)\n",
        "        print(f\"Built a vocabulary of {self.num_words} words.\")"
      ]
    },
    {
      "cell_type": "markdown",
      "metadata": {
        "id": "geTlVAEGpa4n"
      },
      "source": [
        "🔴 **TEST**"
      ]
    },
    {
      "cell_type": "code",
      "execution_count": 135,
      "metadata": {
        "id": "joZuRcZ7nc3N",
        "colab": {
          "base_uri": "https://localhost:8080/",
          "height": 67,
          "referenced_widgets": [
            "f897965b1b93407688af7b935b048190",
            "bade476a287c4236a6897d1f5e123186",
            "1d4d3d2d4f8343ba87fe22c17ac363ef",
            "9c416522052b4f4e900d418b84be0591",
            "01d70a6583ff4e75a1332b0cdeb3c262",
            "5ee08bc5ba3140c6a3ebb6339c583e25",
            "6ed7dfa7e3a143e0ad90e22ab7450b85",
            "4b807e46500045e5bb9ff28d316aa876",
            "7c46122e7eea4042a1b5c6c671d5e04b",
            "c3588453776049a4a8e602e70e3178cf",
            "55db8cf4163545ba859def923725c40b"
          ]
        },
        "outputId": "2fcb3b2c-00e0-4641-8d09-ca83b9dbb3ec"
      },
      "outputs": [
        {
          "output_type": "display_data",
          "data": {
            "text/plain": [
              "  0%|          | 0/2 [00:00<?, ?it/s]"
            ],
            "application/vnd.jupyter.widget-view+json": {
              "version_major": 2,
              "version_minor": 0,
              "model_id": "f897965b1b93407688af7b935b048190"
            }
          },
          "metadata": {}
        },
        {
          "output_type": "stream",
          "name": "stdout",
          "text": [
            "Built a vocabulary of 3 words.\n"
          ]
        }
      ],
      "source": [
        "toy_corpus = [\"a cat\", \"a dog\"]\n",
        "tokenizer = WhiteSpaceTokenizer()\n",
        "tokenizer.fit(toy_corpus)\n",
        "assert tokenizer.vocab == {\"a\": 0, \"cat\": 1, \"dog\": 2}\n",
        "assert tokenizer.frequencies == {0: 2, 1: 1, 2: 1}\n",
        "assert tokenizer.num_words == 3"
      ]
    },
    {
      "cell_type": "markdown",
      "metadata": {
        "id": "fct0L_9EoGWT"
      },
      "source": [
        "🚧 **TODO** 🚧\n",
        "\n",
        "Fits the tokenizer on the imdb reviews."
      ]
    },
    {
      "cell_type": "code",
      "execution_count": 136,
      "metadata": {
        "id": "59qiHgwmmcfB",
        "colab": {
          "base_uri": "https://localhost:8080/",
          "height": 67,
          "referenced_widgets": [
            "422876ce851243c5a7ecfddcc4eae47f",
            "f1c55a6c342b49619b96e2b579fa821b",
            "9081834b0cc64eb181f77c64cb2a7bbe",
            "7c64c65004cf495287b07c39076a135c",
            "8bd10eaa951b49f6a3aca48c30b628af",
            "d985cb3f83954f8397b80e86492463af",
            "b6c1238d04b74af7bf76fa6e52edfb09",
            "3d114c5d08604c1fb1ff5b0d80756b73",
            "cf0d53793e19466c958d0405128b2cd6",
            "a8180e1032ff4a84a8ed0f55221563e7",
            "a921714fa2af48dab3b63ada3fa5a564"
          ]
        },
        "outputId": "0a35bfad-80c9-46d9-99f8-815bfcb9c522"
      },
      "outputs": [
        {
          "output_type": "display_data",
          "data": {
            "text/plain": [
              "  0%|          | 0/62155 [00:00<?, ?it/s]"
            ],
            "application/vnd.jupyter.widget-view+json": {
              "version_major": 2,
              "version_minor": 0,
              "model_id": "422876ce851243c5a7ecfddcc4eae47f"
            }
          },
          "metadata": {}
        },
        {
          "output_type": "stream",
          "name": "stdout",
          "text": [
            "Built a vocabulary of 475277 words.\n"
          ]
        }
      ],
      "source": [
        "tokenizer = WhiteSpaceTokenizer()\n",
        "tokenizer.fit(text_column)"
      ]
    },
    {
      "cell_type": "markdown",
      "metadata": {
        "id": "LHBeN-x-2fhB"
      },
      "source": [
        "### 2. Noise analysis"
      ]
    },
    {
      "cell_type": "markdown",
      "metadata": {
        "id": "3H-GBNNVobV8"
      },
      "source": [
        "🚧 **TODO** 🚧\n",
        "\n",
        "Print 50 random tokens."
      ]
    },
    {
      "cell_type": "code",
      "execution_count": 137,
      "metadata": {
        "id": "AI2knE7em9HT",
        "colab": {
          "base_uri": "https://localhost:8080/"
        },
        "outputId": "f0161199-8a32-4647-87be-9c776770ac9e"
      },
      "outputs": [
        {
          "output_type": "stream",
          "name": "stdout",
          "text": [
            "['shoes.<br', \"'dreadful\", 'meriting', 'Miaugi', 'TKoQ', \"away.....I'm\", 'Flat,', 'Master\\\\\".', 'confirm)', 'equally-messed-up', 'earth!', 'hallo!', '{read:mad}', 'Wilding,', 'sounds.', 'Louis\\\\\"', \"Run'n'Coke.\", 'techno', 'SjÃ¶man', \"Hammerstein's\", 'Alleged', \"1960's?\", 'envisions.<br', \"'forbidden'\", 'Filho\"', \"she's...DEAD!...Must\", 'constraints,', 'better....what', 'Hydro-Man', '/>Truancy,', 'symbolism?', 'serial)', 'rankings.', '\"1928\"', 'of...).', 'falconer', 'doctors...', 'Jane;', 'unidiomatic', 'self-deprecating.', 'riddance.\"', '\\\\burlesque\\\\\"', '(surprising', '\"mood', 'afterwords?', 'killngs', 'Unidentified', 'Kluznick,who', \"joke'\", 'subtlety,']\n"
          ]
        }
      ],
      "source": [
        "print(random.sample(list(tokenizer.vocab.keys()), 50))\n"
      ]
    },
    {
      "cell_type": "markdown",
      "metadata": {
        "id": "buQNo3ZsrXq4"
      },
      "source": [
        "🚧 **QUESTION** 🚧\n",
        "\n",
        "What do you think of the tokens? Do they look like simple \"words\" as expected?\n",
        "\n",
        "Analyze the noise and explain why we got such weird vocabulary.\n",
        "\n",
        "**Answer**\n",
        "\n",
        "No they don't look like simple words. We have a lot of additional characters that might not carry semantic meaning like HTML tags, punctuation, etc. This comes from the fact that we have used only the space for the split.\n",
        "Probably the issue comes from data acquisition."
      ]
    },
    {
      "cell_type": "markdown",
      "metadata": {
        "id": "bbt1bQ2SsK4l"
      },
      "source": [
        "### 3. Cleaning\n",
        "\n",
        "🚧 **TODO** 🚧\n",
        "\n",
        "You are going to implement some of the classical cleaning methods.\n",
        "1. Lower case the string.\n",
        "2. String normalization, i.e., replace accentuated characters by standard version (\"â -> a\") (hint: https://stackoverflow.com/a/14121678).\n",
        "3. Remove non alpha-numeric characters (use Python regex package `re`).\n",
        "4. Replace numeric characters by the token `'<NUM>'` (use the package `re`).\n",
        "5. Remove double whitespaces (use the package `re`).\n"
      ]
    },
    {
      "cell_type": "code",
      "execution_count": 138,
      "metadata": {
        "id": "orSU21XPfBhL"
      },
      "outputs": [],
      "source": [
        "import unicodedata\n",
        "import re"
      ]
    },
    {
      "cell_type": "code",
      "execution_count": 139,
      "metadata": {
        "id": "Y5EqoG1dsWMv"
      },
      "outputs": [],
      "source": [
        "def preprocess_text(text: str) -> str:\n",
        "    # lower case\n",
        "    text = text.lower()\n",
        "    # string normalization.\n",
        "    text = unicodedata.normalize('NFD', text).encode('ascii', 'ignore').decode(\"utf-8\")\n",
        "    # remove non alpha numeric characters.\n",
        "    text = re.sub(r\"[^a-zA-Z0-9]\", ' ', text)\n",
        "    # replace numbers by the <NUM> token.\n",
        "    text = re.sub(r\"\\d+\", '<NUM>', text)\n",
        "    # remove double whitespaces.\n",
        "    text = re.sub(r\"\\s+\", ' ', text).strip()\n",
        "    return text"
      ]
    },
    {
      "cell_type": "code",
      "source": [
        "noisy_text = \"Ï   lîved  in.  San-Françisco...  ! for 12 years.\"\n",
        "clean_text = \"i lived in san francisco for <NUM> years\"\n",
        "print(preprocess_text(noisy_text))\n",
        "assert preprocess_text(noisy_text) == clean_text"
      ],
      "metadata": {
        "colab": {
          "base_uri": "https://localhost:8080/"
        },
        "id": "JNXZGpFbYR7A",
        "outputId": "7efdc961-4c40-451e-b094-b9ec135adc83"
      },
      "execution_count": 140,
      "outputs": [
        {
          "output_type": "stream",
          "name": "stdout",
          "text": [
            "i lived in san francisco for <NUM> years\n"
          ]
        }
      ]
    },
    {
      "cell_type": "markdown",
      "metadata": {
        "id": "yiAbpQrbptvH"
      },
      "source": [
        "🔴 **TEST**"
      ]
    },
    {
      "cell_type": "code",
      "execution_count": 141,
      "metadata": {
        "id": "cfmJ1GDzy7-f"
      },
      "outputs": [],
      "source": [
        "noisy_text = \"Ï   lîved  in    San-Françisco...  ! for 12 years.\"\n",
        "clean_text = \"i lived in san francisco for <NUM> years\"\n",
        "assert preprocess_text(noisy_text) == clean_text"
      ]
    },
    {
      "cell_type": "markdown",
      "metadata": {
        "id": "LkO-jZPY0mDy"
      },
      "source": [
        "🚧 **TODO** 🚧\n",
        "\n",
        "Add column `clean_review` to the dataframe, with the clean text.\n",
        "\n",
        "Store the `clean_review` column to the variable `clean_column`."
      ]
    },
    {
      "cell_type": "code",
      "execution_count": 142,
      "metadata": {
        "id": "tMO7SaQO0uSr"
      },
      "outputs": [],
      "source": [
        "# Applying preprocessing to the reviews\n",
        "df_imdb[\"clean_review\"] = df_imdb[\"review\"].apply(preprocess_text)\n",
        "\n",
        "clean_column = df_imdb[\"clean_review\"]"
      ]
    },
    {
      "cell_type": "code",
      "source": [
        "clean_column"
      ],
      "metadata": {
        "colab": {
          "base_uri": "https://localhost:8080/"
        },
        "id": "XqJTI1SvYloX",
        "outputId": "c712d7e6-6705-46af-a891-6dbb7d535a5d"
      },
      "execution_count": 143,
      "outputs": [
        {
          "output_type": "execute_result",
          "data": {
            "text/plain": [
              "0        once again mr costner has dragged out a movie ...\n",
              "1        this is an example of why the majority of acti...\n",
              "2        first of all i hate those moronic rappers who ...\n",
              "3        not even the beatles could write songs everyon...\n",
              "4        brass pictures movies is not a fitting word fo...\n",
              "                               ...                        \n",
              "62150    i am a student of film and have been for sever...\n",
              "62151    unimaginably stupid redundant and humiliating ...\n",
              "62152    guy is a loser can t get girls needs to build ...\n",
              "62153    this <NUM> minute documentary bunuel made in t...\n",
              "62154    i saw this movie as a child and it broke my he...\n",
              "Name: clean_review, Length: 62155, dtype: object"
            ]
          },
          "metadata": {},
          "execution_count": 143
        }
      ]
    },
    {
      "cell_type": "markdown",
      "metadata": {
        "id": "M0Dl9i7X1JWb"
      },
      "source": [
        "🚧 **TODO** 🚧\n",
        "\n",
        "Run the tokenizer on the clean text and print 50 random tokens."
      ]
    },
    {
      "cell_type": "code",
      "execution_count": 144,
      "metadata": {
        "id": "koSGantW1SL1",
        "colab": {
          "base_uri": "https://localhost:8080/",
          "height": 67,
          "referenced_widgets": [
            "f4e49ff7b4af4a989c69d4304e3e7cbd",
            "5b42c037b05448a187945846058b0f2d",
            "e139b112d4d6429b85f3cbbbf0cd5adb",
            "bbc3c79bf87f4ce4b29cb1e6c294b927",
            "d2290e84279e49478b3ded443f6c4d06",
            "a88f00e904514c7699bc14359981c571",
            "79ca321ec8924f83ad76f41bd9f9f82b",
            "ee6f166491584cceab2854672ae0c61b",
            "2efa63c36fc84557ae1eb37a126763fd",
            "6b0381da20b54a6895907e190951bd62",
            "c28935b0542344b0b8293dde2172102d"
          ]
        },
        "outputId": "ae87ba23-b93c-4064-caaa-901b6978e3e2"
      },
      "outputs": [
        {
          "output_type": "display_data",
          "data": {
            "text/plain": [
              "  0%|          | 0/62155 [00:00<?, ?it/s]"
            ],
            "application/vnd.jupyter.widget-view+json": {
              "version_major": 2,
              "version_minor": 0,
              "model_id": "f4e49ff7b4af4a989c69d4304e3e7cbd"
            }
          },
          "metadata": {}
        },
        {
          "output_type": "stream",
          "name": "stdout",
          "text": [
            "Built a vocabulary of 101917 words.\n"
          ]
        }
      ],
      "source": [
        "tokenizer = WhiteSpaceTokenizer()\n",
        "tokenizer.fit(clean_column)"
      ]
    },
    {
      "cell_type": "code",
      "execution_count": 145,
      "metadata": {
        "id": "DJlHz9Sw1c56",
        "colab": {
          "base_uri": "https://localhost:8080/"
        },
        "outputId": "dc3d536b-ba9c-4515-bd3c-9ad06f2e02be"
      },
      "outputs": [
        {
          "output_type": "stream",
          "name": "stdout",
          "text": [
            "['carnagie', 'straightforwardness', 'kaarlo', 'soutendjik', 'likeliest', 'potocnik', 'aggro', 'intersperse', 'finnlayson', 'critisize', 'zombi', 'snitcky', 'slasha', 'slapped', 'inculcated', 'mcclinton', 'groundlessly', 'cloned', 'stigma', 'themselfs', 'unwarily', 'lohde', 'interruption', 'exterminators', 'hickman', 'sodomizes', 'memebership', 'housed', 'caterers', 'henshall', 'toma', 'pym', 'heretical', 'watchablity', 'maximum', 'bread', 'undried', 'gladiators', 'repenting', 'mostof', 'himmesh', 'arrosseur', 'subsidize', 'bekins', 'eidlemann', 'schurenberg', 'nerdish', 'chasing', 'fertile', 'preside']\n"
          ]
        }
      ],
      "source": [
        "print(random.sample(list(tokenizer.vocab.keys()), 50))"
      ]
    },
    {
      "cell_type": "markdown",
      "metadata": {
        "id": "Sq8CzSBw1vsI"
      },
      "source": [
        "🚧 **Question** 🚧\n",
        "\n",
        "What do you think of the new tokens? Are they better? What common noise still remain? (Feel free to print more tokens to get a better intuition).\n",
        "\n",
        "Suggest some methods to improve again the tokenization (at least 2), based on either these results or on something you think we could have done better.\n",
        "\n",
        "**Answer**\n",
        "\n",
        "There remains noise in the form of:\n",
        "* Typos or simply different spellings of the same word (e.g. british vs. american english)\n",
        "* Lack of space between words that should have spaces (e.g. filmovie)\n",
        "* Conjugation of verbs and plural forms (e.g. watched, watching, watches)\n",
        "* Different langages (some of the words are in german)\n",
        "\n",
        "To improve the results we could\n",
        "* Introduce a spell checker\n",
        "* Perform stemming, especially to deal with conjugated verbs or plurals\n",
        "* Introduce a method to deal with contraced forms like I'm or Can't\n",
        "\n"
      ]
    },
    {
      "cell_type": "markdown",
      "metadata": {
        "id": "ohqx368M2ZiG"
      },
      "source": [
        "### Tokens analysis\n",
        "\n",
        "\n",
        "🚧 **TODO** 🚧\n",
        "\n",
        "Show the frequencies repartition.\n",
        "This should be a histogram, with 100 bins, with the frequencies on the x axis and the number of words associated to the frequencies on the y axis (see https://matplotlib.org/stable/api/_as_gen/matplotlib.pyplot.hist.html).\n",
        "\n",
        "Use logarithm scale for y."
      ]
    },
    {
      "cell_type": "code",
      "execution_count": 146,
      "metadata": {
        "id": "r8N76FrE3fyt",
        "colab": {
          "base_uri": "https://localhost:8080/",
          "height": 518
        },
        "outputId": "3c8d336a-d374-41ef-ab0a-ea6825e5a276"
      },
      "outputs": [
        {
          "output_type": "display_data",
          "data": {
            "text/plain": [
              "<Figure size 1000x600 with 1 Axes>"
            ],
            "image/png": "[encoded data removed]"
          },
          "metadata": {}
        }
      ],
      "source": [
        "plt.figure(figsize=(10, 6))\n",
        "plt.hist(tokenizer.frequencies.values(), bins=100, log=True, color='skyblue', edgecolor='black')\n",
        "plt.title('Word Frequencies Repartition')\n",
        "plt.xlabel('Frequency of Words')\n",
        "plt.ylabel('Number of Words')\n",
        "plt.grid(axis='y')\n",
        "plt.show()"
      ]
    },
    {
      "cell_type": "markdown",
      "metadata": {
        "id": "qX-WtALB8mam"
      },
      "source": [
        "🚧 **Question** 🚧\n",
        "\n",
        "What do you think of the repartition?\n",
        "\n",
        "**Answer**\n",
        "\n",
        "The repartition is skewed towards 0, with a lot of wors only present once. We could either not use them or spend more time working on the preprocessing (to correct spelling, use stemming)\n",
        "Also we have some words that are outliers, with more than 300k occurancies. These might be words such as \"a\", \"the\", etc. that might not carry a lot of meaning for our task.\n"
      ]
    },
    {
      "cell_type": "markdown",
      "metadata": {
        "id": "zXXq8T04fRYM"
      },
      "source": [
        "🚧 **TODO** 🚧\n",
        "\n",
        "Plot the frequencies repartition. Find the best corresponding Zipf law (seen during the course) and plot it on the same figure."
      ]
    },
    {
      "cell_type": "code",
      "execution_count": 168,
      "metadata": {
        "id": "PJeJUqQe_jfo",
        "colab": {
          "base_uri": "https://localhost:8080/",
          "height": 567
        },
        "outputId": "7f2e45e1-59ec-4f8e-bb67-5e0ac7dde62a"
      },
      "outputs": [
        {
          "output_type": "display_data",
          "data": {
            "text/plain": [
              "<Figure size 1000x600 with 1 Axes>"
            ],
            "image/png": "[encoded data removed]"
          },
          "metadata": {}
        }
      ],
      "source": [
        "# Sort word frequencies from high to low\n",
        "sorted_frequencies = sorted(list(tokenizer.frequencies.values()), reverse=True)\n",
        "\n",
        "# Rank the word frequencies\n",
        "ranks = np.arange(1, len(sorted_frequencies) + 1)\n",
        "\n",
        "# The value of c is the frequency of the most common word\n",
        "c = sorted_frequencies[0]\n",
        "\n",
        "# Predict frequencies using Zipf's law\n",
        "predicted_frequencies = c / ranks\n",
        "\n",
        "fig, ax = plt.subplots(figsize=(10, 6))\n",
        "\n",
        "ax.loglog(ranks, sorted_frequencies, marker='o', linestyle='', label='Actual Frequencies', color='blue')\n",
        "ax.loglog(ranks, predicted_frequencies, linestyle='-', label=\"Zipf's Law\", color='red')\n",
        "\n",
        "ax.set_title('Word Frequencies and Zipf\\'s Law')\n",
        "ax.set_xlabel('Rank')\n",
        "ax.set_ylabel('Frequency')\n",
        "ax.legend()\n",
        "ax.grid(True)\n",
        "\n",
        "import textwrap\n",
        "\n",
        "text = \"We see here that the fit to the Zipf's law is not perfect, \\\n",
        "especially for less frequent words. This might be due to different spellings\\\n",
        " that have not been corrected in our pre-processing.\"\n",
        "wrapped_text = textwrap.fill(text, width=100)\n",
        "\n",
        "fig.text(0.5, -0.05, wrapped_text, ha='center', va='bottom', fontsize=9, wrap=True)\n",
        "\n",
        "plt.show()"
      ]
    },
    {
      "cell_type": "markdown",
      "metadata": {
        "id": "FB--kpAVE7p_"
      },
      "source": [
        "## III - DataLoading\n",
        "\n",
        "This final part aims at making your dataset compatible with PyTorch.\n",
        "\n",
        "### Text representation\n",
        "\n",
        "Since we plan to work with PyTorch, we need to work with `tensors`. But since a text is only composed of strings, we need to find some numerical representations for the text.\n",
        "\n",
        "The most basic method is to represent a text by list of tokens. We already used a simple WhiteSpace tokenizer earlier to analyze our texts before cleaning. Now we will use it to *represent* the texts.\n",
        "\n",
        "🚧 **TODO** 🚧\n",
        "\n",
        "Modify the code of the `WhiteSpaceTokenizer` so that it could encode a text into a list of token ids and do the reverse (i.e. decode a list of token ids to a text)."
      ]
    },
    {
      "cell_type": "code",
      "execution_count": 148,
      "metadata": {
        "id": "-8a20vOKJ5Wz"
      },
      "outputs": [],
      "source": [
        "class WhiteSpaceTokenizer:\n",
        "    def __init__(self):\n",
        "        # The vocabulary will store the mapping between text tokens and their id.\n",
        "        self.vocab = {}\n",
        "        self.id_to_token = {}\n",
        "\n",
        "        # We will keep track of the number of times a word appears in the corpus.\n",
        "        self.frequencies = {}\n",
        "\n",
        "    def split_text(self, text: str) -> List[str]:\n",
        "        \"\"\"Converts the text to a list of tokens (substrings).\"\"\"\n",
        "        return text.split(\" \")\n",
        "\n",
        "    def encode(self, text: str) -> List[int]:\n",
        "        \"\"\"Take a text as input and return its associated tokenization, as a list of ids.\"\"\"\n",
        "        return [self.vocab.get(token, \"<UNK>\") for token in self.split_text(text)]\n",
        "\n",
        "    def decode(self, ids: List[int]) -> str:\n",
        "        \"\"\"Take a list of ids as input and return its associated text.\"\"\"\n",
        "        return \" \".join([self.id_to_token.get(id, \"<UNK>\") for id in ids])\n",
        "\n",
        "    def fit(self, corpus: List[str]):\n",
        "        \"\"\"Fits the tokenizer to a list of texts to construct its vocabulary.\"\"\"\n",
        "        current_id = 0\n",
        "        for text in tqdm(corpus):\n",
        "\n",
        "            # Split into substrings.\n",
        "            list_tokens = self.split_text(text)\n",
        "\n",
        "            for token in list_tokens:\n",
        "\n",
        "                # Add the token to the vocabulary\n",
        "                token_id = self.vocab.get(token, None)\n",
        "\n",
        "                token_not_in_vocab = token_id is None\n",
        "\n",
        "                if token_not_in_vocab:\n",
        "                    self.vocab[token] = current_id\n",
        "                    self.id_to_token[current_id] = token\n",
        "                    self.frequencies[current_id] = 0\n",
        "                    token_id = current_id\n",
        "                    current_id += 1\n",
        "\n",
        "                self.frequencies[token_id] += 1\n",
        "\n",
        "        # Total number of words in vocab.\n",
        "        self.num_words = len(self.vocab)\n",
        "        print(f\"Built a vocabulary of {self.num_words} words.\")"
      ]
    },
    {
      "cell_type": "markdown",
      "metadata": {
        "id": "EawK5ctWqjOQ"
      },
      "source": [
        "🔴 **TEST**"
      ]
    },
    {
      "cell_type": "code",
      "execution_count": 149,
      "metadata": {
        "id": "l1slN9MEKWjC",
        "colab": {
          "base_uri": "https://localhost:8080/",
          "height": 67,
          "referenced_widgets": [
            "dce4d370cf024b09876c70c89f2247a4",
            "61c37854637a4035ad9b15935db034cb",
            "61664102b0454060a2556f79addcf50a",
            "2f7e9822611a49c8870e62c164889234",
            "f5105c00efad455c90a93e64facf7e32",
            "5bbece6c1e9449b29884133356366a5c",
            "a028914621bf4d619fc76b8de9ef15dc",
            "bd7b59af9302403db327894bd14c125a",
            "56c6a937a9cc40ab928f8a5936e47a7b",
            "2c0d559a5082463eaa6d87ae013565d4",
            "7ef39b556d9b45f49b259a148d5ef85f"
          ]
        },
        "outputId": "7f299063-a6ca-493a-e7de-c3aa7b823545"
      },
      "outputs": [
        {
          "output_type": "display_data",
          "data": {
            "text/plain": [
              "  0%|          | 0/2 [00:00<?, ?it/s]"
            ],
            "application/vnd.jupyter.widget-view+json": {
              "version_major": 2,
              "version_minor": 0,
              "model_id": "dce4d370cf024b09876c70c89f2247a4"
            }
          },
          "metadata": {}
        },
        {
          "output_type": "stream",
          "name": "stdout",
          "text": [
            "Built a vocabulary of 9 words.\n"
          ]
        }
      ],
      "source": [
        "tokenizer = WhiteSpaceTokenizer()\n",
        "toy_dataset = [\"the cat is in the kitchen\", \"i have a dog\"]\n",
        "tokenizer.fit(toy_dataset)\n",
        "text = \"i have a kitchen\"\n",
        "assert tokenizer.encode(text) == [5, 6, 7, 4]\n",
        "assert tokenizer.decode([0, 1, 2, 7, 8]) == \"the cat is a dog\""
      ]
    },
    {
      "cell_type": "markdown",
      "metadata": {
        "id": "imYmiv-PMiH4"
      },
      "source": [
        "🚧 **TODO** 🚧 Now fit it on your dataset."
      ]
    },
    {
      "cell_type": "code",
      "execution_count": 150,
      "metadata": {
        "id": "5-agmjJdMkHg",
        "colab": {
          "base_uri": "https://localhost:8080/",
          "height": 67,
          "referenced_widgets": [
            "aa2093bb46da47928d0e294a493be4be",
            "6ebe0bda52434fd8a946dfd20df9534d",
            "8e50e435ea2a479c9794e0f27219ef3b",
            "945ab3d2a70740bf818b72199430dae0",
            "7f44319b7ce543a58711460238a3b40f",
            "a20d6624c4664f1b87a8aeb613a632d9",
            "5e9b084e3593447b8460d62fd860d0ec",
            "acba97304b3e49ba87bd1114eec83233",
            "96e7fa34c50145e7bb17d6452f5ec18c",
            "18586b5b554d47a88149567e78fdd2c6",
            "bcb0055844e9442a961d0d78beb20677"
          ]
        },
        "outputId": "b5754bca-932e-4b85-a2f4-e8b3c48e2639"
      },
      "outputs": [
        {
          "output_type": "display_data",
          "data": {
            "text/plain": [
              "  0%|          | 0/62155 [00:00<?, ?it/s]"
            ],
            "application/vnd.jupyter.widget-view+json": {
              "version_major": 2,
              "version_minor": 0,
              "model_id": "aa2093bb46da47928d0e294a493be4be"
            }
          },
          "metadata": {}
        },
        {
          "output_type": "stream",
          "name": "stdout",
          "text": [
            "Built a vocabulary of 101917 words.\n"
          ]
        }
      ],
      "source": [
        "tokenizer = WhiteSpaceTokenizer()\n",
        "tokenizer.fit(clean_column)"
      ]
    },
    {
      "cell_type": "markdown",
      "metadata": {
        "id": "ZHO2xKpiL1oI"
      },
      "source": [
        "🚧 **Question** 🚧\n",
        "Look at the following code:"
      ]
    },
    {
      "cell_type": "code",
      "execution_count": 151,
      "metadata": {
        "id": "l3zS9noAL0DO",
        "colab": {
          "base_uri": "https://localhost:8080/"
        },
        "outputId": "15ce1d33-aa6e-4f9d-e9a0-7e78e700c324"
      },
      "outputs": [
        {
          "output_type": "execute_result",
          "data": {
            "text/plain": [
              "[16, 3510, 57, 39, 16, '<UNK>']"
            ]
          },
          "metadata": {},
          "execution_count": 151
        }
      ],
      "source": [
        "tokenizer.encode(\"the king is in the câstle\")"
      ]
    },
    {
      "cell_type": "markdown",
      "metadata": {
        "id": "Reu2H7UXM9J_"
      },
      "source": [
        "a) Does it raise an exception? Explain what is the problem with the above situation.\n",
        "\n",
        "b) In which real life scenario could such a situation appear?\n",
        "\n",
        "**Answer**\n",
        "\n",
        "câstle is not recognized as a token in our dictionnary. So we have an error when a token we try to encode is not in the dictionnary / has not been seen during the construction of the dictionnary\n",
        "\n",
        "This situation might appear in real life with proper nouns, typos, rare common nouns, etc.\n"
      ]
    },
    {
      "cell_type": "markdown",
      "metadata": {
        "id": "XbJtCxPKOFYe"
      },
      "source": [
        "🚧 **TODO** 🚧\n",
        "\n",
        "Propose a simple modification of the tokenizer code such that it doesn't raise an exception anymore. It should handle the presence of any unknown token.\n",
        "\n",
        "The following code should't raise any exception.\n",
        "\n",
        "** Answer **\n",
        "\n",
        "I have used the get method to query the dictionnary with a 'UNK' default value"
      ]
    },
    {
      "cell_type": "markdown",
      "metadata": {
        "id": "-sxrH8mFqs6I"
      },
      "source": [
        "🔴 **TEST**"
      ]
    },
    {
      "cell_type": "code",
      "execution_count": 152,
      "metadata": {
        "id": "EJVfIsLqLQ4M"
      },
      "outputs": [],
      "source": [
        "allowed_characters = (string.ascii_uppercase + string.digits).replace(\" \", \"\")\n",
        "for _ in range(1000):\n",
        "    word_that_do_not_exist = \"\".join(random.choices(allowed_characters, k=100))\n",
        "    encoding = tokenizer.encode(f\"the king is in the {word_that_do_not_exist}\")\n",
        "    assert tokenizer.decode(encoding) == \"the king is in the <UNK>\""
      ]
    },
    {
      "cell_type": "markdown",
      "metadata": {
        "id": "DZ_O5jT_f0Mr"
      },
      "source": [
        "### Dataset for PyTorch\n",
        "We will be working wtth PyTorch most of the time.\n",
        "A good practice is to always iterate through a `torch.utils.data.DataLoader`, coupled with `torch.utils.data.Dataset`.\n",
        "\n",
        "🚧 **TODO** 🚧\n",
        "\n",
        "We will construct our custom `Dataset` class, that should be fully compatible with the PyTorch API. According to the [documentation](https://pytorch.org/tutorials/beginner/basics/data_tutorial.html#creating-a-custom-dataset-for-your-files), such a dataset should implement at least three methods, `__init__`, `__len__`, `__getitem__`. Complete the following code such that the dataset yields a list of texts.\n",
        "\n",
        "Requirements:\n",
        "1. The dataset class should read the data from the csv_file stored in `DATA_PATH`.\n",
        "2. The dataset should output the raw text, without any cleaning."
      ]
    },
    {
      "cell_type": "code",
      "execution_count": 153,
      "metadata": {
        "id": "Gqn2FgOthdcF"
      },
      "outputs": [],
      "source": [
        "from torch.utils.data import Dataset\n",
        "\n",
        "\n",
        "class IMDBDataset(Dataset):\n",
        "    def __init__(self, file_path: str):\n",
        "        self.df = pd.read_csv(file_path, dtype={\"review\": \"string\", \"label\": int})\n",
        "\n",
        "    def __len__(self):\n",
        "        return len(self.df)\n",
        "\n",
        "    def __getitem__(self, idx: int):\n",
        "        return self.df.iloc[idx][\"review\"], self.df.iloc[idx][\"label\"]"
      ]
    },
    {
      "cell_type": "markdown",
      "metadata": {
        "id": "T2kJbUUxtPi8"
      },
      "source": [
        "🔴 **TEST**"
      ]
    },
    {
      "cell_type": "code",
      "execution_count": 154,
      "metadata": {
        "id": "68tkYxHKiFzA"
      },
      "outputs": [],
      "source": [
        "imdb_dataset = IMDBDataset(file_path=DATA_PATH)\n",
        "text, label = imdb_dataset[0]\n",
        "assert text == text_column[0]\n",
        "assert label == label_column[0]"
      ]
    },
    {
      "cell_type": "markdown",
      "metadata": {
        "id": "1EaTm6k7QZHL"
      },
      "source": [
        "### DataLoader for PyTorch\n",
        "\n",
        "Now that the dataset is ready, we should be able to iterate through it. This is done with a `DataLoader`.\n",
        "\n",
        "The `DataLoader` also has some handy functionnalities:\n",
        "1. Batch iteration.\n",
        "2. Collate function.\n",
        "\n",
        "The collate function corresponds to the argument `collate_fn` of the constructor of `torch.utils.data.DataLoader`.\n",
        "\n",
        "This function is applied on the fly to each sample of the dataset.\n",
        "\n",
        "Our `IMDBDataset` only outputs raw texts. During the iteration through the `DataLoader`, we would like to:\n",
        "1. Clean the dataset with our cleaning function `preprocess_text`.\n",
        "2. Convert the text to a list of tokens.\n",
        "3. The `DataLoader`, for a batch size of `N`, should yield a dictionnary `{\"token_ids\": ..., \"labels\": ...,}` with `\"token_ids\"` corresponding to a list of `N` lists of tokens ids, and `\"labels\"` to a list of size `N` with the corresponding labels.\n",
        "\n",
        "🚧 **TODO** 🚧\n",
        "\n",
        "Write the `collate_fn` function so that the above requirements are satisfied (i.e., clean and tokenize)."
      ]
    },
    {
      "cell_type": "code",
      "execution_count": 155,
      "metadata": {
        "id": "hvbB5VMrSSzY"
      },
      "outputs": [],
      "source": [
        "\n",
        "def collate_fn(batch):\n",
        "    \"\"\"Unpacks the batch, preprocesses and encodes text, and returns a dict with labels\"\"\"\n",
        "\n",
        "    reviews, labels = zip(*batch)\n",
        "\n",
        "    reviews = [preprocess_text(r) for r in reviews]\n",
        "\n",
        "    token_ids = [tokenizer.encode(r) for r in reviews]\n",
        "\n",
        "    return {\"token_ids\": token_ids, \"labels\": labels}\n"
      ]
    },
    {
      "cell_type": "code",
      "execution_count": 156,
      "metadata": {
        "id": "jGkthDygS5uT"
      },
      "outputs": [],
      "source": [
        "from torch.utils.data import DataLoader"
      ]
    },
    {
      "cell_type": "markdown",
      "metadata": {
        "id": "B0aAd6B2q4KC"
      },
      "source": [
        "🔴 **TEST**"
      ]
    },
    {
      "cell_type": "code",
      "execution_count": 157,
      "metadata": {
        "id": "YMkufgR1Sf8J"
      },
      "outputs": [],
      "source": [
        "for batch_size in range(1, 10):\n",
        "    dataloader = DataLoader(\n",
        "        dataset=imdb_dataset, batch_size=batch_size, collate_fn=collate_fn\n",
        "    )\n",
        "    for batch in dataloader:\n",
        "        token_ids = batch[\"token_ids\"]\n",
        "        labels = batch[\"labels\"]\n",
        "        assert len(token_ids) == batch_size\n",
        "        assert len(labels) == batch_size\n",
        "        assert isinstance(token_ids[0][0], int)\n",
        "        assert (isinstance(labels[0], int)) or isinstance(labels[0], np.int64)\n",
        "        break"
      ]
    },
    {
      "cell_type": "markdown",
      "metadata": {
        "id": "JacMmD5Kq6j8"
      },
      "source": [
        "🚧 **Question** 🚧\n",
        "\n",
        "Write a concise summary on what you learned with this lab.\n",
        "\n",
        "**Answer**\n",
        "\n",
        "* Build a tokenizer class from a corpus to encode and decode texts and tokens\n",
        "* Clean text using regex and normalization\n",
        "* Deal with exceptions (e.g. words out of vocabulary)\n",
        "* Explore vacubalary with histograms and fitting to a Zipf's Law\n",
        "* Use PyTorch's Dataset and DataLoader classes"
      ]
    }
  ],
  "metadata": {
    "colab": {
      "provenance": [],
      "include_colab_link": true
    },
    "kernelspec": {
      "display_name": "Python 3 (ipykernel)",
      "language": "python",
      "name": "python3"
    },
    "language_info": {
      "codemirror_mode": {
        "name": "ipython",
        "version": 3
      },
      "file_extension": ".py",
      "mimetype": "text/x-python",
      "name": "python",
      "nbconvert_exporter": "python",
      "pygments_lexer": "ipython3",
      "version": "3.9.12"
    },
    "toc": {
      "base_numbering": 1,
      "nav_menu": {},
      "number_sections": true,
      "sideBar": true,
      "skip_h1_title": false,
      "title_cell": "Table of Contents",
      "title_sidebar": "Contents",
      "toc_cell": false,
      "toc_position": {},
      "toc_section_display": true,
      "toc_window_display": false
    },
    "widgets": {
      "application/vnd.jupyter.widget-state+json": {
        "f897965b1b93407688af7b935b048190": {
          "model_module": "@jupyter-widgets/controls",
          "model_name": "HBoxModel",
          "model_module_version": "1.5.0",
          "state": {
            "_dom_classes": [],
            "_model_module": "@jupyter-widgets/controls",
            "_model_module_version": "1.5.0",
            "_model_name": "HBoxModel",
            "_view_count": null,
            "_view_module": "@jupyter-widgets/controls",
            "_view_module_version": "1.5.0",
            "_view_name": "HBoxView",
            "box_style": "",
            "children": [
              "IPY_MODEL_bade476a287c4236a6897d1f5e123186",
              "IPY_MODEL_1d4d3d2d4f8343ba87fe22c17ac363ef",
              "IPY_MODEL_9c416522052b4f4e900d418b84be0591"
            ],
            "layout": "IPY_MODEL_01d70a6583ff4e75a1332b0cdeb3c262"
          }
        },
        "bade476a287c4236a6897d1f5e123186": {
          "model_module": "@jupyter-widgets/controls",
          "model_name": "HTMLModel",
          "model_module_version": "1.5.0",
          "state": {
            "_dom_classes": [],
            "_model_module": "@jupyter-widgets/controls",
            "_model_module_version": "1.5.0",
            "_model_name": "HTMLModel",
            "_view_count": null,
            "_view_module": "@jupyter-widgets/controls",
            "_view_module_version": "1.5.0",
            "_view_name": "HTMLView",
            "description": "",
            "description_tooltip": null,
            "layout": "IPY_MODEL_5ee08bc5ba3140c6a3ebb6339c583e25",
            "placeholder": "​",
            "style": "IPY_MODEL_6ed7dfa7e3a143e0ad90e22ab7450b85",
            "value": "100%"
          }
        },
        "1d4d3d2d4f8343ba87fe22c17ac363ef": {
          "model_module": "@jupyter-widgets/controls",
          "model_name": "FloatProgressModel",
          "model_module_version": "1.5.0",
          "state": {
            "_dom_classes": [],
            "_model_module": "@jupyter-widgets/controls",
            "_model_module_version": "1.5.0",
            "_model_name": "FloatProgressModel",
            "_view_count": null,
            "_view_module": "@jupyter-widgets/controls",
            "_view_module_version": "1.5.0",
            "_view_name": "ProgressView",
            "bar_style": "success",
            "description": "",
            "description_tooltip": null,
            "layout": "IPY_MODEL_4b807e46500045e5bb9ff28d316aa876",
            "max": 2,
            "min": 0,
            "orientation": "horizontal",
            "style": "IPY_MODEL_7c46122e7eea4042a1b5c6c671d5e04b",
            "value": 2
          }
        },
        "9c416522052b4f4e900d418b84be0591": {
          "model_module": "@jupyter-widgets/controls",
          "model_name": "HTMLModel",
          "model_module_version": "1.5.0",
          "state": {
            "_dom_classes": [],
            "_model_module": "@jupyter-widgets/controls",
            "_model_module_version": "1.5.0",
            "_model_name": "HTMLModel",
            "_view_count": null,
            "_view_module": "@jupyter-widgets/controls",
            "_view_module_version": "1.5.0",
            "_view_name": "HTMLView",
            "description": "",
            "description_tooltip": null,
            "layout": "IPY_MODEL_c3588453776049a4a8e602e70e3178cf",
            "placeholder": "​",
            "style": "IPY_MODEL_55db8cf4163545ba859def923725c40b",
            "value": " 2/2 [00:00&lt;00:00, 97.34it/s]"
          }
        },
        "01d70a6583ff4e75a1332b0cdeb3c262": {
          "model_module": "@jupyter-widgets/base",
          "model_name": "LayoutModel",
          "model_module_version": "1.2.0",
          "state": {
            "_model_module": "@jupyter-widgets/base",
            "_model_module_version": "1.2.0",
            "_model_name": "LayoutModel",
            "_view_count": null,
            "_view_module": "@jupyter-widgets/base",
            "_view_module_version": "1.2.0",
            "_view_name": "LayoutView",
            "align_content": null,
            "align_items": null,
            "align_self": null,
            "border": null,
            "bottom": null,
            "display": null,
            "flex": null,
            "flex_flow": null,
            "grid_area": null,
            "grid_auto_columns": null,
            "grid_auto_flow": null,
            "grid_auto_rows": null,
            "grid_column": null,
            "grid_gap": null,
            "grid_row": null,
            "grid_template_areas": null,
            "grid_template_columns": null,
            "grid_template_rows": null,
            "height": null,
            "justify_content": null,
            "justify_items": null,
            "left": null,
            "margin": null,
            "max_height": null,
            "max_width": null,
            "min_height": null,
            "min_width": null,
            "object_fit": null,
            "object_position": null,
            "order": null,
            "overflow": null,
            "overflow_x": null,
            "overflow_y": null,
            "padding": null,
            "right": null,
            "top": null,
            "visibility": null,
            "width": null
          }
        },
        "5ee08bc5ba3140c6a3ebb6339c583e25": {
          "model_module": "@jupyter-widgets/base",
          "model_name": "LayoutModel",
          "model_module_version": "1.2.0",
          "state": {
            "_model_module": "@jupyter-widgets/base",
            "_model_module_version": "1.2.0",
            "_model_name": "LayoutModel",
            "_view_count": null,
            "_view_module": "@jupyter-widgets/base",
            "_view_module_version": "1.2.0",
            "_view_name": "LayoutView",
            "align_content": null,
            "align_items": null,
            "align_self": null,
            "border": null,
            "bottom": null,
            "display": null,
            "flex": null,
            "flex_flow": null,
            "grid_area": null,
            "grid_auto_columns": null,
            "grid_auto_flow": null,
            "grid_auto_rows": null,
            "grid_column": null,
            "grid_gap": null,
            "grid_row": null,
            "grid_template_areas": null,
            "grid_template_columns": null,
            "grid_template_rows": null,
            "height": null,
            "justify_content": null,
            "justify_items": null,
            "left": null,
            "margin": null,
            "max_height": null,
            "max_width": null,
            "min_height": null,
            "min_width": null,
            "object_fit": null,
            "object_position": null,
            "order": null,
            "overflow": null,
            "overflow_x": null,
            "overflow_y": null,
            "padding": null,
            "right": null,
            "top": null,
            "visibility": null,
            "width": null
          }
        },
        "6ed7dfa7e3a143e0ad90e22ab7450b85": {
          "model_module": "@jupyter-widgets/controls",
          "model_name": "DescriptionStyleModel",
          "model_module_version": "1.5.0",
          "state": {
            "_model_module": "@jupyter-widgets/controls",
            "_model_module_version": "1.5.0",
            "_model_name": "DescriptionStyleModel",
            "_view_count": null,
            "_view_module": "@jupyter-widgets/base",
            "_view_module_version": "1.2.0",
            "_view_name": "StyleView",
            "description_width": ""
          }
        },
        "4b807e46500045e5bb9ff28d316aa876": {
          "model_module": "@jupyter-widgets/base",
          "model_name": "LayoutModel",
          "model_module_version": "1.2.0",
          "state": {
            "_model_module": "@jupyter-widgets/base",
            "_model_module_version": "1.2.0",
            "_model_name": "LayoutModel",
            "_view_count": null,
            "_view_module": "@jupyter-widgets/base",
            "_view_module_version": "1.2.0",
            "_view_name": "LayoutView",
            "align_content": null,
            "align_items": null,
            "align_self": null,
            "border": null,
            "bottom": null,
            "display": null,
            "flex": null,
            "flex_flow": null,
            "grid_area": null,
            "grid_auto_columns": null,
            "grid_auto_flow": null,
            "grid_auto_rows": null,
            "grid_column": null,
            "grid_gap": null,
            "grid_row": null,
            "grid_template_areas": null,
            "grid_template_columns": null,
            "grid_template_rows": null,
            "height": null,
            "justify_content": null,
            "justify_items": null,
            "left": null,
            "margin": null,
            "max_height": null,
            "max_width": null,
            "min_height": null,
            "min_width": null,
            "object_fit": null,
            "object_position": null,
            "order": null,
            "overflow": null,
            "overflow_x": null,
            "overflow_y": null,
            "padding": null,
            "right": null,
            "top": null,
            "visibility": null,
            "width": null
          }
        },
        "7c46122e7eea4042a1b5c6c671d5e04b": {
          "model_module": "@jupyter-widgets/controls",
          "model_name": "ProgressStyleModel",
          "model_module_version": "1.5.0",
          "state": {
            "_model_module": "@jupyter-widgets/controls",
            "_model_module_version": "1.5.0",
            "_model_name": "ProgressStyleModel",
            "_view_count": null,
            "_view_module": "@jupyter-widgets/base",
            "_view_module_version": "1.2.0",
            "_view_name": "StyleView",
            "bar_color": null,
            "description_width": ""
          }
        },
        "c3588453776049a4a8e602e70e3178cf": {
          "model_module": "@jupyter-widgets/base",
          "model_name": "LayoutModel",
          "model_module_version": "1.2.0",
          "state": {
            "_model_module": "@jupyter-widgets/base",
            "_model_module_version": "1.2.0",
            "_model_name": "LayoutModel",
            "_view_count": null,
            "_view_module": "@jupyter-widgets/base",
            "_view_module_version": "1.2.0",
            "_view_name": "LayoutView",
            "align_content": null,
            "align_items": null,
            "align_self": null,
            "border": null,
            "bottom": null,
            "display": null,
            "flex": null,
            "flex_flow": null,
            "grid_area": null,
            "grid_auto_columns": null,
            "grid_auto_flow": null,
            "grid_auto_rows": null,
            "grid_column": null,
            "grid_gap": null,
            "grid_row": null,
            "grid_template_areas": null,
            "grid_template_columns": null,
            "grid_template_rows": null,
            "height": null,
            "justify_content": null,
            "justify_items": null,
            "left": null,
            "margin": null,
            "max_height": null,
            "max_width": null,
            "min_height": null,
            "min_width": null,
            "object_fit": null,
            "object_position": null,
            "order": null,
            "overflow": null,
            "overflow_x": null,
            "overflow_y": null,
            "padding": null,
            "right": null,
            "top": null,
            "visibility": null,
            "width": null
          }
        },
        "55db8cf4163545ba859def923725c40b": {
          "model_module": "@jupyter-widgets/controls",
          "model_name": "DescriptionStyleModel",
          "model_module_version": "1.5.0",
          "state": {
            "_model_module": "@jupyter-widgets/controls",
            "_model_module_version": "1.5.0",
            "_model_name": "DescriptionStyleModel",
            "_view_count": null,
            "_view_module": "@jupyter-widgets/base",
            "_view_module_version": "1.2.0",
            "_view_name": "StyleView",
            "description_width": ""
          }
        },
        "422876ce851243c5a7ecfddcc4eae47f": {
          "model_module": "@jupyter-widgets/controls",
          "model_name": "HBoxModel",
          "model_module_version": "1.5.0",
          "state": {
            "_dom_classes": [],
            "_model_module": "@jupyter-widgets/controls",
            "_model_module_version": "1.5.0",
            "_model_name": "HBoxModel",
            "_view_count": null,
            "_view_module": "@jupyter-widgets/controls",
            "_view_module_version": "1.5.0",
            "_view_name": "HBoxView",
            "box_style": "",
            "children": [
              "IPY_MODEL_f1c55a6c342b49619b96e2b579fa821b",
              "IPY_MODEL_9081834b0cc64eb181f77c64cb2a7bbe",
              "IPY_MODEL_7c64c65004cf495287b07c39076a135c"
            ],
            "layout": "IPY_MODEL_8bd10eaa951b49f6a3aca48c30b628af"
          }
        },
        "f1c55a6c342b49619b96e2b579fa821b": {
          "model_module": "@jupyter-widgets/controls",
          "model_name": "HTMLModel",
          "model_module_version": "1.5.0",
          "state": {
            "_dom_classes": [],
            "_model_module": "@jupyter-widgets/controls",
            "_model_module_version": "1.5.0",
            "_model_name": "HTMLModel",
            "_view_count": null,
            "_view_module": "@jupyter-widgets/controls",
            "_view_module_version": "1.5.0",
            "_view_name": "HTMLView",
            "description": "",
            "description_tooltip": null,
            "layout": "IPY_MODEL_d985cb3f83954f8397b80e86492463af",
            "placeholder": "​",
            "style": "IPY_MODEL_b6c1238d04b74af7bf76fa6e52edfb09",
            "value": "100%"
          }
        },
        "9081834b0cc64eb181f77c64cb2a7bbe": {
          "model_module": "@jupyter-widgets/controls",
          "model_name": "FloatProgressModel",
          "model_module_version": "1.5.0",
          "state": {
            "_dom_classes": [],
            "_model_module": "@jupyter-widgets/controls",
            "_model_module_version": "1.5.0",
            "_model_name": "FloatProgressModel",
            "_view_count": null,
            "_view_module": "@jupyter-widgets/controls",
            "_view_module_version": "1.5.0",
            "_view_name": "ProgressView",
            "bar_style": "success",
            "description": "",
            "description_tooltip": null,
            "layout": "IPY_MODEL_3d114c5d08604c1fb1ff5b0d80756b73",
            "max": 62155,
            "min": 0,
            "orientation": "horizontal",
            "style": "IPY_MODEL_cf0d53793e19466c958d0405128b2cd6",
            "value": 62155
          }
        },
        "7c64c65004cf495287b07c39076a135c": {
          "model_module": "@jupyter-widgets/controls",
          "model_name": "HTMLModel",
          "model_module_version": "1.5.0",
          "state": {
            "_dom_classes": [],
            "_model_module": "@jupyter-widgets/controls",
            "_model_module_version": "1.5.0",
            "_model_name": "HTMLModel",
            "_view_count": null,
            "_view_module": "@jupyter-widgets/controls",
            "_view_module_version": "1.5.0",
            "_view_name": "HTMLView",
            "description": "",
            "description_tooltip": null,
            "layout": "IPY_MODEL_a8180e1032ff4a84a8ed0f55221563e7",
            "placeholder": "​",
            "style": "IPY_MODEL_a921714fa2af48dab3b63ada3fa5a564",
            "value": " 62155/62155 [00:12&lt;00:00, 4242.13it/s]"
          }
        },
        "8bd10eaa951b49f6a3aca48c30b628af": {
          "model_module": "@jupyter-widgets/base",
          "model_name": "LayoutModel",
          "model_module_version": "1.2.0",
          "state": {
            "_model_module": "@jupyter-widgets/base",
            "_model_module_version": "1.2.0",
            "_model_name": "LayoutModel",
            "_view_count": null,
            "_view_module": "@jupyter-widgets/base",
            "_view_module_version": "1.2.0",
            "_view_name": "LayoutView",
            "align_content": null,
            "align_items": null,
            "align_self": null,
            "border": null,
            "bottom": null,
            "display": null,
            "flex": null,
            "flex_flow": null,
            "grid_area": null,
            "grid_auto_columns": null,
            "grid_auto_flow": null,
            "grid_auto_rows": null,
            "grid_column": null,
            "grid_gap": null,
            "grid_row": null,
            "grid_template_areas": null,
            "grid_template_columns": null,
            "grid_template_rows": null,
            "height": null,
            "justify_content": null,
            "justify_items": null,
            "left": null,
            "margin": null,
            "max_height": null,
            "max_width": null,
            "min_height": null,
            "min_width": null,
            "object_fit": null,
            "object_position": null,
            "order": null,
            "overflow": null,
            "overflow_x": null,
            "overflow_y": null,
            "padding": null,
            "right": null,
            "top": null,
            "visibility": null,
            "width": null
          }
        },
        "d985cb3f83954f8397b80e86492463af": {
          "model_module": "@jupyter-widgets/base",
          "model_name": "LayoutModel",
          "model_module_version": "1.2.0",
          "state": {
            "_model_module": "@jupyter-widgets/base",
            "_model_module_version": "1.2.0",
            "_model_name": "LayoutModel",
            "_view_count": null,
            "_view_module": "@jupyter-widgets/base",
            "_view_module_version": "1.2.0",
            "_view_name": "LayoutView",
            "align_content": null,
            "align_items": null,
            "align_self": null,
            "border": null,
            "bottom": null,
            "display": null,
            "flex": null,
            "flex_flow": null,
            "grid_area": null,
            "grid_auto_columns": null,
            "grid_auto_flow": null,
            "grid_auto_rows": null,
            "grid_column": null,
            "grid_gap": null,
            "grid_row": null,
            "grid_template_areas": null,
            "grid_template_columns": null,
            "grid_template_rows": null,
            "height": null,
            "justify_content": null,
            "justify_items": null,
            "left": null,
            "margin": null,
            "max_height": null,
            "max_width": null,
            "min_height": null,
            "min_width": null,
            "object_fit": null,
            "object_position": null,
            "order": null,
            "overflow": null,
            "overflow_x": null,
            "overflow_y": null,
            "padding": null,
            "right": null,
            "top": null,
            "visibility": null,
            "width": null
          }
        },
        "b6c1238d04b74af7bf76fa6e52edfb09": {
          "model_module": "@jupyter-widgets/controls",
          "model_name": "DescriptionStyleModel",
          "model_module_version": "1.5.0",
          "state": {
            "_model_module": "@jupyter-widgets/controls",
            "_model_module_version": "1.5.0",
            "_model_name": "DescriptionStyleModel",
            "_view_count": null,
            "_view_module": "@jupyter-widgets/base",
            "_view_module_version": "1.2.0",
            "_view_name": "StyleView",
            "description_width": ""
          }
        },
        "3d114c5d08604c1fb1ff5b0d80756b73": {
          "model_module": "@jupyter-widgets/base",
          "model_name": "LayoutModel",
          "model_module_version": "1.2.0",
          "state": {
            "_model_module": "@jupyter-widgets/base",
            "_model_module_version": "1.2.0",
            "_model_name": "LayoutModel",
            "_view_count": null,
            "_view_module": "@jupyter-widgets/base",
            "_view_module_version": "1.2.0",
            "_view_name": "LayoutView",
            "align_content": null,
            "align_items": null,
            "align_self": null,
            "border": null,
            "bottom": null,
            "display": null,
            "flex": null,
            "flex_flow": null,
            "grid_area": null,
            "grid_auto_columns": null,
            "grid_auto_flow": null,
            "grid_auto_rows": null,
            "grid_column": null,
            "grid_gap": null,
            "grid_row": null,
            "grid_template_areas": null,
            "grid_template_columns": null,
            "grid_template_rows": null,
            "height": null,
            "justify_content": null,
            "justify_items": null,
            "left": null,
            "margin": null,
            "max_height": null,
            "max_width": null,
            "min_height": null,
            "min_width": null,
            "object_fit": null,
            "object_position": null,
            "order": null,
            "overflow": null,
            "overflow_x": null,
            "overflow_y": null,
            "padding": null,
            "right": null,
            "top": null,
            "visibility": null,
            "width": null
          }
        },
        "cf0d53793e19466c958d0405128b2cd6": {
          "model_module": "@jupyter-widgets/controls",
          "model_name": "ProgressStyleModel",
          "model_module_version": "1.5.0",
          "state": {
            "_model_module": "@jupyter-widgets/controls",
            "_model_module_version": "1.5.0",
            "_model_name": "ProgressStyleModel",
            "_view_count": null,
            "_view_module": "@jupyter-widgets/base",
            "_view_module_version": "1.2.0",
            "_view_name": "StyleView",
            "bar_color": null,
            "description_width": ""
          }
        },
        "a8180e1032ff4a84a8ed0f55221563e7": {
          "model_module": "@jupyter-widgets/base",
          "model_name": "LayoutModel",
          "model_module_version": "1.2.0",
          "state": {
            "_model_module": "@jupyter-widgets/base",
            "_model_module_version": "1.2.0",
            "_model_name": "LayoutModel",
            "_view_count": null,
            "_view_module": "@jupyter-widgets/base",
            "_view_module_version": "1.2.0",
            "_view_name": "LayoutView",
            "align_content": null,
            "align_items": null,
            "align_self": null,
            "border": null,
            "bottom": null,
            "display": null,
            "flex": null,
            "flex_flow": null,
            "grid_area": null,
            "grid_auto_columns": null,
            "grid_auto_flow": null,
            "grid_auto_rows": null,
            "grid_column": null,
            "grid_gap": null,
            "grid_row": null,
            "grid_template_areas": null,
            "grid_template_columns": null,
            "grid_template_rows": null,
            "height": null,
            "justify_content": null,
            "justify_items": null,
            "left": null,
            "margin": null,
            "max_height": null,
            "max_width": null,
            "min_height": null,
            "min_width": null,
            "object_fit": null,
            "object_position": null,
            "order": null,
            "overflow": null,
            "overflow_x": null,
            "overflow_y": null,
            "padding": null,
            "right": null,
            "top": null,
            "visibility": null,
            "width": null
          }
        },
        "a921714fa2af48dab3b63ada3fa5a564": {
          "model_module": "@jupyter-widgets/controls",
          "model_name": "DescriptionStyleModel",
          "model_module_version": "1.5.0",
          "state": {
            "_model_module": "@jupyter-widgets/controls",
            "_model_module_version": "1.5.0",
            "_model_name": "DescriptionStyleModel",
            "_view_count": null,
            "_view_module": "@jupyter-widgets/base",
            "_view_module_version": "1.2.0",
            "_view_name": "StyleView",
            "description_width": ""
          }
        },
        "f4e49ff7b4af4a989c69d4304e3e7cbd": {
          "model_module": "@jupyter-widgets/controls",
          "model_name": "HBoxModel",
          "model_module_version": "1.5.0",
          "state": {
            "_dom_classes": [],
            "_model_module": "@jupyter-widgets/controls",
            "_model_module_version": "1.5.0",
            "_model_name": "HBoxModel",
            "_view_count": null,
            "_view_module": "@jupyter-widgets/controls",
            "_view_module_version": "1.5.0",
            "_view_name": "HBoxView",
            "box_style": "",
            "children": [
              "IPY_MODEL_5b42c037b05448a187945846058b0f2d",
              "IPY_MODEL_e139b112d4d6429b85f3cbbbf0cd5adb",
              "IPY_MODEL_bbc3c79bf87f4ce4b29cb1e6c294b927"
            ],
            "layout": "IPY_MODEL_d2290e84279e49478b3ded443f6c4d06"
          }
        },
        "5b42c037b05448a187945846058b0f2d": {
          "model_module": "@jupyter-widgets/controls",
          "model_name": "HTMLModel",
          "model_module_version": "1.5.0",
          "state": {
            "_dom_classes": [],
            "_model_module": "@jupyter-widgets/controls",
            "_model_module_version": "1.5.0",
            "_model_name": "HTMLModel",
            "_view_count": null,
            "_view_module": "@jupyter-widgets/controls",
            "_view_module_version": "1.5.0",
            "_view_name": "HTMLView",
            "description": "",
            "description_tooltip": null,
            "layout": "IPY_MODEL_a88f00e904514c7699bc14359981c571",
            "placeholder": "​",
            "style": "IPY_MODEL_79ca321ec8924f83ad76f41bd9f9f82b",
            "value": "100%"
          }
        },
        "e139b112d4d6429b85f3cbbbf0cd5adb": {
          "model_module": "@jupyter-widgets/controls",
          "model_name": "FloatProgressModel",
          "model_module_version": "1.5.0",
          "state": {
            "_dom_classes": [],
            "_model_module": "@jupyter-widgets/controls",
            "_model_module_version": "1.5.0",
            "_model_name": "FloatProgressModel",
            "_view_count": null,
            "_view_module": "@jupyter-widgets/controls",
            "_view_module_version": "1.5.0",
            "_view_name": "ProgressView",
            "bar_style": "success",
            "description": "",
            "description_tooltip": null,
            "layout": "IPY_MODEL_ee6f166491584cceab2854672ae0c61b",
            "max": 62155,
            "min": 0,
            "orientation": "horizontal",
            "style": "IPY_MODEL_2efa63c36fc84557ae1eb37a126763fd",
            "value": 62155
          }
        },
        "bbc3c79bf87f4ce4b29cb1e6c294b927": {
          "model_module": "@jupyter-widgets/controls",
          "model_name": "HTMLModel",
          "model_module_version": "1.5.0",
          "state": {
            "_dom_classes": [],
            "_model_module": "@jupyter-widgets/controls",
            "_model_module_version": "1.5.0",
            "_model_name": "HTMLModel",
            "_view_count": null,
            "_view_module": "@jupyter-widgets/controls",
            "_view_module_version": "1.5.0",
            "_view_name": "HTMLView",
            "description": "",
            "description_tooltip": null,
            "layout": "IPY_MODEL_6b0381da20b54a6895907e190951bd62",
            "placeholder": "​",
            "style": "IPY_MODEL_c28935b0542344b0b8293dde2172102d",
            "value": " 62155/62155 [00:10&lt;00:00, 5123.41it/s]"
          }
        },
        "d2290e84279e49478b3ded443f6c4d06": {
          "model_module": "@jupyter-widgets/base",
          "model_name": "LayoutModel",
          "model_module_version": "1.2.0",
          "state": {
            "_model_module": "@jupyter-widgets/base",
            "_model_module_version": "1.2.0",
            "_model_name": "LayoutModel",
            "_view_count": null,
            "_view_module": "@jupyter-widgets/base",
            "_view_module_version": "1.2.0",
            "_view_name": "LayoutView",
            "align_content": null,
            "align_items": null,
            "align_self": null,
            "border": null,
            "bottom": null,
            "display": null,
            "flex": null,
            "flex_flow": null,
            "grid_area": null,
            "grid_auto_columns": null,
            "grid_auto_flow": null,
            "grid_auto_rows": null,
            "grid_column": null,
            "grid_gap": null,
            "grid_row": null,
            "grid_template_areas": null,
            "grid_template_columns": null,
            "grid_template_rows": null,
            "height": null,
            "justify_content": null,
            "justify_items": null,
            "left": null,
            "margin": null,
            "max_height": null,
            "max_width": null,
            "min_height": null,
            "min_width": null,
            "object_fit": null,
            "object_position": null,
            "order": null,
            "overflow": null,
            "overflow_x": null,
            "overflow_y": null,
            "padding": null,
            "right": null,
            "top": null,
            "visibility": null,
            "width": null
          }
        },
        "a88f00e904514c7699bc14359981c571": {
          "model_module": "@jupyter-widgets/base",
          "model_name": "LayoutModel",
          "model_module_version": "1.2.0",
          "state": {
            "_model_module": "@jupyter-widgets/base",
            "_model_module_version": "1.2.0",
            "_model_name": "LayoutModel",
            "_view_count": null,
            "_view_module": "@jupyter-widgets/base",
            "_view_module_version": "1.2.0",
            "_view_name": "LayoutView",
            "align_content": null,
            "align_items": null,
            "align_self": null,
            "border": null,
            "bottom": null,
            "display": null,
            "flex": null,
            "flex_flow": null,
            "grid_area": null,
            "grid_auto_columns": null,
            "grid_auto_flow": null,
            "grid_auto_rows": null,
            "grid_column": null,
            "grid_gap": null,
            "grid_row": null,
            "grid_template_areas": null,
            "grid_template_columns": null,
            "grid_template_rows": null,
            "height": null,
            "justify_content": null,
            "justify_items": null,
            "left": null,
            "margin": null,
            "max_height": null,
            "max_width": null,
            "min_height": null,
            "min_width": null,
            "object_fit": null,
            "object_position": null,
            "order": null,
            "overflow": null,
            "overflow_x": null,
            "overflow_y": null,
            "padding": null,
            "right": null,
            "top": null,
            "visibility": null,
            "width": null
          }
        },
        "79ca321ec8924f83ad76f41bd9f9f82b": {
          "model_module": "@jupyter-widgets/controls",
          "model_name": "DescriptionStyleModel",
          "model_module_version": "1.5.0",
          "state": {
            "_model_module": "@jupyter-widgets/controls",
            "_model_module_version": "1.5.0",
            "_model_name": "DescriptionStyleModel",
            "_view_count": null,
            "_view_module": "@jupyter-widgets/base",
            "_view_module_version": "1.2.0",
            "_view_name": "StyleView",
            "description_width": ""
          }
        },
        "ee6f166491584cceab2854672ae0c61b": {
          "model_module": "@jupyter-widgets/base",
          "model_name": "LayoutModel",
          "model_module_version": "1.2.0",
          "state": {
            "_model_module": "@jupyter-widgets/base",
            "_model_module_version": "1.2.0",
            "_model_name": "LayoutModel",
            "_view_count": null,
            "_view_module": "@jupyter-widgets/base",
            "_view_module_version": "1.2.0",
            "_view_name": "LayoutView",
            "align_content": null,
            "align_items": null,
            "align_self": null,
            "border": null,
            "bottom": null,
            "display": null,
            "flex": null,
            "flex_flow": null,
            "grid_area": null,
            "grid_auto_columns": null,
            "grid_auto_flow": null,
            "grid_auto_rows": null,
            "grid_column": null,
            "grid_gap": null,
            "grid_row": null,
            "grid_template_areas": null,
            "grid_template_columns": null,
            "grid_template_rows": null,
            "height": null,
            "justify_content": null,
            "justify_items": null,
            "left": null,
            "margin": null,
            "max_height": null,
            "max_width": null,
            "min_height": null,
            "min_width": null,
            "object_fit": null,
            "object_position": null,
            "order": null,
            "overflow": null,
            "overflow_x": null,
            "overflow_y": null,
            "padding": null,
            "right": null,
            "top": null,
            "visibility": null,
            "width": null
          }
        },
        "2efa63c36fc84557ae1eb37a126763fd": {
          "model_module": "@jupyter-widgets/controls",
          "model_name": "ProgressStyleModel",
          "model_module_version": "1.5.0",
          "state": {
            "_model_module": "@jupyter-widgets/controls",
            "_model_module_version": "1.5.0",
            "_model_name": "ProgressStyleModel",
            "_view_count": null,
            "_view_module": "@jupyter-widgets/base",
            "_view_module_version": "1.2.0",
            "_view_name": "StyleView",
            "bar_color": null,
            "description_width": ""
          }
        },
        "6b0381da20b54a6895907e190951bd62": {
          "model_module": "@jupyter-widgets/base",
          "model_name": "LayoutModel",
          "model_module_version": "1.2.0",
          "state": {
            "_model_module": "@jupyter-widgets/base",
            "_model_module_version": "1.2.0",
            "_model_name": "LayoutModel",
            "_view_count": null,
            "_view_module": "@jupyter-widgets/base",
            "_view_module_version": "1.2.0",
            "_view_name": "LayoutView",
            "align_content": null,
            "align_items": null,
            "align_self": null,
            "border": null,
            "bottom": null,
            "display": null,
            "flex": null,
            "flex_flow": null,
            "grid_area": null,
            "grid_auto_columns": null,
            "grid_auto_flow": null,
            "grid_auto_rows": null,
            "grid_column": null,
            "grid_gap": null,
            "grid_row": null,
            "grid_template_areas": null,
            "grid_template_columns": null,
            "grid_template_rows": null,
            "height": null,
            "justify_content": null,
            "justify_items": null,
            "left": null,
            "margin": null,
            "max_height": null,
            "max_width": null,
            "min_height": null,
            "min_width": null,
            "object_fit": null,
            "object_position": null,
            "order": null,
            "overflow": null,
            "overflow_x": null,
            "overflow_y": null,
            "padding": null,
            "right": null,
            "top": null,
            "visibility": null,
            "width": null
          }
        },
        "c28935b0542344b0b8293dde2172102d": {
          "model_module": "@jupyter-widgets/controls",
          "model_name": "DescriptionStyleModel",
          "model_module_version": "1.5.0",
          "state": {
            "_model_module": "@jupyter-widgets/controls",
            "_model_module_version": "1.5.0",
            "_model_name": "DescriptionStyleModel",
            "_view_count": null,
            "_view_module": "@jupyter-widgets/base",
            "_view_module_version": "1.2.0",
            "_view_name": "StyleView",
            "description_width": ""
          }
        },
        "dce4d370cf024b09876c70c89f2247a4": {
          "model_module": "@jupyter-widgets/controls",
          "model_name": "HBoxModel",
          "model_module_version": "1.5.0",
          "state": {
            "_dom_classes": [],
            "_model_module": "@jupyter-widgets/controls",
            "_model_module_version": "1.5.0",
            "_model_name": "HBoxModel",
            "_view_count": null,
            "_view_module": "@jupyter-widgets/controls",
            "_view_module_version": "1.5.0",
            "_view_name": "HBoxView",
            "box_style": "",
            "children": [
              "IPY_MODEL_61c37854637a4035ad9b15935db034cb",
              "IPY_MODEL_61664102b0454060a2556f79addcf50a",
              "IPY_MODEL_2f7e9822611a49c8870e62c164889234"
            ],
            "layout": "IPY_MODEL_f5105c00efad455c90a93e64facf7e32"
          }
        },
        "61c37854637a4035ad9b15935db034cb": {
          "model_module": "@jupyter-widgets/controls",
          "model_name": "HTMLModel",
          "model_module_version": "1.5.0",
          "state": {
            "_dom_classes": [],
            "_model_module": "@jupyter-widgets/controls",
            "_model_module_version": "1.5.0",
            "_model_name": "HTMLModel",
            "_view_count": null,
            "_view_module": "@jupyter-widgets/controls",
            "_view_module_version": "1.5.0",
            "_view_name": "HTMLView",
            "description": "",
            "description_tooltip": null,
            "layout": "IPY_MODEL_5bbece6c1e9449b29884133356366a5c",
            "placeholder": "​",
            "style": "IPY_MODEL_a028914621bf4d619fc76b8de9ef15dc",
            "value": "100%"
          }
        },
        "61664102b0454060a2556f79addcf50a": {
          "model_module": "@jupyter-widgets/controls",
          "model_name": "FloatProgressModel",
          "model_module_version": "1.5.0",
          "state": {
            "_dom_classes": [],
            "_model_module": "@jupyter-widgets/controls",
            "_model_module_version": "1.5.0",
            "_model_name": "FloatProgressModel",
            "_view_count": null,
            "_view_module": "@jupyter-widgets/controls",
            "_view_module_version": "1.5.0",
            "_view_name": "ProgressView",
            "bar_style": "success",
            "description": "",
            "description_tooltip": null,
            "layout": "IPY_MODEL_bd7b59af9302403db327894bd14c125a",
            "max": 2,
            "min": 0,
            "orientation": "horizontal",
            "style": "IPY_MODEL_56c6a937a9cc40ab928f8a5936e47a7b",
            "value": 2
          }
        },
        "2f7e9822611a49c8870e62c164889234": {
          "model_module": "@jupyter-widgets/controls",
          "model_name": "HTMLModel",
          "model_module_version": "1.5.0",
          "state": {
            "_dom_classes": [],
            "_model_module": "@jupyter-widgets/controls",
            "_model_module_version": "1.5.0",
            "_model_name": "HTMLModel",
            "_view_count": null,
            "_view_module": "@jupyter-widgets/controls",
            "_view_module_version": "1.5.0",
            "_view_name": "HTMLView",
            "description": "",
            "description_tooltip": null,
            "layout": "IPY_MODEL_2c0d559a5082463eaa6d87ae013565d4",
            "placeholder": "​",
            "style": "IPY_MODEL_7ef39b556d9b45f49b259a148d5ef85f",
            "value": " 2/2 [00:00&lt;00:00, 49.70it/s]"
          }
        },
        "f5105c00efad455c90a93e64facf7e32": {
          "model_module": "@jupyter-widgets/base",
          "model_name": "LayoutModel",
          "model_module_version": "1.2.0",
          "state": {
            "_model_module": "@jupyter-widgets/base",
            "_model_module_version": "1.2.0",
            "_model_name": "LayoutModel",
            "_view_count": null,
            "_view_module": "@jupyter-widgets/base",
            "_view_module_version": "1.2.0",
            "_view_name": "LayoutView",
            "align_content": null,
            "align_items": null,
            "align_self": null,
            "border": null,
            "bottom": null,
            "display": null,
            "flex": null,
            "flex_flow": null,
            "grid_area": null,
            "grid_auto_columns": null,
            "grid_auto_flow": null,
            "grid_auto_rows": null,
            "grid_column": null,
            "grid_gap": null,
            "grid_row": null,
            "grid_template_areas": null,
            "grid_template_columns": null,
            "grid_template_rows": null,
            "height": null,
            "justify_content": null,
            "justify_items": null,
            "left": null,
            "margin": null,
            "max_height": null,
            "max_width": null,
            "min_height": null,
            "min_width": null,
            "object_fit": null,
            "object_position": null,
            "order": null,
            "overflow": null,
            "overflow_x": null,
            "overflow_y": null,
            "padding": null,
            "right": null,
            "top": null,
            "visibility": null,
            "width": null
          }
        },
        "5bbece6c1e9449b29884133356366a5c": {
          "model_module": "@jupyter-widgets/base",
          "model_name": "LayoutModel",
          "model_module_version": "1.2.0",
          "state": {
            "_model_module": "@jupyter-widgets/base",
            "_model_module_version": "1.2.0",
            "_model_name": "LayoutModel",
            "_view_count": null,
            "_view_module": "@jupyter-widgets/base",
            "_view_module_version": "1.2.0",
            "_view_name": "LayoutView",
            "align_content": null,
            "align_items": null,
            "align_self": null,
            "border": null,
            "bottom": null,
            "display": null,
            "flex": null,
            "flex_flow": null,
            "grid_area": null,
            "grid_auto_columns": null,
            "grid_auto_flow": null,
            "grid_auto_rows": null,
            "grid_column": null,
            "grid_gap": null,
            "grid_row": null,
            "grid_template_areas": null,
            "grid_template_columns": null,
            "grid_template_rows": null,
            "height": null,
            "justify_content": null,
            "justify_items": null,
            "left": null,
            "margin": null,
            "max_height": null,
            "max_width": null,
            "min_height": null,
            "min_width": null,
            "object_fit": null,
            "object_position": null,
            "order": null,
            "overflow": null,
            "overflow_x": null,
            "overflow_y": null,
            "padding": null,
            "right": null,
            "top": null,
            "visibility": null,
            "width": null
          }
        },
        "a028914621bf4d619fc76b8de9ef15dc": {
          "model_module": "@jupyter-widgets/controls",
          "model_name": "DescriptionStyleModel",
          "model_module_version": "1.5.0",
          "state": {
            "_model_module": "@jupyter-widgets/controls",
            "_model_module_version": "1.5.0",
            "_model_name": "DescriptionStyleModel",
            "_view_count": null,
            "_view_module": "@jupyter-widgets/base",
            "_view_module_version": "1.2.0",
            "_view_name": "StyleView",
            "description_width": ""
          }
        },
        "bd7b59af9302403db327894bd14c125a": {
          "model_module": "@jupyter-widgets/base",
          "model_name": "LayoutModel",
          "model_module_version": "1.2.0",
          "state": {
            "_model_module": "@jupyter-widgets/base",
            "_model_module_version": "1.2.0",
            "_model_name": "LayoutModel",
            "_view_count": null,
            "_view_module": "@jupyter-widgets/base",
            "_view_module_version": "1.2.0",
            "_view_name": "LayoutView",
            "align_content": null,
            "align_items": null,
            "align_self": null,
            "border": null,
            "bottom": null,
            "display": null,
            "flex": null,
            "flex_flow": null,
            "grid_area": null,
            "grid_auto_columns": null,
            "grid_auto_flow": null,
            "grid_auto_rows": null,
            "grid_column": null,
            "grid_gap": null,
            "grid_row": null,
            "grid_template_areas": null,
            "grid_template_columns": null,
            "grid_template_rows": null,
            "height": null,
            "justify_content": null,
            "justify_items": null,
            "left": null,
            "margin": null,
            "max_height": null,
            "max_width": null,
            "min_height": null,
            "min_width": null,
            "object_fit": null,
            "object_position": null,
            "order": null,
            "overflow": null,
            "overflow_x": null,
            "overflow_y": null,
            "padding": null,
            "right": null,
            "top": null,
            "visibility": null,
            "width": null
          }
        },
        "56c6a937a9cc40ab928f8a5936e47a7b": {
          "model_module": "@jupyter-widgets/controls",
          "model_name": "ProgressStyleModel",
          "model_module_version": "1.5.0",
          "state": {
            "_model_module": "@jupyter-widgets/controls",
            "_model_module_version": "1.5.0",
            "_model_name": "ProgressStyleModel",
            "_view_count": null,
            "_view_module": "@jupyter-widgets/base",
            "_view_module_version": "1.2.0",
            "_view_name": "StyleView",
            "bar_color": null,
            "description_width": ""
          }
        },
        "2c0d559a5082463eaa6d87ae013565d4": {
          "model_module": "@jupyter-widgets/base",
          "model_name": "LayoutModel",
          "model_module_version": "1.2.0",
          "state": {
            "_model_module": "@jupyter-widgets/base",
            "_model_module_version": "1.2.0",
            "_model_name": "LayoutModel",
            "_view_count": null,
            "_view_module": "@jupyter-widgets/base",
            "_view_module_version": "1.2.0",
            "_view_name": "LayoutView",
            "align_content": null,
            "align_items": null,
            "align_self": null,
            "border": null,
            "bottom": null,
            "display": null,
            "flex": null,
            "flex_flow": null,
            "grid_area": null,
            "grid_auto_columns": null,
            "grid_auto_flow": null,
            "grid_auto_rows": null,
            "grid_column": null,
            "grid_gap": null,
            "grid_row": null,
            "grid_template_areas": null,
            "grid_template_columns": null,
            "grid_template_rows": null,
            "height": null,
            "justify_content": null,
            "justify_items": null,
            "left": null,
            "margin": null,
            "max_height": null,
            "max_width": null,
            "min_height": null,
            "min_width": null,
            "object_fit": null,
            "object_position": null,
            "order": null,
            "overflow": null,
            "overflow_x": null,
            "overflow_y": null,
            "padding": null,
            "right": null,
            "top": null,
            "visibility": null,
            "width": null
          }
        },
        "7ef39b556d9b45f49b259a148d5ef85f": {
          "model_module": "@jupyter-widgets/controls",
          "model_name": "DescriptionStyleModel",
          "model_module_version": "1.5.0",
          "state": {
            "_model_module": "@jupyter-widgets/controls",
            "_model_module_version": "1.5.0",
            "_model_name": "DescriptionStyleModel",
            "_view_count": null,
            "_view_module": "@jupyter-widgets/base",
            "_view_module_version": "1.2.0",
            "_view_name": "StyleView",
            "description_width": ""
          }
        },
        "aa2093bb46da47928d0e294a493be4be": {
          "model_module": "@jupyter-widgets/controls",
          "model_name": "HBoxModel",
          "model_module_version": "1.5.0",
          "state": {
            "_dom_classes": [],
            "_model_module": "@jupyter-widgets/controls",
            "_model_module_version": "1.5.0",
            "_model_name": "HBoxModel",
            "_view_count": null,
            "_view_module": "@jupyter-widgets/controls",
            "_view_module_version": "1.5.0",
            "_view_name": "HBoxView",
            "box_style": "",
            "children": [
              "IPY_MODEL_6ebe0bda52434fd8a946dfd20df9534d",
              "IPY_MODEL_8e50e435ea2a479c9794e0f27219ef3b",
              "IPY_MODEL_945ab3d2a70740bf818b72199430dae0"
            ],
            "layout": "IPY_MODEL_7f44319b7ce543a58711460238a3b40f"
          }
        },
        "6ebe0bda52434fd8a946dfd20df9534d": {
          "model_module": "@jupyter-widgets/controls",
          "model_name": "HTMLModel",
          "model_module_version": "1.5.0",
          "state": {
            "_dom_classes": [],
            "_model_module": "@jupyter-widgets/controls",
            "_model_module_version": "1.5.0",
            "_model_name": "HTMLModel",
            "_view_count": null,
            "_view_module": "@jupyter-widgets/controls",
            "_view_module_version": "1.5.0",
            "_view_name": "HTMLView",
            "description": "",
            "description_tooltip": null,
            "layout": "IPY_MODEL_a20d6624c4664f1b87a8aeb613a632d9",
            "placeholder": "​",
            "style": "IPY_MODEL_5e9b084e3593447b8460d62fd860d0ec",
            "value": "100%"
          }
        },
        "8e50e435ea2a479c9794e0f27219ef3b": {
          "model_module": "@jupyter-widgets/controls",
          "model_name": "FloatProgressModel",
          "model_module_version": "1.5.0",
          "state": {
            "_dom_classes": [],
            "_model_module": "@jupyter-widgets/controls",
            "_model_module_version": "1.5.0",
            "_model_name": "FloatProgressModel",
            "_view_count": null,
            "_view_module": "@jupyter-widgets/controls",
            "_view_module_version": "1.5.0",
            "_view_name": "ProgressView",
            "bar_style": "success",
            "description": "",
            "description_tooltip": null,
            "layout": "IPY_MODEL_acba97304b3e49ba87bd1114eec83233",
            "max": 62155,
            "min": 0,
            "orientation": "horizontal",
            "style": "IPY_MODEL_96e7fa34c50145e7bb17d6452f5ec18c",
            "value": 62155
          }
        },
        "945ab3d2a70740bf818b72199430dae0": {
          "model_module": "@jupyter-widgets/controls",
          "model_name": "HTMLModel",
          "model_module_version": "1.5.0",
          "state": {
            "_dom_classes": [],
            "_model_module": "@jupyter-widgets/controls",
            "_model_module_version": "1.5.0",
            "_model_name": "HTMLModel",
            "_view_count": null,
            "_view_module": "@jupyter-widgets/controls",
            "_view_module_version": "1.5.0",
            "_view_name": "HTMLView",
            "description": "",
            "description_tooltip": null,
            "layout": "IPY_MODEL_18586b5b554d47a88149567e78fdd2c6",
            "placeholder": "​",
            "style": "IPY_MODEL_bcb0055844e9442a961d0d78beb20677",
            "value": " 62155/62155 [00:10&lt;00:00, 4924.08it/s]"
          }
        },
        "7f44319b7ce543a58711460238a3b40f": {
          "model_module": "@jupyter-widgets/base",
          "model_name": "LayoutModel",
          "model_module_version": "1.2.0",
          "state": {
            "_model_module": "@jupyter-widgets/base",
            "_model_module_version": "1.2.0",
            "_model_name": "LayoutModel",
            "_view_count": null,
            "_view_module": "@jupyter-widgets/base",
            "_view_module_version": "1.2.0",
            "_view_name": "LayoutView",
            "align_content": null,
            "align_items": null,
            "align_self": null,
            "border": null,
            "bottom": null,
            "display": null,
            "flex": null,
            "flex_flow": null,
            "grid_area": null,
            "grid_auto_columns": null,
            "grid_auto_flow": null,
            "grid_auto_rows": null,
            "grid_column": null,
            "grid_gap": null,
            "grid_row": null,
            "grid_template_areas": null,
            "grid_template_columns": null,
            "grid_template_rows": null,
            "height": null,
            "justify_content": null,
            "justify_items": null,
            "left": null,
            "margin": null,
            "max_height": null,
            "max_width": null,
            "min_height": null,
            "min_width": null,
            "object_fit": null,
            "object_position": null,
            "order": null,
            "overflow": null,
            "overflow_x": null,
            "overflow_y": null,
            "padding": null,
            "right": null,
            "top": null,
            "visibility": null,
            "width": null
          }
        },
        "a20d6624c4664f1b87a8aeb613a632d9": {
          "model_module": "@jupyter-widgets/base",
          "model_name": "LayoutModel",
          "model_module_version": "1.2.0",
          "state": {
            "_model_module": "@jupyter-widgets/base",
            "_model_module_version": "1.2.0",
            "_model_name": "LayoutModel",
            "_view_count": null,
            "_view_module": "@jupyter-widgets/base",
            "_view_module_version": "1.2.0",
            "_view_name": "LayoutView",
            "align_content": null,
            "align_items": null,
            "align_self": null,
            "border": null,
            "bottom": null,
            "display": null,
            "flex": null,
            "flex_flow": null,
            "grid_area": null,
            "grid_auto_columns": null,
            "grid_auto_flow": null,
            "grid_auto_rows": null,
            "grid_column": null,
            "grid_gap": null,
            "grid_row": null,
            "grid_template_areas": null,
            "grid_template_columns": null,
            "grid_template_rows": null,
            "height": null,
            "justify_content": null,
            "justify_items": null,
            "left": null,
            "margin": null,
            "max_height": null,
            "max_width": null,
            "min_height": null,
            "min_width": null,
            "object_fit": null,
            "object_position": null,
            "order": null,
            "overflow": null,
            "overflow_x": null,
            "overflow_y": null,
            "padding": null,
            "right": null,
            "top": null,
            "visibility": null,
            "width": null
          }
        },
        "5e9b084e3593447b8460d62fd860d0ec": {
          "model_module": "@jupyter-widgets/controls",
          "model_name": "DescriptionStyleModel",
          "model_module_version": "1.5.0",
          "state": {
            "_model_module": "@jupyter-widgets/controls",
            "_model_module_version": "1.5.0",
            "_model_name": "DescriptionStyleModel",
            "_view_count": null,
            "_view_module": "@jupyter-widgets/base",
            "_view_module_version": "1.2.0",
            "_view_name": "StyleView",
            "description_width": ""
          }
        },
        "acba97304b3e49ba87bd1114eec83233": {
          "model_module": "@jupyter-widgets/base",
          "model_name": "LayoutModel",
          "model_module_version": "1.2.0",
          "state": {
            "_model_module": "@jupyter-widgets/base",
            "_model_module_version": "1.2.0",
            "_model_name": "LayoutModel",
            "_view_count": null,
            "_view_module": "@jupyter-widgets/base",
            "_view_module_version": "1.2.0",
            "_view_name": "LayoutView",
            "align_content": null,
            "align_items": null,
            "align_self": null,
            "border": null,
            "bottom": null,
            "display": null,
            "flex": null,
            "flex_flow": null,
            "grid_area": null,
            "grid_auto_columns": null,
            "grid_auto_flow": null,
            "grid_auto_rows": null,
            "grid_column": null,
            "grid_gap": null,
            "grid_row": null,
            "grid_template_areas": null,
            "grid_template_columns": null,
            "grid_template_rows": null,
            "height": null,
            "justify_content": null,
            "justify_items": null,
            "left": null,
            "margin": null,
            "max_height": null,
            "max_width": null,
            "min_height": null,
            "min_width": null,
            "object_fit": null,
            "object_position": null,
            "order": null,
            "overflow": null,
            "overflow_x": null,
            "overflow_y": null,
            "padding": null,
            "right": null,
            "top": null,
            "visibility": null,
            "width": null
          }
        },
        "96e7fa34c50145e7bb17d6452f5ec18c": {
          "model_module": "@jupyter-widgets/controls",
          "model_name": "ProgressStyleModel",
          "model_module_version": "1.5.0",
          "state": {
            "_model_module": "@jupyter-widgets/controls",
            "_model_module_version": "1.5.0",
            "_model_name": "ProgressStyleModel",
            "_view_count": null,
            "_view_module": "@jupyter-widgets/base",
            "_view_module_version": "1.2.0",
            "_view_name": "StyleView",
            "bar_color": null,
            "description_width": ""
          }
        },
        "18586b5b554d47a88149567e78fdd2c6": {
          "model_module": "@jupyter-widgets/base",
          "model_name": "LayoutModel",
          "model_module_version": "1.2.0",
          "state": {
            "_model_module": "@jupyter-widgets/base",
            "_model_module_version": "1.2.0",
            "_model_name": "LayoutModel",
            "_view_count": null,
            "_view_module": "@jupyter-widgets/base",
            "_view_module_version": "1.2.0",
            "_view_name": "LayoutView",
            "align_content": null,
            "align_items": null,
            "align_self": null,
            "border": null,
            "bottom": null,
            "display": null,
            "flex": null,
            "flex_flow": null,
            "grid_area": null,
            "grid_auto_columns": null,
            "grid_auto_flow": null,
            "grid_auto_rows": null,
            "grid_column": null,
            "grid_gap": null,
            "grid_row": null,
            "grid_template_areas": null,
            "grid_template_columns": null,
            "grid_template_rows": null,
            "height": null,
            "justify_content": null,
            "justify_items": null,
            "left": null,
            "margin": null,
            "max_height": null,
            "max_width": null,
            "min_height": null,
            "min_width": null,
            "object_fit": null,
            "object_position": null,
            "order": null,
            "overflow": null,
            "overflow_x": null,
            "overflow_y": null,
            "padding": null,
            "right": null,
            "top": null,
            "visibility": null,
            "width": null
          }
        },
        "bcb0055844e9442a961d0d78beb20677": {
          "model_module": "@jupyter-widgets/controls",
          "model_name": "DescriptionStyleModel",
          "model_module_version": "1.5.0",
          "state": {
            "_model_module": "@jupyter-widgets/controls",
            "_model_module_version": "1.5.0",
            "_model_name": "DescriptionStyleModel",
            "_view_count": null,
            "_view_module": "@jupyter-widgets/base",
            "_view_module_version": "1.2.0",
            "_view_name": "StyleView",
            "description_width": ""
          }
        }
      }
    }
  },
  "nbformat": 4,
  "nbformat_minor": 0
}